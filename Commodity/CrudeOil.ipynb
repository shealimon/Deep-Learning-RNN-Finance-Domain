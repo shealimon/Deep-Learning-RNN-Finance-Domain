{
  "nbformat": 4,
  "nbformat_minor": 0,
  "metadata": {
    "colab": {
      "name": "CrudeOil.ipynb",
      "provenance": []
    },
    "kernelspec": {
      "name": "python3",
      "display_name": "Python 3"
    }
  },
  "cells": [
    {
      "cell_type": "code",
      "metadata": {
        "id": "_bDTYCO1f1a2",
        "colab_type": "code",
        "colab": {}
      },
      "source": [
        "import numpy as np\n",
        "import pandas as pd\n",
        "import matplotlib.pyplot as plt\n",
        "import io"
      ],
      "execution_count": 0,
      "outputs": []
    },
    {
      "cell_type": "code",
      "metadata": {
        "id": "JA75HCy_hCyH",
        "colab_type": "code",
        "outputId": "a46f27cd-15b1-4423-bdeb-ec8491b551bb",
        "colab": {
          "resources": {
            "http://localhost:8080/nbextensions/google.colab/files.js": {
              "data": "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",
              "ok": true,
              "headers": [
                [
                  "content-type",
                  "application/javascript"
                ]
              ],
              "status": 200,
              "status_text": ""
            }
          },
          "base_uri": "https://localhost:8080/",
          "height": 91
        }
      },
      "source": [
        "from google.colab import files\n",
        "uploaded = files.upload()\n",
        "\n",
        "for fn in uploaded.keys():\n",
        "  print('User uploaded file \"{name}\" with length {length} bytes'.format(\n",
        "      name = fn, length = len(uploaded[fn])))"
      ],
      "execution_count": 44,
      "outputs": [
        {
          "output_type": "display_data",
          "data": {
            "text/html": [
              "\n",
              "     <input type=\"file\" id=\"files-29979042-95e4-4d5c-833b-a91f29a83c40\" name=\"files[]\" multiple disabled />\n",
              "     <output id=\"result-29979042-95e4-4d5c-833b-a91f29a83c40\">\n",
              "      Upload widget is only available when the cell has been executed in the\n",
              "      current browser session. Please rerun this cell to enable.\n",
              "      </output>\n",
              "      <script src=\"/nbextensions/google.colab/files.js\"></script> "
            ],
            "text/plain": [
              "<IPython.core.display.HTML object>"
            ]
          },
          "metadata": {
            "tags": []
          }
        },
        {
          "output_type": "stream",
          "text": [
            "Saving Crude Oil.csv to Crude Oil.csv\n",
            "User uploaded file \"Crude Oil.csv\" with length 391406 bytes\n"
          ],
          "name": "stdout"
        }
      ]
    },
    {
      "cell_type": "code",
      "metadata": {
        "id": "-fSFn74Jhqrj",
        "colab_type": "code",
        "colab": {}
      },
      "source": [
        "df = pd.read_csv(\"Crude Oil.csv\")"
      ],
      "execution_count": 0,
      "outputs": []
    },
    {
      "cell_type": "code",
      "metadata": {
        "id": "4N1sT9lYhxg8",
        "colab_type": "code",
        "outputId": "60c7dd49-3705-4073-b000-d03eae1c5122",
        "colab": {
          "base_uri": "https://localhost:8080/",
          "height": 196
        }
      },
      "source": [
        "df.head()"
      ],
      "execution_count": 46,
      "outputs": [
        {
          "output_type": "execute_result",
          "data": {
            "text/html": [
              "<div>\n",
              "<style scoped>\n",
              "    .dataframe tbody tr th:only-of-type {\n",
              "        vertical-align: middle;\n",
              "    }\n",
              "\n",
              "    .dataframe tbody tr th {\n",
              "        vertical-align: top;\n",
              "    }\n",
              "\n",
              "    .dataframe thead th {\n",
              "        text-align: right;\n",
              "    }\n",
              "</style>\n",
              "<table border=\"1\" class=\"dataframe\">\n",
              "  <thead>\n",
              "    <tr style=\"text-align: right;\">\n",
              "      <th></th>\n",
              "      <th>Date</th>\n",
              "      <th>Open</th>\n",
              "      <th>High</th>\n",
              "      <th>Low</th>\n",
              "      <th>Close</th>\n",
              "      <th>Adj Close</th>\n",
              "      <th>Volume</th>\n",
              "    </tr>\n",
              "  </thead>\n",
              "  <tbody>\n",
              "    <tr>\n",
              "      <th>0</th>\n",
              "      <td>2000-03-22</td>\n",
              "      <td>27.65</td>\n",
              "      <td>28.250000</td>\n",
              "      <td>27.250000</td>\n",
              "      <td>27.459999</td>\n",
              "      <td>27.459999</td>\n",
              "      <td>92302.0</td>\n",
              "    </tr>\n",
              "    <tr>\n",
              "      <th>1</th>\n",
              "      <td>2000-03-23</td>\n",
              "      <td>27.65</td>\n",
              "      <td>27.780001</td>\n",
              "      <td>27.160000</td>\n",
              "      <td>27.309999</td>\n",
              "      <td>27.309999</td>\n",
              "      <td>79373.0</td>\n",
              "    </tr>\n",
              "    <tr>\n",
              "      <th>2</th>\n",
              "      <td>2000-03-24</td>\n",
              "      <td>27.85</td>\n",
              "      <td>28.150000</td>\n",
              "      <td>27.549999</td>\n",
              "      <td>27.980000</td>\n",
              "      <td>27.980000</td>\n",
              "      <td>55693.0</td>\n",
              "    </tr>\n",
              "    <tr>\n",
              "      <th>3</th>\n",
              "      <td>2000-03-26</td>\n",
              "      <td>NaN</td>\n",
              "      <td>NaN</td>\n",
              "      <td>NaN</td>\n",
              "      <td>NaN</td>\n",
              "      <td>NaN</td>\n",
              "      <td>NaN</td>\n",
              "    </tr>\n",
              "    <tr>\n",
              "      <th>4</th>\n",
              "      <td>2000-03-27</td>\n",
              "      <td>27.65</td>\n",
              "      <td>28.020000</td>\n",
              "      <td>27.410000</td>\n",
              "      <td>27.730000</td>\n",
              "      <td>27.730000</td>\n",
              "      <td>59199.0</td>\n",
              "    </tr>\n",
              "  </tbody>\n",
              "</table>\n",
              "</div>"
            ],
            "text/plain": [
              "         Date   Open       High        Low      Close  Adj Close   Volume\n",
              "0  2000-03-22  27.65  28.250000  27.250000  27.459999  27.459999  92302.0\n",
              "1  2000-03-23  27.65  27.780001  27.160000  27.309999  27.309999  79373.0\n",
              "2  2000-03-24  27.85  28.150000  27.549999  27.980000  27.980000  55693.0\n",
              "3  2000-03-26    NaN        NaN        NaN        NaN        NaN      NaN\n",
              "4  2000-03-27  27.65  28.020000  27.410000  27.730000  27.730000  59199.0"
            ]
          },
          "metadata": {
            "tags": []
          },
          "execution_count": 46
        }
      ]
    },
    {
      "cell_type": "code",
      "metadata": {
        "id": "fW7f0mXXh2Sm",
        "colab_type": "code",
        "outputId": "9f5342d8-9131-4505-f6eb-b06ea0f2fcf3",
        "colab": {
          "base_uri": "https://localhost:8080/",
          "height": 33
        }
      },
      "source": [
        "print(df.shape)"
      ],
      "execution_count": 47,
      "outputs": [
        {
          "output_type": "stream",
          "text": [
            "(6193, 7)\n"
          ],
          "name": "stdout"
        }
      ]
    },
    {
      "cell_type": "code",
      "metadata": {
        "id": "nZU4rsfah2b0",
        "colab_type": "code",
        "outputId": "ad4ccede-b022-4951-a767-1af8d7e3989e",
        "colab": {
          "base_uri": "https://localhost:8080/",
          "height": 150
        }
      },
      "source": [
        "df.isnull().sum()"
      ],
      "execution_count": 50,
      "outputs": [
        {
          "output_type": "execute_result",
          "data": {
            "text/plain": [
              "Date         0\n",
              "Open         0\n",
              "High         0\n",
              "Low          0\n",
              "Close        0\n",
              "Adj Close    0\n",
              "Volume       0\n",
              "dtype: int64"
            ]
          },
          "metadata": {
            "tags": []
          },
          "execution_count": 50
        }
      ]
    },
    {
      "cell_type": "code",
      "metadata": {
        "id": "j6Q8gGV56HWt",
        "colab_type": "code",
        "colab": {}
      },
      "source": [
        "# Fill NAN or null value \n",
        "\n",
        "df[\"Open\"].fillna( method ='ffill', inplace = True)\n",
        "df[\"High\"].fillna( method ='ffill', inplace = True)\n",
        "df[\"Low\"].fillna( method ='ffill', inplace = True)\n",
        "df[\"Close\"].fillna( method ='ffill', inplace = True)\n",
        "df[\"Adj Close\"].fillna( method ='ffill', inplace = True)\n",
        "df[\"Volume\"].fillna( method ='ffill', inplace = True)\n"
      ],
      "execution_count": 0,
      "outputs": []
    },
    {
      "cell_type": "code",
      "metadata": {
        "id": "FLwhWcq7iWyl",
        "colab_type": "code",
        "outputId": "189e0d93-6144-4263-f7c3-be6301cd6607",
        "colab": {
          "base_uri": "https://localhost:8080/",
          "height": 342
        }
      },
      "source": [
        "f, axs = plt.subplots(1, 1, figsize = (10, 10))\n",
        "\n",
        "close_price = df[\"Close\"]\n",
        "Date = df['Date']\n",
        "\n",
        "plt.subplot(212)\n",
        "plt.grid(True)\n",
        "\n",
        "plt.xlabel('Time')\n",
        "plt.ylabel(\"Close Price\")\n",
        "plt.title('Price Vs Time')\n",
        "\n",
        "plt.plot(close_price, 'g')"
      ],
      "execution_count": 51,
      "outputs": [
        {
          "output_type": "execute_result",
          "data": {
            "text/plain": [
              "[<matplotlib.lines.Line2D at 0x7f0e0038de48>]"
            ]
          },
          "metadata": {
            "tags": []
          },
          "execution_count": 51
        },
        {
          "output_type": "display_data",
          "data": {
            "image/png": "[encoded data removed]",
            "text/plain": [
              "<Figure size 720x720 with 1 Axes>"
            ]
          },
          "metadata": {
            "tags": [],
            "needs_background": "light"
          }
        }
      ]
    },
    {
      "cell_type": "code",
      "metadata": {
        "id": "e_-KuWwQiW1z",
        "colab_type": "code",
        "colab": {}
      },
      "source": [
        "company_close = df.Close.values.astype('float32')\n",
        "company_close = company_close.reshape(-1, 1)\n",
        "closing_stock = company_close"
      ],
      "execution_count": 0,
      "outputs": []
    },
    {
      "cell_type": "code",
      "metadata": {
        "id": "sGgUXxL4iW5Z",
        "colab_type": "code",
        "outputId": "bce825b5-e103-4630-d856-435e447e222a",
        "colab": {
          "base_uri": "https://localhost:8080/",
          "height": 33
        }
      },
      "source": [
        "closing_stock[: , 0]"
      ],
      "execution_count": 53,
      "outputs": [
        {
          "output_type": "execute_result",
          "data": {
            "text/plain": [
              "array([27.46, 27.31, 27.98, ..., 33.23, 32.36, 33.6 ], dtype=float32)"
            ]
          },
          "metadata": {
            "tags": []
          },
          "execution_count": 53
        }
      ]
    },
    {
      "cell_type": "code",
      "metadata": {
        "id": "W_KQTRVrjLEf",
        "colab_type": "code",
        "outputId": "f3ce0cc4-da5f-46e2-ad80-f3a717fa94b8",
        "colab": {
          "base_uri": "https://localhost:8080/",
          "height": 33
        }
      },
      "source": [
        "stocks = closing_stock[: , 0]\n",
        "print(stocks)\n",
        "stocks = stocks.reshape(len(stocks) , 1)"
      ],
      "execution_count": 54,
      "outputs": [
        {
          "output_type": "stream",
          "text": [
            "[27.46 27.31 27.98 ... 33.23 32.36 33.6 ]\n"
          ],
          "name": "stdout"
        }
      ]
    },
    {
      "cell_type": "code",
      "metadata": {
        "id": "K1ksv4qQjLbT",
        "colab_type": "code",
        "colab": {}
      },
      "source": [
        "#Feature scaling the vector for better model performance.\n",
        "\n",
        "from sklearn.preprocessing import MinMaxScaler\n",
        "scaler = MinMaxScaler(feature_range = (0, 1))\n",
        "stocks = scaler.fit_transform(stocks)"
      ],
      "execution_count": 0,
      "outputs": []
    },
    {
      "cell_type": "code",
      "metadata": {
        "id": "zwVbYiV8jWSd",
        "colab_type": "code",
        "colab": {}
      },
      "source": [
        "train = int(len(stocks) * 0.80)\n",
        "test = len(stocks) - train"
      ],
      "execution_count": 0,
      "outputs": []
    },
    {
      "cell_type": "code",
      "metadata": {
        "id": "98m9f8UBjWYj",
        "colab_type": "code",
        "outputId": "f639022d-5992-4d51-bd44-09c9918db806",
        "colab": {
          "base_uri": "https://localhost:8080/",
          "height": 33
        }
      },
      "source": [
        "print(train, test)"
      ],
      "execution_count": 57,
      "outputs": [
        {
          "output_type": "stream",
          "text": [
            "4954 1239\n"
          ],
          "name": "stdout"
        }
      ]
    },
    {
      "cell_type": "code",
      "metadata": {
        "id": "-1AvDKSUjWV1",
        "colab_type": "code",
        "outputId": "15137874-a67e-4c0c-f7fd-2045f9a16d58",
        "colab": {
          "base_uri": "https://localhost:8080/",
          "height": 134
        }
      },
      "source": [
        "train = stocks[ 0 : train]\n",
        "print(train)"
      ],
      "execution_count": 58,
      "outputs": [
        {
          "output_type": "stream",
          "text": [
            "[[0.2040568 ]\n",
            " [0.2030426 ]\n",
            " [0.20757268]\n",
            " ...\n",
            " [0.28735632]\n",
            " [0.29614606]\n",
            " [0.3066261 ]]\n"
          ],
          "name": "stdout"
        }
      ]
    },
    {
      "cell_type": "code",
      "metadata": {
        "id": "MdbB2bCxjcWG",
        "colab_type": "code",
        "colab": {}
      },
      "source": [
        "test = stocks[len(train) : ]"
      ],
      "execution_count": 0,
      "outputs": []
    },
    {
      "cell_type": "code",
      "metadata": {
        "id": "vcMlDfWVjcZh",
        "colab_type": "code",
        "colab": {}
      },
      "source": [
        "train = train.reshape(len(train) , 1)\n",
        "test = test.reshape(len(test) , 1)"
      ],
      "execution_count": 0,
      "outputs": []
    },
    {
      "cell_type": "code",
      "metadata": {
        "id": "d0h5tTC2jn72",
        "colab_type": "code",
        "outputId": "d7a6d1ae-5079-4e00-853a-236b84f13ad0",
        "colab": {
          "base_uri": "https://localhost:8080/",
          "height": 33
        }
      },
      "source": [
        "print(train.shape , test.shape)"
      ],
      "execution_count": 61,
      "outputs": [
        {
          "output_type": "stream",
          "text": [
            "(4954, 1) (1239, 1)\n"
          ],
          "name": "stdout"
        }
      ]
    },
    {
      "cell_type": "code",
      "metadata": {
        "id": "thxzGJ-kjoD9",
        "colab_type": "code",
        "colab": {}
      },
      "source": [
        "# Process_data for the required input for LSTM.\n",
        "\n",
        "def process_data(data , n_features):\n",
        "    dataX, dataY = [], []\n",
        "    for i in range(len(data) - n_features - 1):\n",
        "        a = data[i : (i + n_features), 0]\n",
        "        dataX.append(a)\n",
        "        dataY.append(data[i + n_features, 0])\n",
        "    return np.array(dataX), np.array(dataY)"
      ],
      "execution_count": 0,
      "outputs": []
    },
    {
      "cell_type": "code",
      "metadata": {
        "id": "1ewZI8Mmjuec",
        "colab_type": "code",
        "colab": {}
      },
      "source": [
        "#Here I am taking 2 past values to predict a single value. This has already been checked and optimized after taking several cases.\n",
        "\n",
        "n_features = 2\n",
        "\n",
        "trainX, trainY = process_data(train, n_features)\n",
        "testX, testY = process_data(test, n_features)"
      ],
      "execution_count": 0,
      "outputs": []
    },
    {
      "cell_type": "code",
      "metadata": {
        "id": "3Tfkurzcjuhk",
        "colab_type": "code",
        "outputId": "0115905f-6982-4399-f3ce-da55bef887da",
        "colab": {
          "base_uri": "https://localhost:8080/",
          "height": 33
        }
      },
      "source": [
        "print(trainX.shape , trainY.shape , testX.shape , testY.shape)"
      ],
      "execution_count": 64,
      "outputs": [
        {
          "output_type": "stream",
          "text": [
            "(4951, 2) (4951,) (1236, 2) (1236,)\n"
          ],
          "name": "stdout"
        }
      ]
    },
    {
      "cell_type": "code",
      "metadata": {
        "id": "Y59jLs7BjyyM",
        "colab_type": "code",
        "colab": {}
      },
      "source": [
        "#Reshaping again for required LSTM input as (sample , timestamp , features per sample).\n",
        "\n",
        "#Here I am taking timestamp as 1.\n",
        "\n",
        "trainX = trainX.reshape(trainX.shape[0] , 1 ,trainX.shape[1])\n",
        "testX = testX.reshape(testX.shape[0] , 1 ,testX.shape[1])"
      ],
      "execution_count": 0,
      "outputs": []
    },
    {
      "cell_type": "code",
      "metadata": {
        "id": "PIpIm2S7jy2p",
        "colab_type": "code",
        "colab": {}
      },
      "source": [
        "import math\n",
        "\n",
        "from keras.models import Sequential\n",
        "from keras.layers import Dense , BatchNormalization , Dropout , Activation\n",
        "from keras.layers import LSTM , GRU\n",
        "from keras.optimizers import Adam , SGD , RMSprop\n",
        "\n",
        "from sklearn.preprocessing import MinMaxScaler\n",
        "from sklearn.metrics import mean_squared_error\n"
      ],
      "execution_count": 0,
      "outputs": []
    },
    {
      "cell_type": "code",
      "metadata": {
        "id": "aG0H9y5ij4aT",
        "colab_type": "code",
        "outputId": "4266d2b0-fc60-4bb8-a8f1-3878471b18d1",
        "colab": {
          "base_uri": "https://localhost:8080/",
          "height": 50
        }
      },
      "source": [
        "#Checkpointing the model when required and using other callbacks.\n",
        "\n",
        "filepath=\"stock_weights.hdf5\"\n",
        "from keras.callbacks import ReduceLROnPlateau , ModelCheckpoint\n",
        "lr_reduce = ReduceLROnPlateau(monitor='val_loss', factor=0.1, epsilon=0.0001, patience=1, verbose=1)\n",
        "checkpoint = ModelCheckpoint(filepath, monitor='val_loss', verbose=1, save_best_only=True, mode='max')"
      ],
      "execution_count": 67,
      "outputs": [
        {
          "output_type": "stream",
          "text": [
            "/usr/local/lib/python3.6/dist-packages/keras/callbacks/callbacks.py:998: UserWarning: `epsilon` argument is deprecated and will be removed, use `min_delta` instead.\n",
            "  warnings.warn('`epsilon` argument is deprecated and '\n"
          ],
          "name": "stderr"
        }
      ]
    },
    {
      "cell_type": "code",
      "metadata": {
        "id": "gK5Qvecgj41F",
        "colab_type": "code",
        "outputId": "a6ec32f4-98c0-49ea-be69-549d9c824505",
        "colab": {
          "base_uri": "https://localhost:8080/",
          "height": 368
        }
      },
      "source": [
        "# Build Model\n",
        "\n",
        "model = Sequential()\n",
        "model.add(GRU(512, input_shape = (1 , n_features) , return_sequences = True)) # previous 256\n",
        "model.add(Dropout(0.4))\n",
        "model.add(LSTM(512))                # previous 256\n",
        "model.add(Dropout(0.4))\n",
        "model.add(Dense(128, activation = 'relu')) # previous 64\n",
        "model.add(Dense(1))\n",
        "\n",
        "print(model.summary())"
      ],
      "execution_count": 68,
      "outputs": [
        {
          "output_type": "stream",
          "text": [
            "Model: \"sequential_2\"\n",
            "_________________________________________________________________\n",
            "Layer (type)                 Output Shape              Param #   \n",
            "=================================================================\n",
            "gru_2 (GRU)                  (None, 1, 512)            791040    \n",
            "_________________________________________________________________\n",
            "dropout_3 (Dropout)          (None, 1, 512)            0         \n",
            "_________________________________________________________________\n",
            "lstm_2 (LSTM)                (None, 512)               2099200   \n",
            "_________________________________________________________________\n",
            "dropout_4 (Dropout)          (None, 512)               0         \n",
            "_________________________________________________________________\n",
            "dense_3 (Dense)              (None, 128)               65664     \n",
            "_________________________________________________________________\n",
            "dense_4 (Dense)              (None, 1)                 129       \n",
            "=================================================================\n",
            "Total params: 2,956,033\n",
            "Trainable params: 2,956,033\n",
            "Non-trainable params: 0\n",
            "_________________________________________________________________\n",
            "None\n"
          ],
          "name": "stdout"
        }
      ]
    },
    {
      "cell_type": "code",
      "metadata": {
        "id": "dHsn0f_Uj44K",
        "colab_type": "code",
        "colab": {}
      },
      "source": [
        "# Compile Model\n",
        "\n",
        "model.compile(loss = 'mean_squared_error', optimizer = Adam(lr = 0.0005), metrics = ['mean_squared_error'])\n"
      ],
      "execution_count": 0,
      "outputs": []
    },
    {
      "cell_type": "code",
      "metadata": {
        "id": "nVvnrRTmj-8x",
        "colab_type": "code",
        "outputId": "f07e2c55-29d7-4593-e070-7f75c28471b8",
        "colab": {
          "base_uri": "https://localhost:8080/",
          "height": 1000
        }
      },
      "source": [
        "# Run Model\n",
        "\n",
        "history = model.fit(trainX, trainY, epochs = 100 , batch_size = 32, \n",
        "          callbacks = [checkpoint , lr_reduce] , validation_data = (testX, testY))"
      ],
      "execution_count": 70,
      "outputs": [
        {
          "output_type": "stream",
          "text": [
            "Train on 4951 samples, validate on 1236 samples\n",
            "Epoch 1/100\n",
            "4951/4951 [==============================] - 13s 3ms/step - loss: 0.0138 - mean_squared_error: 0.0138 - val_loss: 9.0073e-05 - val_mean_squared_error: 9.0073e-05\n",
            "\n",
            "Epoch 00001: val_loss improved from -inf to 0.00009, saving model to stock_weights.hdf5\n",
            "Epoch 2/100\n",
            "4951/4951 [==============================] - 11s 2ms/step - loss: 8.9281e-04 - mean_squared_error: 8.9281e-04 - val_loss: 1.1507e-04 - val_mean_squared_error: 1.1507e-04\n",
            "\n",
            "Epoch 00002: val_loss improved from 0.00009 to 0.00012, saving model to stock_weights.hdf5\n",
            "\n",
            "Epoch 00002: ReduceLROnPlateau reducing learning rate to 5.0000002374872565e-05.\n",
            "Epoch 3/100\n",
            "4951/4951 [==============================] - 11s 2ms/step - loss: 7.8895e-04 - mean_squared_error: 7.8895e-04 - val_loss: 8.9924e-05 - val_mean_squared_error: 8.9924e-05\n",
            "\n",
            "Epoch 00003: val_loss did not improve from 0.00012\n",
            "\n",
            "Epoch 00003: ReduceLROnPlateau reducing learning rate to 5.000000237487257e-06.\n",
            "Epoch 4/100\n",
            "4951/4951 [==============================] - 11s 2ms/step - loss: 7.7507e-04 - mean_squared_error: 7.7507e-04 - val_loss: 9.4229e-05 - val_mean_squared_error: 9.4229e-05\n",
            "\n",
            "Epoch 00004: val_loss did not improve from 0.00012\n",
            "\n",
            "Epoch 00004: ReduceLROnPlateau reducing learning rate to 5.000000328436726e-07.\n",
            "Epoch 5/100\n",
            "4951/4951 [==============================] - 11s 2ms/step - loss: 7.7145e-04 - mean_squared_error: 7.7145e-04 - val_loss: 9.3645e-05 - val_mean_squared_error: 9.3645e-05\n",
            "\n",
            "Epoch 00005: val_loss did not improve from 0.00012\n",
            "\n",
            "Epoch 00005: ReduceLROnPlateau reducing learning rate to 5.000000555810402e-08.\n",
            "Epoch 6/100\n",
            "4951/4951 [==============================] - 11s 2ms/step - loss: 7.7958e-04 - mean_squared_error: 7.7958e-04 - val_loss: 9.3532e-05 - val_mean_squared_error: 9.3532e-05\n",
            "\n",
            "Epoch 00006: val_loss did not improve from 0.00012\n",
            "\n",
            "Epoch 00006: ReduceLROnPlateau reducing learning rate to 5.000000413701855e-09.\n",
            "Epoch 7/100\n",
            "4951/4951 [==============================] - 11s 2ms/step - loss: 7.6589e-04 - mean_squared_error: 7.6589e-04 - val_loss: 9.3523e-05 - val_mean_squared_error: 9.3523e-05\n",
            "\n",
            "Epoch 00007: val_loss did not improve from 0.00012\n",
            "\n",
            "Epoch 00007: ReduceLROnPlateau reducing learning rate to 5.000000413701855e-10.\n",
            "Epoch 8/100\n",
            "4951/4951 [==============================] - 11s 2ms/step - loss: 7.5786e-04 - mean_squared_error: 7.5786e-04 - val_loss: 9.3523e-05 - val_mean_squared_error: 9.3523e-05\n",
            "\n",
            "Epoch 00008: val_loss did not improve from 0.00012\n",
            "\n",
            "Epoch 00008: ReduceLROnPlateau reducing learning rate to 5.000000413701855e-11.\n",
            "Epoch 9/100\n",
            "4951/4951 [==============================] - 11s 2ms/step - loss: 7.9082e-04 - mean_squared_error: 7.9082e-04 - val_loss: 9.3523e-05 - val_mean_squared_error: 9.3523e-05\n",
            "\n",
            "Epoch 00009: val_loss did not improve from 0.00012\n",
            "\n",
            "Epoch 00009: ReduceLROnPlateau reducing learning rate to 5.000000413701855e-12.\n",
            "Epoch 10/100\n",
            "4951/4951 [==============================] - 11s 2ms/step - loss: 7.7940e-04 - mean_squared_error: 7.7940e-04 - val_loss: 9.3523e-05 - val_mean_squared_error: 9.3523e-05\n",
            "\n",
            "Epoch 00010: val_loss did not improve from 0.00012\n",
            "\n",
            "Epoch 00010: ReduceLROnPlateau reducing learning rate to 5.000000413701855e-13.\n",
            "Epoch 11/100\n",
            "4951/4951 [==============================] - 12s 2ms/step - loss: 7.7487e-04 - mean_squared_error: 7.7487e-04 - val_loss: 9.3523e-05 - val_mean_squared_error: 9.3523e-05\n",
            "\n",
            "Epoch 00011: val_loss did not improve from 0.00012\n",
            "\n",
            "Epoch 00011: ReduceLROnPlateau reducing learning rate to 5.0000005221220725e-14.\n",
            "Epoch 12/100\n",
            "4951/4951 [==============================] - 12s 2ms/step - loss: 8.0737e-04 - mean_squared_error: 8.0737e-04 - val_loss: 9.3523e-05 - val_mean_squared_error: 9.3523e-05\n",
            "\n",
            "Epoch 00012: val_loss did not improve from 0.00012\n",
            "\n",
            "Epoch 00012: ReduceLROnPlateau reducing learning rate to 5.000000589884709e-15.\n",
            "Epoch 13/100\n",
            "4951/4951 [==============================] - 11s 2ms/step - loss: 7.2959e-04 - mean_squared_error: 7.2959e-04 - val_loss: 9.3523e-05 - val_mean_squared_error: 9.3523e-05\n",
            "\n",
            "Epoch 00013: val_loss did not improve from 0.00012\n",
            "\n",
            "Epoch 00013: ReduceLROnPlateau reducing learning rate to 5.000000759291298e-16.\n",
            "Epoch 14/100\n",
            "4951/4951 [==============================] - 11s 2ms/step - loss: 8.1166e-04 - mean_squared_error: 8.1166e-04 - val_loss: 9.3523e-05 - val_mean_squared_error: 9.3523e-05\n",
            "\n",
            "Epoch 00014: val_loss did not improve from 0.00012\n",
            "\n",
            "Epoch 00014: ReduceLROnPlateau reducing learning rate to 5.000000547533061e-17.\n",
            "Epoch 15/100\n",
            "4951/4951 [==============================] - 11s 2ms/step - loss: 7.7295e-04 - mean_squared_error: 7.7295e-04 - val_loss: 9.3523e-05 - val_mean_squared_error: 9.3523e-05\n",
            "\n",
            "Epoch 00015: val_loss did not improve from 0.00012\n",
            "\n",
            "Epoch 00015: ReduceLROnPlateau reducing learning rate to 5.000000415184163e-18.\n",
            "Epoch 16/100\n",
            "4951/4951 [==============================] - 11s 2ms/step - loss: 7.8580e-04 - mean_squared_error: 7.8580e-04 - val_loss: 9.3523e-05 - val_mean_squared_error: 9.3523e-05\n",
            "\n",
            "Epoch 00016: val_loss did not improve from 0.00012\n",
            "\n",
            "Epoch 00016: ReduceLROnPlateau reducing learning rate to 5.000000332466102e-19.\n",
            "Epoch 17/100\n",
            "4951/4951 [==============================] - 11s 2ms/step - loss: 7.6923e-04 - mean_squared_error: 7.6923e-04 - val_loss: 9.3523e-05 - val_mean_squared_error: 9.3523e-05\n",
            "\n",
            "Epoch 00017: val_loss did not improve from 0.00012\n",
            "\n",
            "Epoch 00017: ReduceLROnPlateau reducing learning rate to 5.000000229068525e-20.\n",
            "Epoch 18/100\n",
            "4951/4951 [==============================] - 11s 2ms/step - loss: 7.5965e-04 - mean_squared_error: 7.5965e-04 - val_loss: 9.3523e-05 - val_mean_squared_error: 9.3523e-05\n",
            "\n",
            "Epoch 00018: val_loss did not improve from 0.00012\n",
            "\n",
            "Epoch 00018: ReduceLROnPlateau reducing learning rate to 5.00000016444504e-21.\n",
            "Epoch 19/100\n",
            "4951/4951 [==============================] - 11s 2ms/step - loss: 7.4359e-04 - mean_squared_error: 7.4359e-04 - val_loss: 9.3523e-05 - val_mean_squared_error: 9.3523e-05\n",
            "\n",
            "Epoch 00019: val_loss did not improve from 0.00012\n",
            "\n",
            "Epoch 00019: ReduceLROnPlateau reducing learning rate to 5.000000245224397e-22.\n",
            "Epoch 20/100\n",
            "4951/4951 [==============================] - 11s 2ms/step - loss: 7.4369e-04 - mean_squared_error: 7.4369e-04 - val_loss: 9.3523e-05 - val_mean_squared_error: 9.3523e-05\n",
            "\n",
            "Epoch 00020: val_loss did not improve from 0.00012\n",
            "\n",
            "Epoch 00020: ReduceLROnPlateau reducing learning rate to 5.0000003461985925e-23.\n",
            "Epoch 21/100\n",
            "4951/4951 [==============================] - 11s 2ms/step - loss: 8.1147e-04 - mean_squared_error: 8.1147e-04 - val_loss: 9.3523e-05 - val_mean_squared_error: 9.3523e-05\n",
            "\n",
            "Epoch 00021: val_loss did not improve from 0.00012\n",
            "\n",
            "Epoch 00021: ReduceLROnPlateau reducing learning rate to 5.000000472416337e-24.\n",
            "Epoch 22/100\n",
            "4951/4951 [==============================] - 12s 2ms/step - loss: 7.7486e-04 - mean_squared_error: 7.7486e-04 - val_loss: 9.3523e-05 - val_mean_squared_error: 9.3523e-05\n",
            "\n",
            "Epoch 00022: val_loss did not improve from 0.00012\n",
            "\n",
            "Epoch 00022: ReduceLROnPlateau reducing learning rate to 5.000000393530247e-25.\n",
            "Epoch 23/100\n",
            "4951/4951 [==============================] - 11s 2ms/step - loss: 7.5501e-04 - mean_squared_error: 7.5501e-04 - val_loss: 9.3523e-05 - val_mean_squared_error: 9.3523e-05\n",
            "\n",
            "Epoch 00023: val_loss did not improve from 0.00012\n",
            "\n",
            "Epoch 00023: ReduceLROnPlateau reducing learning rate to 5.000000590745473e-26.\n",
            "Epoch 24/100\n",
            "4951/4951 [==============================] - 11s 2ms/step - loss: 7.9498e-04 - mean_squared_error: 7.9498e-04 - val_loss: 9.3523e-05 - val_mean_squared_error: 9.3523e-05\n",
            "\n",
            "Epoch 00024: val_loss did not improve from 0.00012\n",
            "\n",
            "Epoch 00024: ReduceLROnPlateau reducing learning rate to 5.000000714004989e-27.\n",
            "Epoch 25/100\n",
            "4951/4951 [==============================] - 11s 2ms/step - loss: 7.7708e-04 - mean_squared_error: 7.7708e-04 - val_loss: 9.3523e-05 - val_mean_squared_error: 9.3523e-05\n",
            "\n",
            "Epoch 00025: val_loss did not improve from 0.00012\n",
            "\n",
            "Epoch 00025: ReduceLROnPlateau reducing learning rate to 5.00000071400499e-28.\n",
            "Epoch 26/100\n",
            "4951/4951 [==============================] - 11s 2ms/step - loss: 8.0953e-04 - mean_squared_error: 8.0953e-04 - val_loss: 9.3523e-05 - val_mean_squared_error: 9.3523e-05\n",
            "\n",
            "Epoch 00026: val_loss did not improve from 0.00012\n",
            "\n",
            "Epoch 00026: ReduceLROnPlateau reducing learning rate to 5.000000617708492e-29.\n",
            "Epoch 27/100\n",
            "4951/4951 [==============================] - 11s 2ms/step - loss: 7.9484e-04 - mean_squared_error: 7.9484e-04 - val_loss: 9.3523e-05 - val_mean_squared_error: 9.3523e-05\n",
            "\n",
            "Epoch 00027: val_loss did not improve from 0.00012\n",
            "\n",
            "Epoch 00027: ReduceLROnPlateau reducing learning rate to 5.0000006177084924e-30.\n",
            "Epoch 28/100\n",
            "4951/4951 [==============================] - 11s 2ms/step - loss: 7.7681e-04 - mean_squared_error: 7.7681e-04 - val_loss: 9.3523e-05 - val_mean_squared_error: 9.3523e-05\n",
            "\n",
            "Epoch 00028: val_loss did not improve from 0.00012\n",
            "\n",
            "Epoch 00028: ReduceLROnPlateau reducing learning rate to 5.0000007681717695e-31.\n",
            "Epoch 29/100\n",
            "4951/4951 [==============================] - 11s 2ms/step - loss: 7.7519e-04 - mean_squared_error: 7.7519e-04 - val_loss: 9.3523e-05 - val_mean_squared_error: 9.3523e-05\n",
            "\n",
            "Epoch 00029: val_loss did not improve from 0.00012\n",
            "\n",
            "Epoch 00029: ReduceLROnPlateau reducing learning rate to 5.000000956250865e-32.\n",
            "Epoch 30/100\n",
            "4951/4951 [==============================] - 11s 2ms/step - loss: 7.7081e-04 - mean_squared_error: 7.7081e-04 - val_loss: 9.3523e-05 - val_mean_squared_error: 9.3523e-05\n",
            "\n",
            "Epoch 00030: val_loss did not improve from 0.00012\n",
            "\n",
            "Epoch 00030: ReduceLROnPlateau reducing learning rate to 5.0000010738003005e-33.\n",
            "Epoch 31/100\n",
            "4951/4951 [==============================] - 11s 2ms/step - loss: 7.5488e-04 - mean_squared_error: 7.5488e-04 - val_loss: 9.3523e-05 - val_mean_squared_error: 9.3523e-05\n",
            "\n",
            "Epoch 00031: val_loss did not improve from 0.00012\n",
            "\n",
            "Epoch 00031: ReduceLROnPlateau reducing learning rate to 5.000001220737094e-34.\n",
            "Epoch 32/100\n",
            "4951/4951 [==============================] - 11s 2ms/step - loss: 7.7030e-04 - mean_squared_error: 7.7030e-04 - val_loss: 9.3523e-05 - val_mean_squared_error: 9.3523e-05\n",
            "\n",
            "Epoch 00032: val_loss did not improve from 0.00012\n",
            "\n",
            "Epoch 00032: ReduceLROnPlateau reducing learning rate to 5.000001037066102e-35.\n",
            "Epoch 33/100\n",
            "4951/4951 [==============================] - 11s 2ms/step - loss: 7.4878e-04 - mean_squared_error: 7.4878e-04 - val_loss: 9.3523e-05 - val_mean_squared_error: 9.3523e-05\n",
            "\n",
            "Epoch 00033: val_loss did not improve from 0.00012\n",
            "\n",
            "Epoch 00033: ReduceLROnPlateau reducing learning rate to 5.000000807477361e-36.\n",
            "Epoch 34/100\n",
            "4951/4951 [==============================] - 11s 2ms/step - loss: 7.6675e-04 - mean_squared_error: 7.6675e-04 - val_loss: 9.3523e-05 - val_mean_squared_error: 9.3523e-05\n",
            "\n",
            "Epoch 00034: val_loss did not improve from 0.00012\n",
            "\n",
            "Epoch 00034: ReduceLROnPlateau reducing learning rate to 5.000000807477361e-37.\n",
            "Epoch 35/100\n",
            "4951/4951 [==============================] - 11s 2ms/step - loss: 7.8320e-04 - mean_squared_error: 7.8320e-04 - val_loss: 9.3523e-05 - val_mean_squared_error: 9.3523e-05\n",
            "\n",
            "Epoch 00035: val_loss did not improve from 0.00012\n",
            "\n",
            "Epoch 00035: ReduceLROnPlateau reducing learning rate to 5.000000628111158e-38.\n",
            "Epoch 36/100\n",
            "4951/4951 [==============================] - 11s 2ms/step - loss: 7.7505e-04 - mean_squared_error: 7.7505e-04 - val_loss: 9.3523e-05 - val_mean_squared_error: 9.3523e-05\n",
            "\n",
            "Epoch 00036: val_loss did not improve from 0.00012\n",
            "\n",
            "Epoch 00036: ReduceLROnPlateau reducing learning rate to 5.000000516007281e-39.\n",
            "Epoch 37/100\n",
            "4951/4951 [==============================] - 12s 2ms/step - loss: 7.3707e-04 - mean_squared_error: 7.3707e-04 - val_loss: 9.3523e-05 - val_mean_squared_error: 9.3523e-05\n",
            "\n",
            "Epoch 00037: val_loss did not improve from 0.00012\n",
            "\n",
            "Epoch 00037: ReduceLROnPlateau reducing learning rate to 5.000001076526666e-40.\n",
            "Epoch 38/100\n",
            "4951/4951 [==============================] - 12s 2ms/step - loss: 7.6212e-04 - mean_squared_error: 7.6212e-04 - val_loss: 9.3523e-05 - val_mean_squared_error: 9.3523e-05\n",
            "\n",
            "Epoch 00038: val_loss did not improve from 0.00012\n",
            "\n",
            "Epoch 00038: ReduceLROnPlateau reducing learning rate to 5.000001076526667e-41.\n",
            "Epoch 39/100\n",
            "4951/4951 [==============================] - 11s 2ms/step - loss: 7.8767e-04 - mean_squared_error: 7.8767e-04 - val_loss: 9.3523e-05 - val_mean_squared_error: 9.3523e-05\n",
            "\n",
            "Epoch 00039: val_loss did not improve from 0.00012\n",
            "\n",
            "Epoch 00039: ReduceLROnPlateau reducing learning rate to 4.99997305055738e-42.\n",
            "Epoch 40/100\n",
            "4951/4951 [==============================] - 11s 2ms/step - loss: 7.6153e-04 - mean_squared_error: 7.6153e-04 - val_loss: 9.3523e-05 - val_mean_squared_error: 9.3523e-05\n",
            "\n",
            "Epoch 00040: val_loss did not improve from 0.00012\n",
            "\n",
            "Epoch 00040: ReduceLROnPlateau reducing learning rate to 4.9998329207109475e-43.\n",
            "Epoch 41/100\n",
            "4951/4951 [==============================] - 11s 2ms/step - loss: 7.6772e-04 - mean_squared_error: 7.6772e-04 - val_loss: 9.3523e-05 - val_mean_squared_error: 9.3523e-05\n",
            "\n",
            "Epoch 00041: val_loss did not improve from 0.00012\n",
            "\n",
            "Epoch 00041: ReduceLROnPlateau reducing learning rate to 5.002635517639597e-44.\n",
            "Epoch 42/100\n",
            "4951/4951 [==============================] - 11s 2ms/step - loss: 7.7169e-04 - mean_squared_error: 7.7169e-04 - val_loss: 9.3523e-05 - val_mean_squared_error: 9.3523e-05\n",
            "\n",
            "Epoch 00042: val_loss did not improve from 0.00012\n",
            "\n",
            "Epoch 00042: ReduceLROnPlateau reducing learning rate to 5.0446744715693416e-45.\n",
            "Epoch 43/100\n",
            "4951/4951 [==============================] - 11s 2ms/step - loss: 7.9045e-04 - mean_squared_error: 7.9045e-04 - val_loss: 9.3523e-05 - val_mean_squared_error: 9.3523e-05\n",
            "\n",
            "Epoch 00043: val_loss did not improve from 0.00012\n",
            "\n",
            "Epoch 00043: ReduceLROnPlateau reducing learning rate to 5.6051938572992686e-46.\n",
            "Epoch 44/100\n",
            "4951/4951 [==============================] - 11s 2ms/step - loss: 7.7273e-04 - mean_squared_error: 7.7273e-04 - val_loss: 9.3523e-05 - val_mean_squared_error: 9.3523e-05\n",
            "\n",
            "Epoch 00044: val_loss did not improve from 0.00012\n",
            "Epoch 45/100\n",
            "4951/4951 [==============================] - 11s 2ms/step - loss: 7.5179e-04 - mean_squared_error: 7.5179e-04 - val_loss: 9.3523e-05 - val_mean_squared_error: 9.3523e-05\n",
            "\n",
            "Epoch 00045: val_loss did not improve from 0.00012\n",
            "Epoch 46/100\n",
            "4951/4951 [==============================] - 11s 2ms/step - loss: 7.7779e-04 - mean_squared_error: 7.7779e-04 - val_loss: 9.3523e-05 - val_mean_squared_error: 9.3523e-05\n",
            "\n",
            "Epoch 00046: val_loss did not improve from 0.00012\n",
            "Epoch 47/100\n",
            "4951/4951 [==============================] - 11s 2ms/step - loss: 8.0606e-04 - mean_squared_error: 8.0606e-04 - val_loss: 9.3523e-05 - val_mean_squared_error: 9.3523e-05\n",
            "\n",
            "Epoch 00047: val_loss did not improve from 0.00012\n",
            "Epoch 48/100\n",
            "4951/4951 [==============================] - 11s 2ms/step - loss: 8.0293e-04 - mean_squared_error: 8.0293e-04 - val_loss: 9.3523e-05 - val_mean_squared_error: 9.3523e-05\n",
            "\n",
            "Epoch 00048: val_loss did not improve from 0.00012\n",
            "Epoch 49/100\n",
            "4951/4951 [==============================] - 11s 2ms/step - loss: 7.7363e-04 - mean_squared_error: 7.7363e-04 - val_loss: 9.3523e-05 - val_mean_squared_error: 9.3523e-05\n",
            "\n",
            "Epoch 00049: val_loss did not improve from 0.00012\n",
            "Epoch 50/100\n",
            "4951/4951 [==============================] - 14s 3ms/step - loss: 7.4708e-04 - mean_squared_error: 7.4708e-04 - val_loss: 9.3523e-05 - val_mean_squared_error: 9.3523e-05\n",
            "\n",
            "Epoch 00050: val_loss did not improve from 0.00012\n",
            "Epoch 51/100\n",
            "4951/4951 [==============================] - 14s 3ms/step - loss: 7.9098e-04 - mean_squared_error: 7.9098e-04 - val_loss: 9.3523e-05 - val_mean_squared_error: 9.3523e-05\n",
            "\n",
            "Epoch 00051: val_loss did not improve from 0.00012\n",
            "Epoch 52/100\n",
            "4951/4951 [==============================] - 11s 2ms/step - loss: 7.7716e-04 - mean_squared_error: 7.7716e-04 - val_loss: 9.3523e-05 - val_mean_squared_error: 9.3523e-05\n",
            "\n",
            "Epoch 00052: val_loss did not improve from 0.00012\n",
            "Epoch 53/100\n",
            "4951/4951 [==============================] - 12s 2ms/step - loss: 7.9123e-04 - mean_squared_error: 7.9123e-04 - val_loss: 9.3523e-05 - val_mean_squared_error: 9.3523e-05\n",
            "\n",
            "Epoch 00053: val_loss did not improve from 0.00012\n",
            "Epoch 54/100\n",
            "4951/4951 [==============================] - 11s 2ms/step - loss: 7.8597e-04 - mean_squared_error: 7.8597e-04 - val_loss: 9.3523e-05 - val_mean_squared_error: 9.3523e-05\n",
            "\n",
            "Epoch 00054: val_loss did not improve from 0.00012\n",
            "Epoch 55/100\n",
            "4951/4951 [==============================] - 11s 2ms/step - loss: 7.7427e-04 - mean_squared_error: 7.7427e-04 - val_loss: 9.3523e-05 - val_mean_squared_error: 9.3523e-05\n",
            "\n",
            "Epoch 00055: val_loss did not improve from 0.00012\n",
            "Epoch 56/100\n",
            "4951/4951 [==============================] - 11s 2ms/step - loss: 7.5460e-04 - mean_squared_error: 7.5460e-04 - val_loss: 9.3523e-05 - val_mean_squared_error: 9.3523e-05\n",
            "\n",
            "Epoch 00056: val_loss did not improve from 0.00012\n",
            "Epoch 57/100\n",
            "4951/4951 [==============================] - 11s 2ms/step - loss: 7.4564e-04 - mean_squared_error: 7.4564e-04 - val_loss: 9.3523e-05 - val_mean_squared_error: 9.3523e-05\n",
            "\n",
            "Epoch 00057: val_loss did not improve from 0.00012\n",
            "Epoch 58/100\n",
            "4951/4951 [==============================] - 11s 2ms/step - loss: 7.5529e-04 - mean_squared_error: 7.5529e-04 - val_loss: 9.3523e-05 - val_mean_squared_error: 9.3523e-05\n",
            "\n",
            "Epoch 00058: val_loss did not improve from 0.00012\n",
            "Epoch 59/100\n",
            "4951/4951 [==============================] - 11s 2ms/step - loss: 7.8148e-04 - mean_squared_error: 7.8148e-04 - val_loss: 9.3523e-05 - val_mean_squared_error: 9.3523e-05\n",
            "\n",
            "Epoch 00059: val_loss did not improve from 0.00012\n",
            "Epoch 60/100\n",
            "4951/4951 [==============================] - 11s 2ms/step - loss: 8.0887e-04 - mean_squared_error: 8.0887e-04 - val_loss: 9.3523e-05 - val_mean_squared_error: 9.3523e-05\n",
            "\n",
            "Epoch 00060: val_loss did not improve from 0.00012\n",
            "Epoch 61/100\n",
            "4951/4951 [==============================] - 11s 2ms/step - loss: 7.9390e-04 - mean_squared_error: 7.9390e-04 - val_loss: 9.3523e-05 - val_mean_squared_error: 9.3523e-05\n",
            "\n",
            "Epoch 00061: val_loss did not improve from 0.00012\n",
            "Epoch 62/100\n",
            "4951/4951 [==============================] - 11s 2ms/step - loss: 7.6937e-04 - mean_squared_error: 7.6937e-04 - val_loss: 9.3523e-05 - val_mean_squared_error: 9.3523e-05\n",
            "\n",
            "Epoch 00062: val_loss did not improve from 0.00012\n",
            "Epoch 63/100\n",
            "4951/4951 [==============================] - 11s 2ms/step - loss: 7.3275e-04 - mean_squared_error: 7.3275e-04 - val_loss: 9.3523e-05 - val_mean_squared_error: 9.3523e-05\n",
            "\n",
            "Epoch 00063: val_loss did not improve from 0.00012\n",
            "Epoch 64/100\n",
            "4951/4951 [==============================] - 11s 2ms/step - loss: 7.6999e-04 - mean_squared_error: 7.6999e-04 - val_loss: 9.3523e-05 - val_mean_squared_error: 9.3523e-05\n",
            "\n",
            "Epoch 00064: val_loss did not improve from 0.00012\n",
            "Epoch 65/100\n",
            "4951/4951 [==============================] - 11s 2ms/step - loss: 7.6052e-04 - mean_squared_error: 7.6052e-04 - val_loss: 9.3523e-05 - val_mean_squared_error: 9.3523e-05\n",
            "\n",
            "Epoch 00065: val_loss did not improve from 0.00012\n",
            "Epoch 66/100\n",
            "4951/4951 [==============================] - 11s 2ms/step - loss: 7.9405e-04 - mean_squared_error: 7.9405e-04 - val_loss: 9.3523e-05 - val_mean_squared_error: 9.3523e-05\n",
            "\n",
            "Epoch 00066: val_loss did not improve from 0.00012\n",
            "Epoch 67/100\n",
            "4951/4951 [==============================] - 11s 2ms/step - loss: 7.6659e-04 - mean_squared_error: 7.6659e-04 - val_loss: 9.3523e-05 - val_mean_squared_error: 9.3523e-05\n",
            "\n",
            "Epoch 00067: val_loss did not improve from 0.00012\n",
            "Epoch 68/100\n",
            "4951/4951 [==============================] - 11s 2ms/step - loss: 7.7579e-04 - mean_squared_error: 7.7579e-04 - val_loss: 9.3523e-05 - val_mean_squared_error: 9.3523e-05\n",
            "\n",
            "Epoch 00068: val_loss did not improve from 0.00012\n",
            "Epoch 69/100\n",
            "4951/4951 [==============================] - 11s 2ms/step - loss: 8.0685e-04 - mean_squared_error: 8.0685e-04 - val_loss: 9.3523e-05 - val_mean_squared_error: 9.3523e-05\n",
            "\n",
            "Epoch 00069: val_loss did not improve from 0.00012\n",
            "Epoch 70/100\n",
            "4951/4951 [==============================] - 11s 2ms/step - loss: 7.9693e-04 - mean_squared_error: 7.9693e-04 - val_loss: 9.3523e-05 - val_mean_squared_error: 9.3523e-05\n",
            "\n",
            "Epoch 00070: val_loss did not improve from 0.00012\n",
            "Epoch 71/100\n",
            "4951/4951 [==============================] - 11s 2ms/step - loss: 7.6954e-04 - mean_squared_error: 7.6954e-04 - val_loss: 9.3523e-05 - val_mean_squared_error: 9.3523e-05\n",
            "\n",
            "Epoch 00071: val_loss did not improve from 0.00012\n",
            "Epoch 72/100\n",
            "4951/4951 [==============================] - 11s 2ms/step - loss: 8.0475e-04 - mean_squared_error: 8.0475e-04 - val_loss: 9.3523e-05 - val_mean_squared_error: 9.3523e-05\n",
            "\n",
            "Epoch 00072: val_loss did not improve from 0.00012\n",
            "Epoch 73/100\n",
            "4951/4951 [==============================] - 11s 2ms/step - loss: 7.8303e-04 - mean_squared_error: 7.8303e-04 - val_loss: 9.3523e-05 - val_mean_squared_error: 9.3523e-05\n",
            "\n",
            "Epoch 00073: val_loss did not improve from 0.00012\n",
            "Epoch 74/100\n",
            "4951/4951 [==============================] - 11s 2ms/step - loss: 7.5754e-04 - mean_squared_error: 7.5754e-04 - val_loss: 9.3523e-05 - val_mean_squared_error: 9.3523e-05\n",
            "\n",
            "Epoch 00074: val_loss did not improve from 0.00012\n",
            "Epoch 75/100\n",
            "4951/4951 [==============================] - 11s 2ms/step - loss: 7.9964e-04 - mean_squared_error: 7.9964e-04 - val_loss: 9.3523e-05 - val_mean_squared_error: 9.3523e-05\n",
            "\n",
            "Epoch 00075: val_loss did not improve from 0.00012\n",
            "Epoch 76/100\n",
            "4951/4951 [==============================] - 11s 2ms/step - loss: 7.6044e-04 - mean_squared_error: 7.6044e-04 - val_loss: 9.3523e-05 - val_mean_squared_error: 9.3523e-05\n",
            "\n",
            "Epoch 00076: val_loss did not improve from 0.00012\n",
            "Epoch 77/100\n",
            "4951/4951 [==============================] - 11s 2ms/step - loss: 7.7250e-04 - mean_squared_error: 7.7250e-04 - val_loss: 9.3523e-05 - val_mean_squared_error: 9.3523e-05\n",
            "\n",
            "Epoch 00077: val_loss did not improve from 0.00012\n",
            "Epoch 78/100\n",
            "4951/4951 [==============================] - 11s 2ms/step - loss: 7.4895e-04 - mean_squared_error: 7.4895e-04 - val_loss: 9.3523e-05 - val_mean_squared_error: 9.3523e-05\n",
            "\n",
            "Epoch 00078: val_loss did not improve from 0.00012\n",
            "Epoch 79/100\n",
            "4951/4951 [==============================] - 11s 2ms/step - loss: 7.6824e-04 - mean_squared_error: 7.6824e-04 - val_loss: 9.3523e-05 - val_mean_squared_error: 9.3523e-05\n",
            "\n",
            "Epoch 00079: val_loss did not improve from 0.00012\n",
            "Epoch 80/100\n",
            "4951/4951 [==============================] - 11s 2ms/step - loss: 7.8217e-04 - mean_squared_error: 7.8217e-04 - val_loss: 9.3523e-05 - val_mean_squared_error: 9.3523e-05\n",
            "\n",
            "Epoch 00080: val_loss did not improve from 0.00012\n",
            "Epoch 81/100\n",
            "4951/4951 [==============================] - 11s 2ms/step - loss: 7.4294e-04 - mean_squared_error: 7.4294e-04 - val_loss: 9.3523e-05 - val_mean_squared_error: 9.3523e-05\n",
            "\n",
            "Epoch 00081: val_loss did not improve from 0.00012\n",
            "Epoch 82/100\n",
            "4951/4951 [==============================] - 11s 2ms/step - loss: 7.5448e-04 - mean_squared_error: 7.5448e-04 - val_loss: 9.3523e-05 - val_mean_squared_error: 9.3523e-05\n",
            "\n",
            "Epoch 00082: val_loss did not improve from 0.00012\n",
            "Epoch 83/100\n",
            "4951/4951 [==============================] - 11s 2ms/step - loss: 7.7968e-04 - mean_squared_error: 7.7968e-04 - val_loss: 9.3523e-05 - val_mean_squared_error: 9.3523e-05\n",
            "\n",
            "Epoch 00083: val_loss did not improve from 0.00012\n",
            "Epoch 84/100\n",
            "4951/4951 [==============================] - 11s 2ms/step - loss: 7.5452e-04 - mean_squared_error: 7.5452e-04 - val_loss: 9.3523e-05 - val_mean_squared_error: 9.3523e-05\n",
            "\n",
            "Epoch 00084: val_loss did not improve from 0.00012\n",
            "Epoch 85/100\n",
            "4951/4951 [==============================] - 11s 2ms/step - loss: 7.6378e-04 - mean_squared_error: 7.6378e-04 - val_loss: 9.3523e-05 - val_mean_squared_error: 9.3523e-05\n",
            "\n",
            "Epoch 00085: val_loss did not improve from 0.00012\n",
            "Epoch 86/100\n",
            "4951/4951 [==============================] - 11s 2ms/step - loss: 7.5018e-04 - mean_squared_error: 7.5018e-04 - val_loss: 9.3523e-05 - val_mean_squared_error: 9.3523e-05\n",
            "\n",
            "Epoch 00086: val_loss did not improve from 0.00012\n",
            "Epoch 87/100\n",
            "4951/4951 [==============================] - 11s 2ms/step - loss: 7.7294e-04 - mean_squared_error: 7.7294e-04 - val_loss: 9.3523e-05 - val_mean_squared_error: 9.3523e-05\n",
            "\n",
            "Epoch 00087: val_loss did not improve from 0.00012\n",
            "Epoch 88/100\n",
            "4951/4951 [==============================] - 11s 2ms/step - loss: 7.5902e-04 - mean_squared_error: 7.5902e-04 - val_loss: 9.3523e-05 - val_mean_squared_error: 9.3523e-05\n",
            "\n",
            "Epoch 00088: val_loss did not improve from 0.00012\n",
            "Epoch 89/100\n",
            "4951/4951 [==============================] - 11s 2ms/step - loss: 7.8615e-04 - mean_squared_error: 7.8615e-04 - val_loss: 9.3523e-05 - val_mean_squared_error: 9.3523e-05\n",
            "\n",
            "Epoch 00089: val_loss did not improve from 0.00012\n",
            "Epoch 90/100\n",
            "4951/4951 [==============================] - 11s 2ms/step - loss: 7.5076e-04 - mean_squared_error: 7.5076e-04 - val_loss: 9.3523e-05 - val_mean_squared_error: 9.3523e-05\n",
            "\n",
            "Epoch 00090: val_loss did not improve from 0.00012\n",
            "Epoch 91/100\n",
            "4951/4951 [==============================] - 11s 2ms/step - loss: 7.7679e-04 - mean_squared_error: 7.7679e-04 - val_loss: 9.3523e-05 - val_mean_squared_error: 9.3523e-05\n",
            "\n",
            "Epoch 00091: val_loss did not improve from 0.00012\n",
            "Epoch 92/100\n",
            "4951/4951 [==============================] - 11s 2ms/step - loss: 7.7015e-04 - mean_squared_error: 7.7015e-04 - val_loss: 9.3523e-05 - val_mean_squared_error: 9.3523e-05\n",
            "\n",
            "Epoch 00092: val_loss did not improve from 0.00012\n",
            "Epoch 93/100\n",
            "4951/4951 [==============================] - 11s 2ms/step - loss: 7.9965e-04 - mean_squared_error: 7.9965e-04 - val_loss: 9.3523e-05 - val_mean_squared_error: 9.3523e-05\n",
            "\n",
            "Epoch 00093: val_loss did not improve from 0.00012\n",
            "Epoch 94/100\n",
            "4951/4951 [==============================] - 11s 2ms/step - loss: 7.5942e-04 - mean_squared_error: 7.5942e-04 - val_loss: 9.3523e-05 - val_mean_squared_error: 9.3523e-05\n",
            "\n",
            "Epoch 00094: val_loss did not improve from 0.00012\n",
            "Epoch 95/100\n",
            "4951/4951 [==============================] - 11s 2ms/step - loss: 7.7089e-04 - mean_squared_error: 7.7089e-04 - val_loss: 9.3523e-05 - val_mean_squared_error: 9.3523e-05\n",
            "\n",
            "Epoch 00095: val_loss did not improve from 0.00012\n",
            "Epoch 96/100\n",
            "4951/4951 [==============================] - 11s 2ms/step - loss: 7.5499e-04 - mean_squared_error: 7.5499e-04 - val_loss: 9.3523e-05 - val_mean_squared_error: 9.3523e-05\n",
            "\n",
            "Epoch 00096: val_loss did not improve from 0.00012\n",
            "Epoch 97/100\n",
            "4951/4951 [==============================] - 11s 2ms/step - loss: 7.4456e-04 - mean_squared_error: 7.4456e-04 - val_loss: 9.3523e-05 - val_mean_squared_error: 9.3523e-05\n",
            "\n",
            "Epoch 00097: val_loss did not improve from 0.00012\n",
            "Epoch 98/100\n",
            "4951/4951 [==============================] - 11s 2ms/step - loss: 7.8752e-04 - mean_squared_error: 7.8752e-04 - val_loss: 9.3523e-05 - val_mean_squared_error: 9.3523e-05\n",
            "\n",
            "Epoch 00098: val_loss did not improve from 0.00012\n",
            "Epoch 99/100\n",
            "4951/4951 [==============================] - 11s 2ms/step - loss: 7.7786e-04 - mean_squared_error: 7.7786e-04 - val_loss: 9.3523e-05 - val_mean_squared_error: 9.3523e-05\n",
            "\n",
            "Epoch 00099: val_loss did not improve from 0.00012\n",
            "Epoch 100/100\n",
            "4951/4951 [==============================] - 11s 2ms/step - loss: 7.6431e-04 - mean_squared_error: 7.6431e-04 - val_loss: 9.3523e-05 - val_mean_squared_error: 9.3523e-05\n",
            "\n",
            "Epoch 00100: val_loss did not improve from 0.00012\n"
          ],
          "name": "stdout"
        }
      ]
    },
    {
      "cell_type": "code",
      "metadata": {
        "id": "ocXX3BpUj_I1",
        "colab_type": "code",
        "outputId": "d1981df6-51b5-4d83-e74f-5d3d6471de76",
        "colab": {
          "base_uri": "https://localhost:8080/",
          "height": 1000
        }
      },
      "source": [
        "plt.plot(history.history['mean_squared_error'])\n",
        "plt.plot(history.history['val_mean_squared_error'])\n",
        "plt.title('model mean squared error')\n",
        "plt.ylabel('accuracy')\n",
        "plt.xlabel('epoch')\n",
        "plt.legend(['train', 'test'], loc='upper left')\n",
        "plt.show()\n",
        "\n",
        "# summarize history for loss\n",
        "plt.plot(history.history['loss'])\n",
        "plt.plot(history.history['val_loss'])\n",
        "plt.title('model loss')\n",
        "plt.ylabel('loss')\n",
        "plt.xlabel('epoch')\n",
        "plt.legend(['train', 'test'], loc='upper left')\n",
        "plt.show()"
      ],
      "execution_count": 71,
      "outputs": [
        {
          "output_type": "display_data",
          "data": {
            "image/png": "[encoded data removed]",
            "text/plain": [
              "<Figure size 1800x720 with 1 Axes>"
            ]
          },
          "metadata": {
            "tags": [],
            "needs_background": "light"
          }
        },
        {
          "output_type": "display_data",
          "data": {
            "image/png": "[encoded data removed]",
            "text/plain": [
              "<Figure size 1800x720 with 1 Axes>"
            ]
          },
          "metadata": {
            "tags": [],
            "needs_background": "light"
          }
        }
      ]
    },
    {
      "cell_type": "code",
      "metadata": {
        "id": "o7YistWRkDyw",
        "colab_type": "code",
        "outputId": "264f2bae-e941-42a7-be4d-a6b1e4570629",
        "colab": {
          "base_uri": "https://localhost:8080/",
          "height": 67
        }
      },
      "source": [
        "# The mean square error for validation set is 0.000174 which is very low and good as well.\n",
        "\n",
        "def model_score(model, X_train, y_train, X_test, y_test):\n",
        "    trainScore = model.evaluate(X_train, y_train, verbose=0)\n",
        "    print('Train Score: %.5f MSE (%.2f RMSE)' % (trainScore[0], math.sqrt(trainScore[0])))\n",
        "\n",
        "    testScore = model.evaluate(X_test, y_test, verbose=0)\n",
        "    print('Test Score: %.5f MSE (%.2f RMSE)' % (testScore[0], math.sqrt(testScore[0])))\n",
        "\n",
        "    return trainScore[0], testScore[0]\n",
        "\n",
        "model_score(model, trainX, trainY , testX, testY)"
      ],
      "execution_count": 72,
      "outputs": [
        {
          "output_type": "stream",
          "text": [
            "Train Score: 0.00010 MSE (0.01 RMSE)\n",
            "Test Score: 0.00009 MSE (0.01 RMSE)\n"
          ],
          "name": "stdout"
        },
        {
          "output_type": "execute_result",
          "data": {
            "text/plain": [
              "(0.00010339366901327732, 9.352340813934152e-05)"
            ]
          },
          "metadata": {
            "tags": []
          },
          "execution_count": 72
        }
      ]
    },
    {
      "cell_type": "code",
      "metadata": {
        "id": "Jk0B-G3LkI-u",
        "colab_type": "code",
        "outputId": "21db6c4e-6625-4064-8a34-43ba97c936f9",
        "colab": {
          "base_uri": "https://localhost:8080/",
          "height": 184
        }
      },
      "source": [
        "# Inverse transforming the scaled vector earlier and checking for the error visually in the graph\n",
        "\n",
        "pred = model.predict(testX)\n",
        "pred = scaler.inverse_transform(pred)\n",
        "pred[:10]"
      ],
      "execution_count": 73,
      "outputs": [
        {
          "output_type": "execute_result",
          "data": {
            "text/plain": [
              "array([[43.33035 ],\n",
              "       [43.586876],\n",
              "       [43.028526],\n",
              "       [43.2373  ],\n",
              "       [44.551445],\n",
              "       [45.51252 ],\n",
              "       [45.782978],\n",
              "       [45.731606],\n",
              "       [45.146976],\n",
              "       [44.035698]], dtype=float32)"
            ]
          },
          "metadata": {
            "tags": []
          },
          "execution_count": 73
        }
      ]
    },
    {
      "cell_type": "code",
      "metadata": {
        "id": "bfcO3fq4kJI9",
        "colab_type": "code",
        "outputId": "1811a0c4-bbee-480d-fd55-5b51842b31da",
        "colab": {
          "base_uri": "https://localhost:8080/",
          "height": 184
        }
      },
      "source": [
        "testY = testY.reshape(testY.shape[0] , 1)\n",
        "testY = scaler.inverse_transform(testY)\n",
        "testY[:10]"
      ],
      "execution_count": 74,
      "outputs": [
        {
          "output_type": "execute_result",
          "data": {
            "text/plain": [
              "array([[43.73    ],\n",
              "       [42.64    ],\n",
              "       [44.04    ],\n",
              "       [45.33    ],\n",
              "       [46.03    ],\n",
              "       [45.92    ],\n",
              "       [45.92    ],\n",
              "       [44.779995],\n",
              "       [43.65    ],\n",
              "       [43.78    ]], dtype=float32)"
            ]
          },
          "metadata": {
            "tags": []
          },
          "execution_count": 74
        }
      ]
    },
    {
      "cell_type": "code",
      "metadata": {
        "id": "hCU2l8kzkNEf",
        "colab_type": "code",
        "outputId": "522b93d6-79cf-4732-e84b-be2e350df67d",
        "colab": {
          "base_uri": "https://localhost:8080/",
          "height": 550
        }
      },
      "source": [
        "# The space between the predicted (red) and actual (blue) line is self explanatory for the model tuning and performance.\n",
        "\n",
        "plt.rcParams[\"figure.figsize\"] = (25, 10)\n",
        "plt.plot(testY , 'r', label = 'Actual Price')\n",
        "plt.plot(pred , 'g', label = 'Predicted Price')\n",
        "plt.xlabel('Time')\n",
        "plt.ylabel('Price')\n",
        "plt.title('Check the accuracy of the model with time')\n",
        "plt.legend()\n",
        "plt.grid(True)\n",
        "plt.show()"
      ],
      "execution_count": 75,
      "outputs": [
        {
          "output_type": "display_data",
          "data": {
            "image/png": "[encoded data removed]",
            "text/plain": [
              "<Figure size 1800x720 with 1 Axes>"
            ]
          },
          "metadata": {
            "tags": [],
            "needs_background": "light"
          }
        }
      ]
    },
    {
      "cell_type": "code",
      "metadata": {
        "id": "jfyAg2fvkO3K",
        "colab_type": "code",
        "outputId": "323d00ee-a8a8-4eba-8aa6-5581a2b4bb47",
        "colab": {
          "base_uri": "https://localhost:8080/",
          "height": 184
        }
      },
      "source": [
        "testY[-10 : ]"
      ],
      "execution_count": 76,
      "outputs": [
        {
          "output_type": "execute_result",
          "data": {
            "text/plain": [
              "array([[24.63    ],\n",
              "       [24.660002],\n",
              "       [24.51    ],\n",
              "       [25.23    ],\n",
              "       [25.69    ],\n",
              "       [27.73    ],\n",
              "       [29.65    ],\n",
              "       [30.27    ],\n",
              "       [33.23    ],\n",
              "       [32.36    ]], dtype=float32)"
            ]
          },
          "metadata": {
            "tags": []
          },
          "execution_count": 76
        }
      ]
    },
    {
      "cell_type": "code",
      "metadata": {
        "id": "X6GffRvakO_R",
        "colab_type": "code",
        "outputId": "504e45f7-d4d0-4a02-9106-17e71ddb7e6c",
        "colab": {
          "base_uri": "https://localhost:8080/",
          "height": 184
        }
      },
      "source": [
        "pred[-10 : ]"
      ],
      "execution_count": 77,
      "outputs": [
        {
          "output_type": "execute_result",
          "data": {
            "text/plain": [
              "array([[24.068945],\n",
              "       [24.508326],\n",
              "       [25.003565],\n",
              "       [24.941357],\n",
              "       [25.237167],\n",
              "       [25.802929],\n",
              "       [27.050585],\n",
              "       [28.96909 ],\n",
              "       [30.17293 ],\n",
              "       [31.96611 ]], dtype=float32)"
            ]
          },
          "metadata": {
            "tags": []
          },
          "execution_count": 77
        }
      ]
    }
  ]
}
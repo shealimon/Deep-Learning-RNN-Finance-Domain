{
  "nbformat": 4,
  "nbformat_minor": 0,
  "metadata": {
    "colab": {
      "name": "Gold.ipynb",
      "provenance": []
    },
    "kernelspec": {
      "name": "python3",
      "display_name": "Python 3"
    }
  },
  "cells": [
    {
      "cell_type": "code",
      "metadata": {
        "id": "_bDTYCO1f1a2",
        "colab_type": "code",
        "colab": {}
      },
      "source": [
        "import numpy as np\n",
        "import pandas as pd\n",
        "import matplotlib.pyplot as plt\n",
        "import io"
      ],
      "execution_count": 0,
      "outputs": []
    },
    {
      "cell_type": "code",
      "metadata": {
        "id": "JA75HCy_hCyH",
        "colab_type": "code",
        "outputId": "5a2c92ed-2361-404d-8af5-e50381d6bb2a",
        "colab": {
          "resources": {
            "http://localhost:8080/nbextensions/google.colab/files.js": {
              "data": "Ly8gQ29weXJpZ2h0IDIwMTcgR29vZ2xlIExMQwovLwovLyBMaWNlbnNlZCB1bmRlciB0aGUgQXBhY2hlIExpY2Vuc2UsIFZlcnNpb24gMi4wICh0aGUgIkxpY2Vuc2UiKTsKLy8geW91IG1heSBub3QgdXNlIHRoaXMgZmlsZSBleGNlcHQgaW4gY29tcGxpYW5jZSB3aXRoIHRoZSBMaWNlbnNlLgovLyBZb3UgbWF5IG9idGFpbiBhIGNvcHkgb2YgdGhlIExpY2Vuc2UgYXQKLy8KLy8gICAgICBodHRwOi8vd3d3LmFwYWNoZS5vcmcvbGljZW5zZXMvTElDRU5TRS0yLjAKLy8KLy8gVW5sZXNzIHJlcXVpcmVkIGJ5IGFwcGxpY2FibGUgbGF3IG9yIGFncmVlZCB0byBpbiB3cml0aW5nLCBzb2Z0d2FyZQovLyBkaXN0cmlidXRlZCB1bmRlciB0aGUgTGljZW5zZSBpcyBkaXN0cmlidXRlZCBvbiBhbiAiQVMgSVMiIEJBU0lTLAovLyBXSVRIT1VUIFdBUlJBTlRJRVMgT1IgQ09ORElUSU9OUyBPRiBBTlkgS0lORCwgZWl0aGVyIGV4cHJlc3Mgb3IgaW1wbGllZC4KLy8gU2VlIHRoZSBMaWNlbnNlIGZvciB0aGUgc3BlY2lmaWMgbGFuZ3VhZ2UgZ292ZXJuaW5nIHBlcm1pc3Npb25zIGFuZAovLyBsaW1pdGF0aW9ucyB1bmRlciB0aGUgTGljZW5zZS4KCi8qKgogKiBAZmlsZW92ZXJ2aWV3IEhlbHBlcnMgZm9yIGdvb2dsZS5jb2xhYiBQeXRob24gbW9kdWxlLgogKi8KKGZ1bmN0aW9uKHNjb3BlKSB7CmZ1bmN0aW9uIHNwYW4odGV4dCwgc3R5bGVBdHRyaWJ1dGVzID0ge30pIHsKICBjb25zdCBlbGVtZW50ID0gZG9jdW1lbnQuY3JlYXRlRWxlbWVudCgnc3BhbicpOwogIGVsZW1lbnQudGV4dENvbnRlbnQgPSB0ZXh0OwogIGZvciAoY29uc3Qga2V5IG9mIE9iamVjdC5rZXlzKHN0eWxlQXR0cmlidXRlcykpIHsKICAgIGVsZW1lbnQuc3R5bGVba2V5XSA9IHN0eWxlQXR0cmlidXRlc1trZXldOwogIH0KICByZXR1cm4gZWxlbWVudDsKfQoKLy8gTWF4IG51bWJlciBvZiBieXRlcyB3aGljaCB3aWxsIGJlIHVwbG9hZGVkIGF0IGEgdGltZS4KY29uc3QgTUFYX1BBWUxPQURfU0laRSA9IDEwMCAqIDEwMjQ7Ci8vIE1heCBhbW91bnQgb2YgdGltZSB0byBibG9jayB3YWl0aW5nIGZvciB0aGUgdXNlci4KY29uc3QgRklMRV9DSEFOR0VfVElNRU9VVF9NUyA9IDMwICogMTAwMDsKCmZ1bmN0aW9uIF91cGxvYWRGaWxlcyhpbnB1dElkLCBvdXRwdXRJZCkgewogIGNvbnN0IHN0ZXBzID0gdXBsb2FkRmlsZXNTdGVwKGlucHV0SWQsIG91dHB1dElkKTsKICBjb25zdCBvdXRwdXRFbGVtZW50ID0gZG9jdW1lbnQuZ2V0RWxlbWVudEJ5SWQob3V0cHV0SWQpOwogIC8vIENhY2hlIHN0ZXBzIG9uIHRoZSBvdXRwdXRFbGVtZW50IHRvIG1ha2UgaXQgYXZhaWxhYmxlIGZvciB0aGUgbmV4dCBjYWxsCiAgLy8gdG8gdXBsb2FkRmlsZXNDb250aW51ZSBmcm9tIFB5dGhvbi4KICBvdXRwdXRFbGVtZW50LnN0ZXBzID0gc3RlcHM7CgogIHJldHVybiBfdXBsb2FkRmlsZXNDb250aW51ZShvdXRwdXRJZCk7Cn0KCi8vIFRoaXMgaXMgcm91Z2hseSBhbiBhc3luYyBnZW5lcmF0b3IgKG5vdCBzdXBwb3J0ZWQgaW4gdGhlIGJyb3dzZXIgeWV0KSwKLy8gd2hlcmUgdGhlcmUgYXJlIG11bHRpcGxlIGFzeW5jaHJvbm91cyBzdGVwcyBhbmQgdGhlIFB5dGhvbiBzaWRlIGlzIGdvaW5nCi8vIHRvIHBvbGwgZm9yIGNvbXBsZXRpb24gb2YgZWFjaCBzdGVwLgovLyBUaGlzIHVzZXMgYSBQcm9taXNlIHRvIGJsb2NrIHRoZSBweXRob24gc2lkZSBvbiBjb21wbGV0aW9uIG9mIGVhY2ggc3RlcCwKLy8gdGhlbiBwYXNzZXMgdGhlIHJlc3VsdCBvZiB0aGUgcHJldmlvdXMgc3RlcCBhcyB0aGUgaW5wdXQgdG8gdGhlIG5leHQgc3RlcC4KZnVuY3Rpb24gX3VwbG9hZEZpbGVzQ29udGludWUob3V0cHV0SWQpIHsKICBjb25zdCBvdXRwdXRFbGVtZW50ID0gZG9jdW1lbnQuZ2V0RWxlbWVudEJ5SWQob3V0cHV0SWQpOwogIGNvbnN0IHN0ZXBzID0gb3V0cHV0RWxlbWVudC5zdGVwczsKCiAgY29uc3QgbmV4dCA9IHN0ZXBzLm5leHQob3V0cHV0RWxlbWVudC5sYXN0UHJvbWlzZVZhbHVlKTsKICByZXR1cm4gUHJvbWlzZS5yZXNvbHZlKG5leHQudmFsdWUucHJvbWlzZSkudGhlbigodmFsdWUpID0+IHsKICAgIC8vIENhY2hlIHRoZSBsYXN0IHByb21pc2UgdmFsdWUgdG8gbWFrZSBpdCBhdmFpbGFibGUgdG8gdGhlIG5leHQKICAgIC8vIHN0ZXAgb2YgdGhlIGdlbmVyYXRvci4KICAgIG91dHB1dEVsZW1lbnQubGFzdFByb21pc2VWYWx1ZSA9IHZhbHVlOwogICAgcmV0dXJuIG5leHQudmFsdWUucmVzcG9uc2U7CiAgfSk7Cn0KCi8qKgogKiBHZW5lcmF0b3IgZnVuY3Rpb24gd2hpY2ggaXMgY2FsbGVkIGJldHdlZW4gZWFjaCBhc3luYyBzdGVwIG9mIHRoZSB1cGxvYWQKICogcHJvY2Vzcy4KICogQHBhcmFtIHtzdHJpbmd9IGlucHV0SWQgRWxlbWVudCBJRCBvZiB0aGUgaW5wdXQgZmlsZSBwaWNrZXIgZWxlbWVudC4KICogQHBhcmFtIHtzdHJpbmd9IG91dHB1dElkIEVsZW1lbnQgSUQgb2YgdGhlIG91dHB1dCBkaXNwbGF5LgogKiBAcmV0dXJuIHshSXRlcmFibGU8IU9iamVjdD59IEl0ZXJhYmxlIG9mIG5leHQgc3RlcHMuCiAqLwpmdW5jdGlvbiogdXBsb2FkRmlsZXNTdGVwKGlucHV0SWQsIG91dHB1dElkKSB7CiAgY29uc3QgaW5wdXRFbGVtZW50ID0gZG9jdW1lbnQuZ2V0RWxlbWVudEJ5SWQoaW5wdXRJZCk7CiAgaW5wdXRFbGVtZW50LmRpc2FibGVkID0gZmFsc2U7CgogIGNvbnN0IG91dHB1dEVsZW1lbnQgPSBkb2N1bWVudC5nZXRFbGVtZW50QnlJZChvdXRwdXRJZCk7CiAgb3V0cHV0RWxlbWVudC5pbm5lckhUTUwgPSAnJzsKCiAgY29uc3QgcGlja2VkUHJvbWlzZSA9IG5ldyBQcm9taXNlKChyZXNvbHZlKSA9PiB7CiAgICBpbnB1dEVsZW1lbnQuYWRkRXZlbnRMaXN0ZW5lcignY2hhbmdlJywgKGUpID0+IHsKICAgICAgcmVzb2x2ZShlLnRhcmdldC5maWxlcyk7CiAgICB9KTsKICB9KTsKCiAgY29uc3QgY2FuY2VsID0gZG9jdW1lbnQuY3JlYXRlRWxlbWVudCgnYnV0dG9uJyk7CiAgaW5wdXRFbGVtZW50LnBhcmVudEVsZW1lbnQuYXBwZW5kQ2hpbGQoY2FuY2VsKTsKICBjYW5jZWwudGV4dENvbnRlbnQgPSAnQ2FuY2VsIHVwbG9hZCc7CiAgY29uc3QgY2FuY2VsUHJvbWlzZSA9IG5ldyBQcm9taXNlKChyZXNvbHZlKSA9PiB7CiAgICBjYW5jZWwub25jbGljayA9ICgpID0+IHsKICAgICAgcmVzb2x2ZShudWxsKTsKICAgIH07CiAgfSk7CgogIC8vIENhbmNlbCB1cGxvYWQgaWYgdXNlciBoYXNuJ3QgcGlja2VkIGFueXRoaW5nIGluIHRpbWVvdXQuCiAgY29uc3QgdGltZW91dFByb21pc2UgPSBuZXcgUHJvbWlzZSgocmVzb2x2ZSkgPT4gewogICAgc2V0VGltZW91dCgoKSA9PiB7CiAgICAgIHJlc29sdmUobnVsbCk7CiAgICB9LCBGSUxFX0NIQU5HRV9USU1FT1VUX01TKTsKICB9KTsKCiAgLy8gV2FpdCBmb3IgdGhlIHVzZXIgdG8gcGljayB0aGUgZmlsZXMuCiAgY29uc3QgZmlsZXMgPSB5aWVsZCB7CiAgICBwcm9taXNlOiBQcm9taXNlLnJhY2UoW3BpY2tlZFByb21pc2UsIHRpbWVvdXRQcm9taXNlLCBjYW5jZWxQcm9taXNlXSksCiAgICByZXNwb25zZTogewogICAgICBhY3Rpb246ICdzdGFydGluZycsCiAgICB9CiAgfTsKCiAgaWYgKCFmaWxlcykgewogICAgcmV0dXJuIHsKICAgICAgcmVzcG9uc2U6IHsKICAgICAgICBhY3Rpb246ICdjb21wbGV0ZScsCiAgICAgIH0KICAgIH07CiAgfQoKICBjYW5jZWwucmVtb3ZlKCk7CgogIC8vIERpc2FibGUgdGhlIGlucHV0IGVsZW1lbnQgc2luY2UgZnVydGhlciBwaWNrcyBhcmUgbm90IGFsbG93ZWQuCiAgaW5wdXRFbGVtZW50LmRpc2FibGVkID0gdHJ1ZTsKCiAgZm9yIChjb25zdCBmaWxlIG9mIGZpbGVzKSB7CiAgICBjb25zdCBsaSA9IGRvY3VtZW50LmNyZWF0ZUVsZW1lbnQoJ2xpJyk7CiAgICBsaS5hcHBlbmQoc3BhbihmaWxlLm5hbWUsIHtmb250V2VpZ2h0OiAnYm9sZCd9KSk7CiAgICBsaS5hcHBlbmQoc3BhbigKICAgICAgICBgKCR7ZmlsZS50eXBlIHx8ICduL2EnfSkgLSAke2ZpbGUuc2l6ZX0gYnl0ZXMsIGAgKwogICAgICAgIGBsYXN0IG1vZGlmaWVkOiAkewogICAgICAgICAgICBmaWxlLmxhc3RNb2RpZmllZERhdGUgPyBmaWxlLmxhc3RNb2RpZmllZERhdGUudG9Mb2NhbGVEYXRlU3RyaW5nKCkgOgogICAgICAgICAgICAgICAgICAgICAgICAgICAgICAgICAgICAnbi9hJ30gLSBgKSk7CiAgICBjb25zdCBwZXJjZW50ID0gc3BhbignMCUgZG9uZScpOwogICAgbGkuYXBwZW5kQ2hpbGQocGVyY2VudCk7CgogICAgb3V0cHV0RWxlbWVudC5hcHBlbmRDaGlsZChsaSk7CgogICAgY29uc3QgZmlsZURhdGFQcm9taXNlID0gbmV3IFByb21pc2UoKHJlc29sdmUpID0+IHsKICAgICAgY29uc3QgcmVhZGVyID0gbmV3IEZpbGVSZWFkZXIoKTsKICAgICAgcmVhZGVyLm9ubG9hZCA9IChlKSA9PiB7CiAgICAgICAgcmVzb2x2ZShlLnRhcmdldC5yZXN1bHQpOwogICAgICB9OwogICAgICByZWFkZXIucmVhZEFzQXJyYXlCdWZmZXIoZmlsZSk7CiAgICB9KTsKICAgIC8vIFdhaXQgZm9yIHRoZSBkYXRhIHRvIGJlIHJlYWR5LgogICAgbGV0IGZpbGVEYXRhID0geWllbGQgewogICAgICBwcm9taXNlOiBmaWxlRGF0YVByb21pc2UsCiAgICAgIHJlc3BvbnNlOiB7CiAgICAgICAgYWN0aW9uOiAnY29udGludWUnLAogICAgICB9CiAgICB9OwoKICAgIC8vIFVzZSBhIGNodW5rZWQgc2VuZGluZyB0byBhdm9pZCBtZXNzYWdlIHNpemUgbGltaXRzLiBTZWUgYi82MjExNTY2MC4KICAgIGxldCBwb3NpdGlvbiA9IDA7CiAgICB3aGlsZSAocG9zaXRpb24gPCBmaWxlRGF0YS5ieXRlTGVuZ3RoKSB7CiAgICAgIGNvbnN0IGxlbmd0aCA9IE1hdGgubWluKGZpbGVEYXRhLmJ5dGVMZW5ndGggLSBwb3NpdGlvbiwgTUFYX1BBWUxPQURfU0laRSk7CiAgICAgIGNvbnN0IGNodW5rID0gbmV3IFVpbnQ4QXJyYXkoZmlsZURhdGEsIHBvc2l0aW9uLCBsZW5ndGgpOwogICAgICBwb3NpdGlvbiArPSBsZW5ndGg7CgogICAgICBjb25zdCBiYXNlNjQgPSBidG9hKFN0cmluZy5mcm9tQ2hhckNvZGUuYXBwbHkobnVsbCwgY2h1bmspKTsKICAgICAgeWllbGQgewogICAgICAgIHJlc3BvbnNlOiB7CiAgICAgICAgICBhY3Rpb246ICdhcHBlbmQnLAogICAgICAgICAgZmlsZTogZmlsZS5uYW1lLAogICAgICAgICAgZGF0YTogYmFzZTY0LAogICAgICAgIH0sCiAgICAgIH07CiAgICAgIHBlcmNlbnQudGV4dENvbnRlbnQgPQogICAgICAgICAgYCR7TWF0aC5yb3VuZCgocG9zaXRpb24gLyBmaWxlRGF0YS5ieXRlTGVuZ3RoKSAqIDEwMCl9JSBkb25lYDsKICAgIH0KICB9CgogIC8vIEFsbCBkb25lLgogIHlpZWxkIHsKICAgIHJlc3BvbnNlOiB7CiAgICAgIGFjdGlvbjogJ2NvbXBsZXRlJywKICAgIH0KICB9Owp9CgpzY29wZS5nb29nbGUgPSBzY29wZS5nb29nbGUgfHwge307CnNjb3BlLmdvb2dsZS5jb2xhYiA9IHNjb3BlLmdvb2dsZS5jb2xhYiB8fCB7fTsKc2NvcGUuZ29vZ2xlLmNvbGFiLl9maWxlcyA9IHsKICBfdXBsb2FkRmlsZXMsCiAgX3VwbG9hZEZpbGVzQ29udGludWUsCn07Cn0pKHNlbGYpOwo=",
              "ok": true,
              "headers": [
                [
                  "content-type",
                  "application/javascript"
                ]
              ],
              "status": 200,
              "status_text": ""
            }
          },
          "base_uri": "https://localhost:8080/",
          "height": 91
        }
      },
      "source": [
        "from google.colab import files\n",
        "uploaded = files.upload()\n",
        "\n",
        "for fn in uploaded.keys():\n",
        "  print('User uploaded file \"{name}\" with length {length} bytes'.format(\n",
        "      name = fn, length = len(uploaded[fn])))"
      ],
      "execution_count": 91,
      "outputs": [
        {
          "output_type": "display_data",
          "data": {
            "text/html": [
              "\n",
              "     <input type=\"file\" id=\"files-98b4110d-487c-4293-975d-d234411876d2\" name=\"files[]\" multiple disabled />\n",
              "     <output id=\"result-98b4110d-487c-4293-975d-d234411876d2\">\n",
              "      Upload widget is only available when the cell has been executed in the\n",
              "      current browser session. Please rerun this cell to enable.\n",
              "      </output>\n",
              "      <script src=\"/nbextensions/google.colab/files.js\"></script> "
            ],
            "text/plain": [
              "<IPython.core.display.HTML object>"
            ]
          },
          "metadata": {
            "tags": []
          }
        },
        {
          "output_type": "stream",
          "text": [
            "Saving Gold.csv to Gold.csv\n",
            "User uploaded file \"Gold.csv\" with length 412362 bytes\n"
          ],
          "name": "stdout"
        }
      ]
    },
    {
      "cell_type": "code",
      "metadata": {
        "id": "-fSFn74Jhqrj",
        "colab_type": "code",
        "colab": {}
      },
      "source": [
        "df = pd.read_csv(\"Gold.csv\")"
      ],
      "execution_count": 0,
      "outputs": []
    },
    {
      "cell_type": "code",
      "metadata": {
        "id": "4N1sT9lYhxg8",
        "colab_type": "code",
        "outputId": "780adcbd-9af0-44f2-d822-b13f1dae9676",
        "colab": {
          "base_uri": "https://localhost:8080/",
          "height": 196
        }
      },
      "source": [
        "df.tail()"
      ],
      "execution_count": 93,
      "outputs": [
        {
          "output_type": "execute_result",
          "data": {
            "text/html": [
              "<div>\n",
              "<style scoped>\n",
              "    .dataframe tbody tr th:only-of-type {\n",
              "        vertical-align: middle;\n",
              "    }\n",
              "\n",
              "    .dataframe tbody tr th {\n",
              "        vertical-align: top;\n",
              "    }\n",
              "\n",
              "    .dataframe thead th {\n",
              "        text-align: right;\n",
              "    }\n",
              "</style>\n",
              "<table border=\"1\" class=\"dataframe\">\n",
              "  <thead>\n",
              "    <tr style=\"text-align: right;\">\n",
              "      <th></th>\n",
              "      <th>Date</th>\n",
              "      <th>Open</th>\n",
              "      <th>High</th>\n",
              "      <th>Low</th>\n",
              "      <th>Close</th>\n",
              "      <th>Adj Close</th>\n",
              "      <th>Volume</th>\n",
              "    </tr>\n",
              "  </thead>\n",
              "  <tbody>\n",
              "    <tr>\n",
              "      <th>6209</th>\n",
              "      <td>2020-05-17</td>\n",
              "      <td>1757.500000</td>\n",
              "      <td>1768.300049</td>\n",
              "      <td>1755.199951</td>\n",
              "      <td>1767.900024</td>\n",
              "      <td>1767.900024</td>\n",
              "      <td>714482.0</td>\n",
              "    </tr>\n",
              "    <tr>\n",
              "      <th>6210</th>\n",
              "      <td>2020-05-18</td>\n",
              "      <td>1771.000000</td>\n",
              "      <td>1775.800049</td>\n",
              "      <td>1729.300049</td>\n",
              "      <td>1736.500000</td>\n",
              "      <td>1736.500000</td>\n",
              "      <td>142944830.0</td>\n",
              "    </tr>\n",
              "    <tr>\n",
              "      <th>6211</th>\n",
              "      <td>2020-05-19</td>\n",
              "      <td>1740.199951</td>\n",
              "      <td>1751.599976</td>\n",
              "      <td>1727.199951</td>\n",
              "      <td>1749.000000</td>\n",
              "      <td>1749.000000</td>\n",
              "      <td>98019332.0</td>\n",
              "    </tr>\n",
              "    <tr>\n",
              "      <th>6212</th>\n",
              "      <td>2020-05-20</td>\n",
              "      <td>1754.900024</td>\n",
              "      <td>1757.599976</td>\n",
              "      <td>1744.000000</td>\n",
              "      <td>1749.699951</td>\n",
              "      <td>1749.699951</td>\n",
              "      <td>90999071.0</td>\n",
              "    </tr>\n",
              "    <tr>\n",
              "      <th>6213</th>\n",
              "      <td>2020-05-21</td>\n",
              "      <td>1742.099976</td>\n",
              "      <td>1744.800049</td>\n",
              "      <td>1715.300049</td>\n",
              "      <td>1725.300049</td>\n",
              "      <td>1725.300049</td>\n",
              "      <td>117665805.0</td>\n",
              "    </tr>\n",
              "  </tbody>\n",
              "</table>\n",
              "</div>"
            ],
            "text/plain": [
              "            Date         Open  ...    Adj Close       Volume\n",
              "6209  2020-05-17  1757.500000  ...  1767.900024     714482.0\n",
              "6210  2020-05-18  1771.000000  ...  1736.500000  142944830.0\n",
              "6211  2020-05-19  1740.199951  ...  1749.000000   98019332.0\n",
              "6212  2020-05-20  1754.900024  ...  1749.699951   90999071.0\n",
              "6213  2020-05-21  1742.099976  ...  1725.300049  117665805.0\n",
              "\n",
              "[5 rows x 7 columns]"
            ]
          },
          "metadata": {
            "tags": []
          },
          "execution_count": 93
        }
      ]
    },
    {
      "cell_type": "code",
      "metadata": {
        "id": "fW7f0mXXh2Sm",
        "colab_type": "code",
        "outputId": "62f2b854-2818-4737-b638-69a8edea21cb",
        "colab": {
          "base_uri": "https://localhost:8080/",
          "height": 33
        }
      },
      "source": [
        "print(df.shape)"
      ],
      "execution_count": 94,
      "outputs": [
        {
          "output_type": "stream",
          "text": [
            "(6214, 7)\n"
          ],
          "name": "stdout"
        }
      ]
    },
    {
      "cell_type": "code",
      "metadata": {
        "id": "nZU4rsfah2b0",
        "colab_type": "code",
        "outputId": "651a19b7-cc93-4e98-cd01-30dfc5c1576f",
        "colab": {
          "base_uri": "https://localhost:8080/",
          "height": 150
        }
      },
      "source": [
        "df.isnull().sum()"
      ],
      "execution_count": 97,
      "outputs": [
        {
          "output_type": "execute_result",
          "data": {
            "text/plain": [
              "Date         0\n",
              "Open         0\n",
              "High         0\n",
              "Low          0\n",
              "Close        0\n",
              "Adj Close    0\n",
              "Volume       0\n",
              "dtype: int64"
            ]
          },
          "metadata": {
            "tags": []
          },
          "execution_count": 97
        }
      ]
    },
    {
      "cell_type": "code",
      "metadata": {
        "id": "j6Q8gGV56HWt",
        "colab_type": "code",
        "colab": {}
      },
      "source": [
        "# Fill NAN or null value \n",
        "\n",
        "df[\"Open\"].fillna( method ='ffill', inplace = True)\n",
        "df[\"High\"].fillna( method ='ffill', inplace = True)\n",
        "df[\"Low\"].fillna( method ='ffill', inplace = True)\n",
        "df[\"Close\"].fillna( method ='ffill', inplace = True)\n",
        "df[\"Adj Close\"].fillna( method ='ffill', inplace = True)\n",
        "df[\"Volume\"].fillna( method ='ffill', inplace = True)\n"
      ],
      "execution_count": 0,
      "outputs": []
    },
    {
      "cell_type": "code",
      "metadata": {
        "id": "FLwhWcq7iWyl",
        "colab_type": "code",
        "outputId": "292c9dab-3e82-4e85-d909-ac156fc10623",
        "colab": {
          "base_uri": "https://localhost:8080/",
          "height": 342
        }
      },
      "source": [
        "f, axs = plt.subplots(1, 1, figsize = (10, 10))\n",
        "\n",
        "price = df[\"High\"]\n",
        "\n",
        "plt.subplot(212)\n",
        "plt.grid(True)\n",
        "\n",
        "plt.xlabel('Time')\n",
        "plt.ylabel(\"Price\")\n",
        "plt.title('Price Vs Time')\n",
        "\n",
        "plt.plot(price, 'g')"
      ],
      "execution_count": 102,
      "outputs": [
        {
          "output_type": "execute_result",
          "data": {
            "text/plain": [
              "[<matplotlib.lines.Line2D at 0x7f0daac969e8>]"
            ]
          },
          "metadata": {
            "tags": []
          },
          "execution_count": 102
        },
        {
          "output_type": "display_data",
          "data": {
            "image/png": "[encoded data removed]",
            "text/plain": [
              "<Figure size 720x720 with 1 Axes>"
            ]
          },
          "metadata": {
            "tags": [],
            "needs_background": "light"
          }
        }
      ]
    },
    {
      "cell_type": "code",
      "metadata": {
        "id": "e_-KuWwQiW1z",
        "colab_type": "code",
        "colab": {}
      },
      "source": [
        "company_close = df.High.values.astype('float32')\n",
        "company_close = company_close.reshape(-1, 1)\n",
        "closing_stock = company_close"
      ],
      "execution_count": 0,
      "outputs": []
    },
    {
      "cell_type": "code",
      "metadata": {
        "id": "sGgUXxL4iW5Z",
        "colab_type": "code",
        "outputId": "d75d3911-f738-41df-9a58-a69cd0ede642",
        "colab": {
          "base_uri": "https://localhost:8080/",
          "height": 33
        }
      },
      "source": [
        "closing_stock[: , 0]"
      ],
      "execution_count": 104,
      "outputs": [
        {
          "output_type": "execute_result",
          "data": {
            "text/plain": [
              "array([ 292.5,  292.4,  291.5, ..., 1751.6, 1757.6, 1744.8], dtype=float32)"
            ]
          },
          "metadata": {
            "tags": []
          },
          "execution_count": 104
        }
      ]
    },
    {
      "cell_type": "code",
      "metadata": {
        "id": "W_KQTRVrjLEf",
        "colab_type": "code",
        "outputId": "a7380957-3bd1-475a-a894-cda2d2527533",
        "colab": {
          "base_uri": "https://localhost:8080/",
          "height": 33
        }
      },
      "source": [
        "stocks = closing_stock[: , 0]\n",
        "print(stocks)\n",
        "stocks = stocks.reshape(len(stocks) , 1)"
      ],
      "execution_count": 105,
      "outputs": [
        {
          "output_type": "stream",
          "text": [
            "[ 292.5  292.4  291.5 ... 1751.6 1757.6 1744.8]\n"
          ],
          "name": "stdout"
        }
      ]
    },
    {
      "cell_type": "code",
      "metadata": {
        "id": "K1ksv4qQjLbT",
        "colab_type": "code",
        "colab": {}
      },
      "source": [
        "#Feature scaling the vector for better model performance.\n",
        "\n",
        "from sklearn.preprocessing import MinMaxScaler\n",
        "scaler = MinMaxScaler(feature_range = (0, 1))\n",
        "stocks = scaler.fit_transform(stocks)"
      ],
      "execution_count": 0,
      "outputs": []
    },
    {
      "cell_type": "code",
      "metadata": {
        "id": "zwVbYiV8jWSd",
        "colab_type": "code",
        "colab": {}
      },
      "source": [
        "train = int(len(stocks) * 0.80)\n",
        "test = len(stocks) - train"
      ],
      "execution_count": 0,
      "outputs": []
    },
    {
      "cell_type": "code",
      "metadata": {
        "id": "98m9f8UBjWYj",
        "colab_type": "code",
        "outputId": "36bea2b1-b2d7-467a-d20a-f5b021c91c4f",
        "colab": {
          "base_uri": "https://localhost:8080/",
          "height": 33
        }
      },
      "source": [
        "print(train, test)"
      ],
      "execution_count": 109,
      "outputs": [
        {
          "output_type": "stream",
          "text": [
            "4971 1243\n"
          ],
          "name": "stdout"
        }
      ]
    },
    {
      "cell_type": "code",
      "metadata": {
        "id": "-1AvDKSUjWV1",
        "colab_type": "code",
        "outputId": "acd0715a-eede-41e7-c884-f9201905de2e",
        "colab": {
          "base_uri": "https://localhost:8080/",
          "height": 134
        }
      },
      "source": [
        "train = stocks[ 0 : train]\n",
        "print(train)"
      ],
      "execution_count": 110,
      "outputs": [
        {
          "output_type": "stream",
          "text": [
            "[[0.0219873 ]\n",
            " [0.02192689]\n",
            " [0.02138326]\n",
            " ...\n",
            " [0.5965569 ]\n",
            " [0.5913017 ]\n",
            " [0.5913017 ]]\n"
          ],
          "name": "stdout"
        }
      ]
    },
    {
      "cell_type": "code",
      "metadata": {
        "id": "MdbB2bCxjcWG",
        "colab_type": "code",
        "colab": {}
      },
      "source": [
        "test = stocks[len(train) : ]"
      ],
      "execution_count": 0,
      "outputs": []
    },
    {
      "cell_type": "code",
      "metadata": {
        "id": "vcMlDfWVjcZh",
        "colab_type": "code",
        "colab": {}
      },
      "source": [
        "train = train.reshape(len(train) , 1)\n",
        "test = test.reshape(len(test) , 1)"
      ],
      "execution_count": 0,
      "outputs": []
    },
    {
      "cell_type": "code",
      "metadata": {
        "id": "d0h5tTC2jn72",
        "colab_type": "code",
        "outputId": "8bf5921f-8165-476e-ce5c-21aec236607e",
        "colab": {
          "base_uri": "https://localhost:8080/",
          "height": 33
        }
      },
      "source": [
        "print(train.shape , test.shape)"
      ],
      "execution_count": 115,
      "outputs": [
        {
          "output_type": "stream",
          "text": [
            "(4971, 1) (1243, 1)\n"
          ],
          "name": "stdout"
        }
      ]
    },
    {
      "cell_type": "code",
      "metadata": {
        "id": "thxzGJ-kjoD9",
        "colab_type": "code",
        "colab": {}
      },
      "source": [
        "# Process_data for the required input for LSTM.\n",
        "\n",
        "def process_data(data , n_features):\n",
        "    dataX, dataY = [], []\n",
        "    for i in range(len(data) - n_features - 1):\n",
        "        a = data[i : (i + n_features), 0]\n",
        "        dataX.append(a)\n",
        "        dataY.append(data[i + n_features, 0])\n",
        "    return np.array(dataX), np.array(dataY)"
      ],
      "execution_count": 0,
      "outputs": []
    },
    {
      "cell_type": "code",
      "metadata": {
        "id": "1ewZI8Mmjuec",
        "colab_type": "code",
        "colab": {}
      },
      "source": [
        "#Here I am taking 2 past values to predict a single value. This has already been checked and optimized after taking several cases.\n",
        "\n",
        "n_features = 2\n",
        "\n",
        "trainX, trainY = process_data(train, n_features)\n",
        "testX, testY = process_data(test, n_features)"
      ],
      "execution_count": 0,
      "outputs": []
    },
    {
      "cell_type": "code",
      "metadata": {
        "id": "cP8w5GgVJ-3M",
        "colab_type": "code",
        "colab": {
          "base_uri": "https://localhost:8080/",
          "height": 33
        },
        "outputId": "68e76b05-cf21-464a-e15b-c1ea08267e9b"
      },
      "source": [
        "len(testY)\n"
      ],
      "execution_count": 118,
      "outputs": [
        {
          "output_type": "execute_result",
          "data": {
            "text/plain": [
              "1240"
            ]
          },
          "metadata": {
            "tags": []
          },
          "execution_count": 118
        }
      ]
    },
    {
      "cell_type": "code",
      "metadata": {
        "id": "3Tfkurzcjuhk",
        "colab_type": "code",
        "outputId": "4faab56f-8dfa-4942-89bb-17a612bbc479",
        "colab": {
          "base_uri": "https://localhost:8080/",
          "height": 33
        }
      },
      "source": [
        "print(trainX.shape , trainY.shape , testX.shape , testY.shape)"
      ],
      "execution_count": 119,
      "outputs": [
        {
          "output_type": "stream",
          "text": [
            "(4968, 2) (4968,) (1240, 2) (1240,)\n"
          ],
          "name": "stdout"
        }
      ]
    },
    {
      "cell_type": "code",
      "metadata": {
        "id": "Y59jLs7BjyyM",
        "colab_type": "code",
        "colab": {}
      },
      "source": [
        "#Reshaping again for required LSTM input as (sample , timestamp , features per sample).\n",
        "\n",
        "#Here I am taking timestamp as 1.\n",
        "\n",
        "trainX = trainX.reshape(trainX.shape[0] , 1 ,trainX.shape[1])\n",
        "testX = testX.reshape(testX.shape[0] , 1 ,testX.shape[1])"
      ],
      "execution_count": 0,
      "outputs": []
    },
    {
      "cell_type": "code",
      "metadata": {
        "id": "PIpIm2S7jy2p",
        "colab_type": "code",
        "colab": {}
      },
      "source": [
        "import math\n",
        "\n",
        "from keras.models import Sequential\n",
        "from keras.layers import Dense , BatchNormalization , Dropout , Activation\n",
        "from keras.layers import LSTM , GRU\n",
        "from keras.optimizers import Adam , SGD , RMSprop\n",
        "\n",
        "from sklearn.preprocessing import MinMaxScaler\n",
        "from sklearn.metrics import mean_squared_error\n"
      ],
      "execution_count": 0,
      "outputs": []
    },
    {
      "cell_type": "code",
      "metadata": {
        "id": "aG0H9y5ij4aT",
        "colab_type": "code",
        "outputId": "a760798e-e9f6-47ab-8304-3a7668c861c8",
        "colab": {
          "base_uri": "https://localhost:8080/",
          "height": 50
        }
      },
      "source": [
        "#Checkpointing the model when required and using other callbacks.\n",
        "\n",
        "from keras.callbacks import ReduceLROnPlateau , ModelCheckpoint\n",
        "\n",
        "filepath = \"stock_weights.hdf5\"\n",
        "\n",
        "lr_reduce = ReduceLROnPlateau(monitor = 'val_loss', factor = 0.1, epsilon = 0.0001, patience = 1, verbose = 1)\n",
        "checkpoint = ModelCheckpoint(filepath, monitor = 'val_loss', verbose = 1, save_best_only = True, mode = 'max')"
      ],
      "execution_count": 126,
      "outputs": [
        {
          "output_type": "stream",
          "text": [
            "/usr/local/lib/python3.6/dist-packages/keras/callbacks/callbacks.py:998: UserWarning: `epsilon` argument is deprecated and will be removed, use `min_delta` instead.\n",
            "  warnings.warn('`epsilon` argument is deprecated and '\n"
          ],
          "name": "stderr"
        }
      ]
    },
    {
      "cell_type": "code",
      "metadata": {
        "id": "gK5Qvecgj41F",
        "colab_type": "code",
        "outputId": "91e040b3-556c-4d71-c39e-6e69a0e01924",
        "colab": {
          "base_uri": "https://localhost:8080/",
          "height": 368
        }
      },
      "source": [
        "# Build Model\n",
        "\n",
        "model = Sequential()\n",
        "model.add(GRU(512, input_shape = (1 , n_features) , return_sequences = True)) # previous 256\n",
        "model.add(Dropout(0.4))\n",
        "model.add(LSTM(512))                # previous 256\n",
        "model.add(Dropout(0.4))\n",
        "model.add(Dense(128, activation = 'relu')) # previous 64\n",
        "model.add(Dense(1))\n",
        "\n",
        "print(model.summary())"
      ],
      "execution_count": 127,
      "outputs": [
        {
          "output_type": "stream",
          "text": [
            "Model: \"sequential_3\"\n",
            "_________________________________________________________________\n",
            "Layer (type)                 Output Shape              Param #   \n",
            "=================================================================\n",
            "gru_3 (GRU)                  (None, 1, 512)            791040    \n",
            "_________________________________________________________________\n",
            "dropout_5 (Dropout)          (None, 1, 512)            0         \n",
            "_________________________________________________________________\n",
            "lstm_3 (LSTM)                (None, 512)               2099200   \n",
            "_________________________________________________________________\n",
            "dropout_6 (Dropout)          (None, 512)               0         \n",
            "_________________________________________________________________\n",
            "dense_5 (Dense)              (None, 128)               65664     \n",
            "_________________________________________________________________\n",
            "dense_6 (Dense)              (None, 1)                 129       \n",
            "=================================================================\n",
            "Total params: 2,956,033\n",
            "Trainable params: 2,956,033\n",
            "Non-trainable params: 0\n",
            "_________________________________________________________________\n",
            "None\n"
          ],
          "name": "stdout"
        }
      ]
    },
    {
      "cell_type": "code",
      "metadata": {
        "id": "dHsn0f_Uj44K",
        "colab_type": "code",
        "colab": {}
      },
      "source": [
        "# Compile Model\n",
        "\n",
        "model.compile(loss = 'mean_squared_error', optimizer = Adam(lr = 0.0005), metrics = ['mean_squared_error'])\n"
      ],
      "execution_count": 0,
      "outputs": []
    },
    {
      "cell_type": "code",
      "metadata": {
        "id": "nVvnrRTmj-8x",
        "colab_type": "code",
        "outputId": "270b7af2-ae9d-49b0-970d-b08b37f8943d",
        "colab": {
          "base_uri": "https://localhost:8080/",
          "height": 1000
        }
      },
      "source": [
        "# Run Model\n",
        "\n",
        "history = model.fit(trainX, trainY, epochs = 100 , batch_size = 32, \n",
        "          callbacks = [checkpoint , lr_reduce] , validation_data = (testX, testY))"
      ],
      "execution_count": 129,
      "outputs": [
        {
          "output_type": "stream",
          "text": [
            "Train on 4968 samples, validate on 1240 samples\n",
            "Epoch 1/100\n",
            "4968/4968 [==============================] - 13s 3ms/step - loss: 0.0129 - mean_squared_error: 0.0129 - val_loss: 9.8159e-05 - val_mean_squared_error: 9.8159e-05\n",
            "\n",
            "Epoch 00001: val_loss improved from -inf to 0.00010, saving model to stock_weights.hdf5\n",
            "Epoch 2/100\n",
            "4968/4968 [==============================] - 11s 2ms/step - loss: 7.5826e-04 - mean_squared_error: 7.5826e-04 - val_loss: 4.5376e-04 - val_mean_squared_error: 4.5376e-04\n",
            "\n",
            "Epoch 00002: val_loss improved from 0.00010 to 0.00045, saving model to stock_weights.hdf5\n",
            "\n",
            "Epoch 00002: ReduceLROnPlateau reducing learning rate to 5.0000002374872565e-05.\n",
            "Epoch 3/100\n",
            "4968/4968 [==============================] - 12s 2ms/step - loss: 7.3640e-04 - mean_squared_error: 7.3640e-04 - val_loss: 1.2605e-04 - val_mean_squared_error: 1.2605e-04\n",
            "\n",
            "Epoch 00003: val_loss did not improve from 0.00045\n",
            "\n",
            "Epoch 00003: ReduceLROnPlateau reducing learning rate to 5.000000237487257e-06.\n",
            "Epoch 4/100\n",
            "4968/4968 [==============================] - 11s 2ms/step - loss: 6.7616e-04 - mean_squared_error: 6.7616e-04 - val_loss: 6.4742e-05 - val_mean_squared_error: 6.4742e-05\n",
            "\n",
            "Epoch 00004: val_loss did not improve from 0.00045\n",
            "\n",
            "Epoch 00004: ReduceLROnPlateau reducing learning rate to 5.000000328436726e-07.\n",
            "Epoch 5/100\n",
            "4968/4968 [==============================] - 11s 2ms/step - loss: 6.7264e-04 - mean_squared_error: 6.7264e-04 - val_loss: 6.6113e-05 - val_mean_squared_error: 6.6113e-05\n",
            "\n",
            "Epoch 00005: val_loss did not improve from 0.00045\n",
            "\n",
            "Epoch 00005: ReduceLROnPlateau reducing learning rate to 5.000000555810402e-08.\n",
            "Epoch 6/100\n",
            "4968/4968 [==============================] - 12s 2ms/step - loss: 6.6945e-04 - mean_squared_error: 6.6945e-04 - val_loss: 6.5934e-05 - val_mean_squared_error: 6.5934e-05\n",
            "\n",
            "Epoch 00006: val_loss did not improve from 0.00045\n",
            "\n",
            "Epoch 00006: ReduceLROnPlateau reducing learning rate to 5.000000413701855e-09.\n",
            "Epoch 7/100\n",
            "4968/4968 [==============================] - 11s 2ms/step - loss: 6.8389e-04 - mean_squared_error: 6.8389e-04 - val_loss: 6.5932e-05 - val_mean_squared_error: 6.5932e-05\n",
            "\n",
            "Epoch 00007: val_loss did not improve from 0.00045\n",
            "\n",
            "Epoch 00007: ReduceLROnPlateau reducing learning rate to 5.000000413701855e-10.\n",
            "Epoch 8/100\n",
            "4968/4968 [==============================] - 11s 2ms/step - loss: 7.0836e-04 - mean_squared_error: 7.0836e-04 - val_loss: 6.5932e-05 - val_mean_squared_error: 6.5932e-05\n",
            "\n",
            "Epoch 00008: val_loss did not improve from 0.00045\n",
            "\n",
            "Epoch 00008: ReduceLROnPlateau reducing learning rate to 5.000000413701855e-11.\n",
            "Epoch 9/100\n",
            "4968/4968 [==============================] - 11s 2ms/step - loss: 7.0600e-04 - mean_squared_error: 7.0600e-04 - val_loss: 6.5932e-05 - val_mean_squared_error: 6.5932e-05\n",
            "\n",
            "Epoch 00009: val_loss did not improve from 0.00045\n",
            "\n",
            "Epoch 00009: ReduceLROnPlateau reducing learning rate to 5.000000413701855e-12.\n",
            "Epoch 10/100\n",
            "4968/4968 [==============================] - 11s 2ms/step - loss: 6.4947e-04 - mean_squared_error: 6.4947e-04 - val_loss: 6.5932e-05 - val_mean_squared_error: 6.5932e-05\n",
            "\n",
            "Epoch 00010: val_loss did not improve from 0.00045\n",
            "\n",
            "Epoch 00010: ReduceLROnPlateau reducing learning rate to 5.000000413701855e-13.\n",
            "Epoch 11/100\n",
            "4968/4968 [==============================] - 11s 2ms/step - loss: 6.4974e-04 - mean_squared_error: 6.4974e-04 - val_loss: 6.5932e-05 - val_mean_squared_error: 6.5932e-05\n",
            "\n",
            "Epoch 00011: val_loss did not improve from 0.00045\n",
            "\n",
            "Epoch 00011: ReduceLROnPlateau reducing learning rate to 5.0000005221220725e-14.\n",
            "Epoch 12/100\n",
            "4968/4968 [==============================] - 11s 2ms/step - loss: 6.5679e-04 - mean_squared_error: 6.5679e-04 - val_loss: 6.5932e-05 - val_mean_squared_error: 6.5932e-05\n",
            "\n",
            "Epoch 00012: val_loss did not improve from 0.00045\n",
            "\n",
            "Epoch 00012: ReduceLROnPlateau reducing learning rate to 5.000000589884709e-15.\n",
            "Epoch 13/100\n",
            "4968/4968 [==============================] - 11s 2ms/step - loss: 6.5705e-04 - mean_squared_error: 6.5705e-04 - val_loss: 6.5932e-05 - val_mean_squared_error: 6.5932e-05\n",
            "\n",
            "Epoch 00013: val_loss did not improve from 0.00045\n",
            "\n",
            "Epoch 00013: ReduceLROnPlateau reducing learning rate to 5.000000759291298e-16.\n",
            "Epoch 14/100\n",
            "4968/4968 [==============================] - 11s 2ms/step - loss: 6.5703e-04 - mean_squared_error: 6.5703e-04 - val_loss: 6.5932e-05 - val_mean_squared_error: 6.5932e-05\n",
            "\n",
            "Epoch 00014: val_loss did not improve from 0.00045\n",
            "\n",
            "Epoch 00014: ReduceLROnPlateau reducing learning rate to 5.000000547533061e-17.\n",
            "Epoch 15/100\n",
            "4968/4968 [==============================] - 11s 2ms/step - loss: 7.0309e-04 - mean_squared_error: 7.0310e-04 - val_loss: 6.5932e-05 - val_mean_squared_error: 6.5932e-05\n",
            "\n",
            "Epoch 00015: val_loss did not improve from 0.00045\n",
            "\n",
            "Epoch 00015: ReduceLROnPlateau reducing learning rate to 5.000000415184163e-18.\n",
            "Epoch 16/100\n",
            "4968/4968 [==============================] - 11s 2ms/step - loss: 6.8286e-04 - mean_squared_error: 6.8286e-04 - val_loss: 6.5932e-05 - val_mean_squared_error: 6.5932e-05\n",
            "\n",
            "Epoch 00016: val_loss did not improve from 0.00045\n",
            "\n",
            "Epoch 00016: ReduceLROnPlateau reducing learning rate to 5.000000332466102e-19.\n",
            "Epoch 17/100\n",
            "4968/4968 [==============================] - 12s 2ms/step - loss: 6.5265e-04 - mean_squared_error: 6.5265e-04 - val_loss: 6.5932e-05 - val_mean_squared_error: 6.5932e-05\n",
            "\n",
            "Epoch 00017: val_loss did not improve from 0.00045\n",
            "\n",
            "Epoch 00017: ReduceLROnPlateau reducing learning rate to 5.000000229068525e-20.\n",
            "Epoch 18/100\n",
            "4968/4968 [==============================] - 12s 2ms/step - loss: 6.8460e-04 - mean_squared_error: 6.8460e-04 - val_loss: 6.5932e-05 - val_mean_squared_error: 6.5932e-05\n",
            "\n",
            "Epoch 00018: val_loss did not improve from 0.00045\n",
            "\n",
            "Epoch 00018: ReduceLROnPlateau reducing learning rate to 5.00000016444504e-21.\n",
            "Epoch 19/100\n",
            "4968/4968 [==============================] - 11s 2ms/step - loss: 6.4977e-04 - mean_squared_error: 6.4977e-04 - val_loss: 6.5932e-05 - val_mean_squared_error: 6.5932e-05\n",
            "\n",
            "Epoch 00019: val_loss did not improve from 0.00045\n",
            "\n",
            "Epoch 00019: ReduceLROnPlateau reducing learning rate to 5.000000245224397e-22.\n",
            "Epoch 20/100\n",
            "4968/4968 [==============================] - 11s 2ms/step - loss: 7.2292e-04 - mean_squared_error: 7.2292e-04 - val_loss: 6.5932e-05 - val_mean_squared_error: 6.5932e-05\n",
            "\n",
            "Epoch 00020: val_loss did not improve from 0.00045\n",
            "\n",
            "Epoch 00020: ReduceLROnPlateau reducing learning rate to 5.0000003461985925e-23.\n",
            "Epoch 21/100\n",
            "4968/4968 [==============================] - 11s 2ms/step - loss: 6.8021e-04 - mean_squared_error: 6.8021e-04 - val_loss: 6.5932e-05 - val_mean_squared_error: 6.5932e-05\n",
            "\n",
            "Epoch 00021: val_loss did not improve from 0.00045\n",
            "\n",
            "Epoch 00021: ReduceLROnPlateau reducing learning rate to 5.000000472416337e-24.\n",
            "Epoch 22/100\n",
            "4968/4968 [==============================] - 12s 2ms/step - loss: 6.7257e-04 - mean_squared_error: 6.7257e-04 - val_loss: 6.5932e-05 - val_mean_squared_error: 6.5932e-05\n",
            "\n",
            "Epoch 00022: val_loss did not improve from 0.00045\n",
            "\n",
            "Epoch 00022: ReduceLROnPlateau reducing learning rate to 5.000000393530247e-25.\n",
            "Epoch 23/100\n",
            "4968/4968 [==============================] - 12s 2ms/step - loss: 6.8802e-04 - mean_squared_error: 6.8802e-04 - val_loss: 6.5932e-05 - val_mean_squared_error: 6.5932e-05\n",
            "\n",
            "Epoch 00023: val_loss did not improve from 0.00045\n",
            "\n",
            "Epoch 00023: ReduceLROnPlateau reducing learning rate to 5.000000590745473e-26.\n",
            "Epoch 24/100\n",
            "4968/4968 [==============================] - 11s 2ms/step - loss: 7.0468e-04 - mean_squared_error: 7.0468e-04 - val_loss: 6.5932e-05 - val_mean_squared_error: 6.5932e-05\n",
            "\n",
            "Epoch 00024: val_loss did not improve from 0.00045\n",
            "\n",
            "Epoch 00024: ReduceLROnPlateau reducing learning rate to 5.000000714004989e-27.\n",
            "Epoch 25/100\n",
            "4968/4968 [==============================] - 11s 2ms/step - loss: 6.8949e-04 - mean_squared_error: 6.8949e-04 - val_loss: 6.5932e-05 - val_mean_squared_error: 6.5932e-05\n",
            "\n",
            "Epoch 00025: val_loss did not improve from 0.00045\n",
            "\n",
            "Epoch 00025: ReduceLROnPlateau reducing learning rate to 5.00000071400499e-28.\n",
            "Epoch 26/100\n",
            "4968/4968 [==============================] - 11s 2ms/step - loss: 6.9572e-04 - mean_squared_error: 6.9572e-04 - val_loss: 6.5932e-05 - val_mean_squared_error: 6.5932e-05\n",
            "\n",
            "Epoch 00026: val_loss did not improve from 0.00045\n",
            "\n",
            "Epoch 00026: ReduceLROnPlateau reducing learning rate to 5.000000617708492e-29.\n",
            "Epoch 27/100\n",
            "4968/4968 [==============================] - 11s 2ms/step - loss: 6.9063e-04 - mean_squared_error: 6.9063e-04 - val_loss: 6.5932e-05 - val_mean_squared_error: 6.5932e-05\n",
            "\n",
            "Epoch 00027: val_loss did not improve from 0.00045\n",
            "\n",
            "Epoch 00027: ReduceLROnPlateau reducing learning rate to 5.0000006177084924e-30.\n",
            "Epoch 28/100\n",
            "4968/4968 [==============================] - 12s 2ms/step - loss: 6.9090e-04 - mean_squared_error: 6.9090e-04 - val_loss: 6.5932e-05 - val_mean_squared_error: 6.5932e-05\n",
            "\n",
            "Epoch 00028: val_loss did not improve from 0.00045\n",
            "\n",
            "Epoch 00028: ReduceLROnPlateau reducing learning rate to 5.0000007681717695e-31.\n",
            "Epoch 29/100\n",
            "4968/4968 [==============================] - 12s 2ms/step - loss: 7.0469e-04 - mean_squared_error: 7.0469e-04 - val_loss: 6.5932e-05 - val_mean_squared_error: 6.5932e-05\n",
            "\n",
            "Epoch 00029: val_loss did not improve from 0.00045\n",
            "\n",
            "Epoch 00029: ReduceLROnPlateau reducing learning rate to 5.000000956250865e-32.\n",
            "Epoch 30/100\n",
            "4968/4968 [==============================] - 12s 2ms/step - loss: 6.5355e-04 - mean_squared_error: 6.5355e-04 - val_loss: 6.5932e-05 - val_mean_squared_error: 6.5932e-05\n",
            "\n",
            "Epoch 00030: val_loss did not improve from 0.00045\n",
            "\n",
            "Epoch 00030: ReduceLROnPlateau reducing learning rate to 5.0000010738003005e-33.\n",
            "Epoch 31/100\n",
            "4968/4968 [==============================] - 11s 2ms/step - loss: 6.9176e-04 - mean_squared_error: 6.9176e-04 - val_loss: 6.5932e-05 - val_mean_squared_error: 6.5932e-05\n",
            "\n",
            "Epoch 00031: val_loss did not improve from 0.00045\n",
            "\n",
            "Epoch 00031: ReduceLROnPlateau reducing learning rate to 5.000001220737094e-34.\n",
            "Epoch 32/100\n",
            "4968/4968 [==============================] - 12s 2ms/step - loss: 6.8235e-04 - mean_squared_error: 6.8235e-04 - val_loss: 6.5932e-05 - val_mean_squared_error: 6.5932e-05\n",
            "\n",
            "Epoch 00032: val_loss did not improve from 0.00045\n",
            "\n",
            "Epoch 00032: ReduceLROnPlateau reducing learning rate to 5.000001037066102e-35.\n",
            "Epoch 33/100\n",
            "4968/4968 [==============================] - 11s 2ms/step - loss: 6.6742e-04 - mean_squared_error: 6.6742e-04 - val_loss: 6.5932e-05 - val_mean_squared_error: 6.5932e-05\n",
            "\n",
            "Epoch 00033: val_loss did not improve from 0.00045\n",
            "\n",
            "Epoch 00033: ReduceLROnPlateau reducing learning rate to 5.000000807477361e-36.\n",
            "Epoch 34/100\n",
            "4968/4968 [==============================] - 12s 2ms/step - loss: 6.7701e-04 - mean_squared_error: 6.7701e-04 - val_loss: 6.5932e-05 - val_mean_squared_error: 6.5932e-05\n",
            "\n",
            "Epoch 00034: val_loss did not improve from 0.00045\n",
            "\n",
            "Epoch 00034: ReduceLROnPlateau reducing learning rate to 5.000000807477361e-37.\n",
            "Epoch 35/100\n",
            "4968/4968 [==============================] - 12s 2ms/step - loss: 6.4363e-04 - mean_squared_error: 6.4363e-04 - val_loss: 6.5932e-05 - val_mean_squared_error: 6.5932e-05\n",
            "\n",
            "Epoch 00035: val_loss did not improve from 0.00045\n",
            "\n",
            "Epoch 00035: ReduceLROnPlateau reducing learning rate to 5.000000628111158e-38.\n",
            "Epoch 36/100\n",
            "4968/4968 [==============================] - 11s 2ms/step - loss: 6.8348e-04 - mean_squared_error: 6.8348e-04 - val_loss: 6.5932e-05 - val_mean_squared_error: 6.5932e-05\n",
            "\n",
            "Epoch 00036: val_loss did not improve from 0.00045\n",
            "\n",
            "Epoch 00036: ReduceLROnPlateau reducing learning rate to 5.000000516007281e-39.\n",
            "Epoch 37/100\n",
            "4968/4968 [==============================] - 11s 2ms/step - loss: 6.8173e-04 - mean_squared_error: 6.8173e-04 - val_loss: 6.5932e-05 - val_mean_squared_error: 6.5932e-05\n",
            "\n",
            "Epoch 00037: val_loss did not improve from 0.00045\n",
            "\n",
            "Epoch 00037: ReduceLROnPlateau reducing learning rate to 5.000001076526666e-40.\n",
            "Epoch 38/100\n",
            "4968/4968 [==============================] - 12s 2ms/step - loss: 6.9204e-04 - mean_squared_error: 6.9204e-04 - val_loss: 6.5932e-05 - val_mean_squared_error: 6.5932e-05\n",
            "\n",
            "Epoch 00038: val_loss did not improve from 0.00045\n",
            "\n",
            "Epoch 00038: ReduceLROnPlateau reducing learning rate to 5.000001076526667e-41.\n",
            "Epoch 39/100\n",
            "4968/4968 [==============================] - 11s 2ms/step - loss: 6.3648e-04 - mean_squared_error: 6.3648e-04 - val_loss: 6.5932e-05 - val_mean_squared_error: 6.5932e-05\n",
            "\n",
            "Epoch 00039: val_loss did not improve from 0.00045\n",
            "\n",
            "Epoch 00039: ReduceLROnPlateau reducing learning rate to 4.99997305055738e-42.\n",
            "Epoch 40/100\n",
            "4968/4968 [==============================] - 11s 2ms/step - loss: 6.5142e-04 - mean_squared_error: 6.5142e-04 - val_loss: 6.5932e-05 - val_mean_squared_error: 6.5932e-05\n",
            "\n",
            "Epoch 00040: val_loss did not improve from 0.00045\n",
            "\n",
            "Epoch 00040: ReduceLROnPlateau reducing learning rate to 4.9998329207109475e-43.\n",
            "Epoch 41/100\n",
            "4968/4968 [==============================] - 12s 2ms/step - loss: 7.0220e-04 - mean_squared_error: 7.0220e-04 - val_loss: 6.5932e-05 - val_mean_squared_error: 6.5932e-05\n",
            "\n",
            "Epoch 00041: val_loss did not improve from 0.00045\n",
            "\n",
            "Epoch 00041: ReduceLROnPlateau reducing learning rate to 5.002635517639597e-44.\n",
            "Epoch 42/100\n",
            "4968/4968 [==============================] - 12s 2ms/step - loss: 6.4682e-04 - mean_squared_error: 6.4682e-04 - val_loss: 6.5932e-05 - val_mean_squared_error: 6.5932e-05\n",
            "\n",
            "Epoch 00042: val_loss did not improve from 0.00045\n",
            "\n",
            "Epoch 00042: ReduceLROnPlateau reducing learning rate to 5.0446744715693416e-45.\n",
            "Epoch 43/100\n",
            "4968/4968 [==============================] - 12s 2ms/step - loss: 6.6124e-04 - mean_squared_error: 6.6124e-04 - val_loss: 6.5932e-05 - val_mean_squared_error: 6.5932e-05\n",
            "\n",
            "Epoch 00043: val_loss did not improve from 0.00045\n",
            "\n",
            "Epoch 00043: ReduceLROnPlateau reducing learning rate to 5.6051938572992686e-46.\n",
            "Epoch 44/100\n",
            "4968/4968 [==============================] - 12s 2ms/step - loss: 6.5306e-04 - mean_squared_error: 6.5306e-04 - val_loss: 6.5932e-05 - val_mean_squared_error: 6.5932e-05\n",
            "\n",
            "Epoch 00044: val_loss did not improve from 0.00045\n",
            "Epoch 45/100\n",
            "4968/4968 [==============================] - 12s 2ms/step - loss: 6.9141e-04 - mean_squared_error: 6.9141e-04 - val_loss: 6.5932e-05 - val_mean_squared_error: 6.5932e-05\n",
            "\n",
            "Epoch 00045: val_loss did not improve from 0.00045\n",
            "Epoch 46/100\n",
            "4968/4968 [==============================] - 11s 2ms/step - loss: 6.7720e-04 - mean_squared_error: 6.7720e-04 - val_loss: 6.5932e-05 - val_mean_squared_error: 6.5932e-05\n",
            "\n",
            "Epoch 00046: val_loss did not improve from 0.00045\n",
            "Epoch 47/100\n",
            "4968/4968 [==============================] - 11s 2ms/step - loss: 6.3172e-04 - mean_squared_error: 6.3171e-04 - val_loss: 6.5932e-05 - val_mean_squared_error: 6.5932e-05\n",
            "\n",
            "Epoch 00047: val_loss did not improve from 0.00045\n",
            "Epoch 48/100\n",
            "4968/4968 [==============================] - 11s 2ms/step - loss: 7.0809e-04 - mean_squared_error: 7.0809e-04 - val_loss: 6.5932e-05 - val_mean_squared_error: 6.5932e-05\n",
            "\n",
            "Epoch 00048: val_loss did not improve from 0.00045\n",
            "Epoch 49/100\n",
            "4968/4968 [==============================] - 12s 2ms/step - loss: 6.6807e-04 - mean_squared_error: 6.6807e-04 - val_loss: 6.5932e-05 - val_mean_squared_error: 6.5932e-05\n",
            "\n",
            "Epoch 00049: val_loss did not improve from 0.00045\n",
            "Epoch 50/100\n",
            "4968/4968 [==============================] - 11s 2ms/step - loss: 6.8388e-04 - mean_squared_error: 6.8388e-04 - val_loss: 6.5932e-05 - val_mean_squared_error: 6.5932e-05\n",
            "\n",
            "Epoch 00050: val_loss did not improve from 0.00045\n",
            "Epoch 51/100\n",
            "4968/4968 [==============================] - 11s 2ms/step - loss: 7.1851e-04 - mean_squared_error: 7.1851e-04 - val_loss: 6.5932e-05 - val_mean_squared_error: 6.5932e-05\n",
            "\n",
            "Epoch 00051: val_loss did not improve from 0.00045\n",
            "Epoch 52/100\n",
            "4968/4968 [==============================] - 11s 2ms/step - loss: 6.5034e-04 - mean_squared_error: 6.5034e-04 - val_loss: 6.5932e-05 - val_mean_squared_error: 6.5932e-05\n",
            "\n",
            "Epoch 00052: val_loss did not improve from 0.00045\n",
            "Epoch 53/100\n",
            "4968/4968 [==============================] - 12s 2ms/step - loss: 6.7536e-04 - mean_squared_error: 6.7536e-04 - val_loss: 6.5932e-05 - val_mean_squared_error: 6.5932e-05\n",
            "\n",
            "Epoch 00053: val_loss did not improve from 0.00045\n",
            "Epoch 54/100\n",
            "4968/4968 [==============================] - 12s 2ms/step - loss: 6.8084e-04 - mean_squared_error: 6.8084e-04 - val_loss: 6.5932e-05 - val_mean_squared_error: 6.5932e-05\n",
            "\n",
            "Epoch 00054: val_loss did not improve from 0.00045\n",
            "Epoch 55/100\n",
            "4968/4968 [==============================] - 12s 2ms/step - loss: 6.5129e-04 - mean_squared_error: 6.5129e-04 - val_loss: 6.5932e-05 - val_mean_squared_error: 6.5932e-05\n",
            "\n",
            "Epoch 00055: val_loss did not improve from 0.00045\n",
            "Epoch 56/100\n",
            "4968/4968 [==============================] - 12s 2ms/step - loss: 6.7387e-04 - mean_squared_error: 6.7387e-04 - val_loss: 6.5932e-05 - val_mean_squared_error: 6.5932e-05\n",
            "\n",
            "Epoch 00056: val_loss did not improve from 0.00045\n",
            "Epoch 57/100\n",
            "4968/4968 [==============================] - 12s 2ms/step - loss: 6.8111e-04 - mean_squared_error: 6.8111e-04 - val_loss: 6.5932e-05 - val_mean_squared_error: 6.5932e-05\n",
            "\n",
            "Epoch 00057: val_loss did not improve from 0.00045\n",
            "Epoch 58/100\n",
            "4968/4968 [==============================] - 12s 2ms/step - loss: 6.6026e-04 - mean_squared_error: 6.6026e-04 - val_loss: 6.5932e-05 - val_mean_squared_error: 6.5932e-05\n",
            "\n",
            "Epoch 00058: val_loss did not improve from 0.00045\n",
            "Epoch 59/100\n",
            "4968/4968 [==============================] - 12s 2ms/step - loss: 6.6464e-04 - mean_squared_error: 6.6464e-04 - val_loss: 6.5932e-05 - val_mean_squared_error: 6.5932e-05\n",
            "\n",
            "Epoch 00059: val_loss did not improve from 0.00045\n",
            "Epoch 60/100\n",
            "4968/4968 [==============================] - 11s 2ms/step - loss: 6.9467e-04 - mean_squared_error: 6.9467e-04 - val_loss: 6.5932e-05 - val_mean_squared_error: 6.5932e-05\n",
            "\n",
            "Epoch 00060: val_loss did not improve from 0.00045\n",
            "Epoch 61/100\n",
            "4968/4968 [==============================] - 12s 2ms/step - loss: 6.9074e-04 - mean_squared_error: 6.9074e-04 - val_loss: 6.5932e-05 - val_mean_squared_error: 6.5932e-05\n",
            "\n",
            "Epoch 00061: val_loss did not improve from 0.00045\n",
            "Epoch 62/100\n",
            "4968/4968 [==============================] - 12s 2ms/step - loss: 6.5431e-04 - mean_squared_error: 6.5431e-04 - val_loss: 6.5932e-05 - val_mean_squared_error: 6.5932e-05\n",
            "\n",
            "Epoch 00062: val_loss did not improve from 0.00045\n",
            "Epoch 63/100\n",
            "4968/4968 [==============================] - 11s 2ms/step - loss: 6.8142e-04 - mean_squared_error: 6.8142e-04 - val_loss: 6.5932e-05 - val_mean_squared_error: 6.5932e-05\n",
            "\n",
            "Epoch 00063: val_loss did not improve from 0.00045\n",
            "Epoch 64/100\n",
            "4968/4968 [==============================] - 12s 2ms/step - loss: 6.5762e-04 - mean_squared_error: 6.5762e-04 - val_loss: 6.5932e-05 - val_mean_squared_error: 6.5932e-05\n",
            "\n",
            "Epoch 00064: val_loss did not improve from 0.00045\n",
            "Epoch 65/100\n",
            "4968/4968 [==============================] - 12s 2ms/step - loss: 7.1850e-04 - mean_squared_error: 7.1850e-04 - val_loss: 6.5932e-05 - val_mean_squared_error: 6.5932e-05\n",
            "\n",
            "Epoch 00065: val_loss did not improve from 0.00045\n",
            "Epoch 66/100\n",
            "4968/4968 [==============================] - 12s 2ms/step - loss: 6.5309e-04 - mean_squared_error: 6.5309e-04 - val_loss: 6.5932e-05 - val_mean_squared_error: 6.5932e-05\n",
            "\n",
            "Epoch 00066: val_loss did not improve from 0.00045\n",
            "Epoch 67/100\n",
            "4968/4968 [==============================] - 11s 2ms/step - loss: 6.8675e-04 - mean_squared_error: 6.8675e-04 - val_loss: 6.5932e-05 - val_mean_squared_error: 6.5932e-05\n",
            "\n",
            "Epoch 00067: val_loss did not improve from 0.00045\n",
            "Epoch 68/100\n",
            "4968/4968 [==============================] - 11s 2ms/step - loss: 7.5051e-04 - mean_squared_error: 7.5051e-04 - val_loss: 6.5932e-05 - val_mean_squared_error: 6.5932e-05\n",
            "\n",
            "Epoch 00068: val_loss did not improve from 0.00045\n",
            "Epoch 69/100\n",
            "4968/4968 [==============================] - 12s 2ms/step - loss: 6.7053e-04 - mean_squared_error: 6.7053e-04 - val_loss: 6.5932e-05 - val_mean_squared_error: 6.5932e-05\n",
            "\n",
            "Epoch 00069: val_loss did not improve from 0.00045\n",
            "Epoch 70/100\n",
            "4968/4968 [==============================] - 12s 2ms/step - loss: 7.1885e-04 - mean_squared_error: 7.1885e-04 - val_loss: 6.5932e-05 - val_mean_squared_error: 6.5932e-05\n",
            "\n",
            "Epoch 00070: val_loss did not improve from 0.00045\n",
            "Epoch 71/100\n",
            "4968/4968 [==============================] - 11s 2ms/step - loss: 6.9484e-04 - mean_squared_error: 6.9484e-04 - val_loss: 6.5932e-05 - val_mean_squared_error: 6.5932e-05\n",
            "\n",
            "Epoch 00071: val_loss did not improve from 0.00045\n",
            "Epoch 72/100\n",
            "4968/4968 [==============================] - 12s 2ms/step - loss: 7.0929e-04 - mean_squared_error: 7.0929e-04 - val_loss: 6.5932e-05 - val_mean_squared_error: 6.5932e-05\n",
            "\n",
            "Epoch 00072: val_loss did not improve from 0.00045\n",
            "Epoch 73/100\n",
            "4968/4968 [==============================] - 11s 2ms/step - loss: 6.6648e-04 - mean_squared_error: 6.6648e-04 - val_loss: 6.5932e-05 - val_mean_squared_error: 6.5932e-05\n",
            "\n",
            "Epoch 00073: val_loss did not improve from 0.00045\n",
            "Epoch 74/100\n",
            "4968/4968 [==============================] - 11s 2ms/step - loss: 6.7274e-04 - mean_squared_error: 6.7274e-04 - val_loss: 6.5932e-05 - val_mean_squared_error: 6.5932e-05\n",
            "\n",
            "Epoch 00074: val_loss did not improve from 0.00045\n",
            "Epoch 75/100\n",
            "4968/4968 [==============================] - 12s 2ms/step - loss: 6.9921e-04 - mean_squared_error: 6.9921e-04 - val_loss: 6.5932e-05 - val_mean_squared_error: 6.5932e-05\n",
            "\n",
            "Epoch 00075: val_loss did not improve from 0.00045\n",
            "Epoch 76/100\n",
            "4968/4968 [==============================] - 12s 2ms/step - loss: 6.6354e-04 - mean_squared_error: 6.6354e-04 - val_loss: 6.5932e-05 - val_mean_squared_error: 6.5932e-05\n",
            "\n",
            "Epoch 00076: val_loss did not improve from 0.00045\n",
            "Epoch 77/100\n",
            "4968/4968 [==============================] - 11s 2ms/step - loss: 6.5310e-04 - mean_squared_error: 6.5310e-04 - val_loss: 6.5932e-05 - val_mean_squared_error: 6.5932e-05\n",
            "\n",
            "Epoch 00077: val_loss did not improve from 0.00045\n",
            "Epoch 78/100\n",
            "4968/4968 [==============================] - 11s 2ms/step - loss: 6.4644e-04 - mean_squared_error: 6.4644e-04 - val_loss: 6.5932e-05 - val_mean_squared_error: 6.5932e-05\n",
            "\n",
            "Epoch 00078: val_loss did not improve from 0.00045\n",
            "Epoch 79/100\n",
            "4968/4968 [==============================] - 11s 2ms/step - loss: 6.9134e-04 - mean_squared_error: 6.9134e-04 - val_loss: 6.5932e-05 - val_mean_squared_error: 6.5932e-05\n",
            "\n",
            "Epoch 00079: val_loss did not improve from 0.00045\n",
            "Epoch 80/100\n",
            "4968/4968 [==============================] - 11s 2ms/step - loss: 6.7759e-04 - mean_squared_error: 6.7759e-04 - val_loss: 6.5932e-05 - val_mean_squared_error: 6.5932e-05\n",
            "\n",
            "Epoch 00080: val_loss did not improve from 0.00045\n",
            "Epoch 81/100\n",
            "4968/4968 [==============================] - 11s 2ms/step - loss: 6.4294e-04 - mean_squared_error: 6.4294e-04 - val_loss: 6.5932e-05 - val_mean_squared_error: 6.5932e-05\n",
            "\n",
            "Epoch 00081: val_loss did not improve from 0.00045\n",
            "Epoch 82/100\n",
            "4968/4968 [==============================] - 11s 2ms/step - loss: 6.2390e-04 - mean_squared_error: 6.2390e-04 - val_loss: 6.5932e-05 - val_mean_squared_error: 6.5932e-05\n",
            "\n",
            "Epoch 00082: val_loss did not improve from 0.00045\n",
            "Epoch 83/100\n",
            "4968/4968 [==============================] - 11s 2ms/step - loss: 7.0859e-04 - mean_squared_error: 7.0859e-04 - val_loss: 6.5932e-05 - val_mean_squared_error: 6.5932e-05\n",
            "\n",
            "Epoch 00083: val_loss did not improve from 0.00045\n",
            "Epoch 84/100\n",
            "4968/4968 [==============================] - 12s 2ms/step - loss: 6.8508e-04 - mean_squared_error: 6.8508e-04 - val_loss: 6.5932e-05 - val_mean_squared_error: 6.5932e-05\n",
            "\n",
            "Epoch 00084: val_loss did not improve from 0.00045\n",
            "Epoch 85/100\n",
            "4968/4968 [==============================] - 11s 2ms/step - loss: 6.7619e-04 - mean_squared_error: 6.7619e-04 - val_loss: 6.5932e-05 - val_mean_squared_error: 6.5932e-05\n",
            "\n",
            "Epoch 00085: val_loss did not improve from 0.00045\n",
            "Epoch 86/100\n",
            "4968/4968 [==============================] - 11s 2ms/step - loss: 6.7106e-04 - mean_squared_error: 6.7105e-04 - val_loss: 6.5932e-05 - val_mean_squared_error: 6.5932e-05\n",
            "\n",
            "Epoch 00086: val_loss did not improve from 0.00045\n",
            "Epoch 87/100\n",
            "4968/4968 [==============================] - 12s 2ms/step - loss: 6.7892e-04 - mean_squared_error: 6.7892e-04 - val_loss: 6.5932e-05 - val_mean_squared_error: 6.5932e-05\n",
            "\n",
            "Epoch 00087: val_loss did not improve from 0.00045\n",
            "Epoch 88/100\n",
            "4968/4968 [==============================] - 11s 2ms/step - loss: 6.6537e-04 - mean_squared_error: 6.6537e-04 - val_loss: 6.5932e-05 - val_mean_squared_error: 6.5932e-05\n",
            "\n",
            "Epoch 00088: val_loss did not improve from 0.00045\n",
            "Epoch 89/100\n",
            "4968/4968 [==============================] - 12s 2ms/step - loss: 6.6322e-04 - mean_squared_error: 6.6322e-04 - val_loss: 6.5932e-05 - val_mean_squared_error: 6.5932e-05\n",
            "\n",
            "Epoch 00089: val_loss did not improve from 0.00045\n",
            "Epoch 90/100\n",
            "4968/4968 [==============================] - 11s 2ms/step - loss: 6.7469e-04 - mean_squared_error: 6.7469e-04 - val_loss: 6.5932e-05 - val_mean_squared_error: 6.5932e-05\n",
            "\n",
            "Epoch 00090: val_loss did not improve from 0.00045\n",
            "Epoch 91/100\n",
            "4968/4968 [==============================] - 12s 2ms/step - loss: 6.9086e-04 - mean_squared_error: 6.9086e-04 - val_loss: 6.5932e-05 - val_mean_squared_error: 6.5932e-05\n",
            "\n",
            "Epoch 00091: val_loss did not improve from 0.00045\n",
            "Epoch 92/100\n",
            "4968/4968 [==============================] - 12s 2ms/step - loss: 6.7144e-04 - mean_squared_error: 6.7144e-04 - val_loss: 6.5932e-05 - val_mean_squared_error: 6.5932e-05\n",
            "\n",
            "Epoch 00092: val_loss did not improve from 0.00045\n",
            "Epoch 93/100\n",
            "4968/4968 [==============================] - 11s 2ms/step - loss: 6.8817e-04 - mean_squared_error: 6.8817e-04 - val_loss: 6.5932e-05 - val_mean_squared_error: 6.5932e-05\n",
            "\n",
            "Epoch 00093: val_loss did not improve from 0.00045\n",
            "Epoch 94/100\n",
            "4968/4968 [==============================] - 11s 2ms/step - loss: 6.6129e-04 - mean_squared_error: 6.6129e-04 - val_loss: 6.5932e-05 - val_mean_squared_error: 6.5932e-05\n",
            "\n",
            "Epoch 00094: val_loss did not improve from 0.00045\n",
            "Epoch 95/100\n",
            "4968/4968 [==============================] - 11s 2ms/step - loss: 6.5456e-04 - mean_squared_error: 6.5456e-04 - val_loss: 6.5932e-05 - val_mean_squared_error: 6.5932e-05\n",
            "\n",
            "Epoch 00095: val_loss did not improve from 0.00045\n",
            "Epoch 96/100\n",
            "4968/4968 [==============================] - 11s 2ms/step - loss: 6.6162e-04 - mean_squared_error: 6.6162e-04 - val_loss: 6.5932e-05 - val_mean_squared_error: 6.5932e-05\n",
            "\n",
            "Epoch 00096: val_loss did not improve from 0.00045\n",
            "Epoch 97/100\n",
            "4968/4968 [==============================] - 16s 3ms/step - loss: 6.5584e-04 - mean_squared_error: 6.5584e-04 - val_loss: 6.5932e-05 - val_mean_squared_error: 6.5932e-05\n",
            "\n",
            "Epoch 00097: val_loss did not improve from 0.00045\n",
            "Epoch 98/100\n",
            "4968/4968 [==============================] - 11s 2ms/step - loss: 6.7926e-04 - mean_squared_error: 6.7926e-04 - val_loss: 6.5932e-05 - val_mean_squared_error: 6.5932e-05\n",
            "\n",
            "Epoch 00098: val_loss did not improve from 0.00045\n",
            "Epoch 99/100\n",
            "4968/4968 [==============================] - 11s 2ms/step - loss: 6.6003e-04 - mean_squared_error: 6.6003e-04 - val_loss: 6.5932e-05 - val_mean_squared_error: 6.5932e-05\n",
            "\n",
            "Epoch 00099: val_loss did not improve from 0.00045\n",
            "Epoch 100/100\n",
            "4968/4968 [==============================] - 11s 2ms/step - loss: 6.5860e-04 - mean_squared_error: 6.5860e-04 - val_loss: 6.5932e-05 - val_mean_squared_error: 6.5932e-05\n",
            "\n",
            "Epoch 00100: val_loss did not improve from 0.00045\n"
          ],
          "name": "stdout"
        }
      ]
    },
    {
      "cell_type": "code",
      "metadata": {
        "id": "ocXX3BpUj_I1",
        "colab_type": "code",
        "outputId": "8944291c-4906-4de9-bb44-898b64a51c4c",
        "colab": {
          "base_uri": "https://localhost:8080/",
          "height": 1000
        }
      },
      "source": [
        "plt.plot(history.history['mean_squared_error'])\n",
        "plt.plot(history.history['val_mean_squared_error'])\n",
        "plt.title('model mean squared error')\n",
        "plt.ylabel('accuracy')\n",
        "plt.xlabel('epoch')\n",
        "plt.legend(['train', 'test'], loc='upper left')\n",
        "plt.show()\n",
        "\n",
        "# summarize history for loss\n",
        "plt.plot(history.history['loss'])\n",
        "plt.plot(history.history['val_loss'])\n",
        "plt.title('model loss')\n",
        "plt.ylabel('loss')\n",
        "plt.xlabel('epoch')\n",
        "plt.legend(['train', 'test'], loc='upper left')\n",
        "plt.show()"
      ],
      "execution_count": 130,
      "outputs": [
        {
          "output_type": "display_data",
          "data": {
            "image/png": "[encoded data removed]",
            "text/plain": [
              "<Figure size 1800x720 with 1 Axes>"
            ]
          },
          "metadata": {
            "tags": [],
            "needs_background": "light"
          }
        },
        {
          "output_type": "display_data",
          "data": {
            "image/png": "[encoded data removed]",
            "text/plain": [
              "<Figure size 1800x720 with 1 Axes>"
            ]
          },
          "metadata": {
            "tags": [],
            "needs_background": "light"
          }
        }
      ]
    },
    {
      "cell_type": "code",
      "metadata": {
        "id": "o7YistWRkDyw",
        "colab_type": "code",
        "outputId": "eb98c295-9b1c-4fbe-83b7-002d20c992f2",
        "colab": {
          "base_uri": "https://localhost:8080/",
          "height": 67
        }
      },
      "source": [
        "# The mean square error for validation set is 0.000174 which is very low and good as well.\n",
        "\n",
        "def model_score(model, X_train, y_train, X_test, y_test):\n",
        "    trainScore = model.evaluate(X_train, y_train, verbose=0)\n",
        "    print('Train Score: %.5f MSE (%.2f RMSE)' % (trainScore[0], math.sqrt(trainScore[0])))\n",
        "\n",
        "    testScore = model.evaluate(X_test, y_test, verbose=0)\n",
        "    print('Test Score: %.5f MSE (%.2f RMSE)' % (testScore[0], math.sqrt(testScore[0])))\n",
        "\n",
        "    return trainScore[0], testScore[0]\n",
        "\n",
        "model_score(model, trainX, trainY , testX, testY)"
      ],
      "execution_count": 131,
      "outputs": [
        {
          "output_type": "stream",
          "text": [
            "Train Score: 0.00005 MSE (0.01 RMSE)\n",
            "Test Score: 0.00007 MSE (0.01 RMSE)\n"
          ],
          "name": "stdout"
        },
        {
          "output_type": "execute_result",
          "data": {
            "text/plain": [
              "(4.537367836357279e-05, 6.593184474284851e-05)"
            ]
          },
          "metadata": {
            "tags": []
          },
          "execution_count": 131
        }
      ]
    },
    {
      "cell_type": "code",
      "metadata": {
        "id": "Jk0B-G3LkI-u",
        "colab_type": "code",
        "outputId": "3af4ebf2-005c-4696-8298-e520136e1aac",
        "colab": {
          "base_uri": "https://localhost:8080/",
          "height": 184
        }
      },
      "source": [
        "# Inverse transforming the scaled vector earlier and checking for the error visually in the graph\n",
        "\n",
        "pred = model.predict(testX)\n",
        "pred = scaler.inverse_transform(pred)\n",
        "pred[:10]"
      ],
      "execution_count": 132,
      "outputs": [
        {
          "output_type": "execute_result",
          "data": {
            "text/plain": [
              "array([[1245.6866],\n",
              "       [1253.0006],\n",
              "       [1260.2993],\n",
              "       [1256.1727],\n",
              "       [1245.394 ],\n",
              "       [1241.5436],\n",
              "       [1239.509 ],\n",
              "       [1243.8038],\n",
              "       [1256.8267],\n",
              "       [1279.7462]], dtype=float32)"
            ]
          },
          "metadata": {
            "tags": []
          },
          "execution_count": 132
        }
      ]
    },
    {
      "cell_type": "code",
      "metadata": {
        "id": "bfcO3fq4kJI9",
        "colab_type": "code",
        "outputId": "e8b26f01-4007-41f3-b295-fe619c39b6cf",
        "colab": {
          "base_uri": "https://localhost:8080/",
          "height": 184
        }
      },
      "source": [
        "testY = testY.reshape(testY.shape[0] , 1)\n",
        "testY = scaler.inverse_transform(testY)\n",
        "testY[:10]"
      ],
      "execution_count": 133,
      "outputs": [
        {
          "output_type": "execute_result",
          "data": {
            "text/plain": [
              "array([[1256.1],\n",
              "       [1270.6],\n",
              "       [1248.5],\n",
              "       [1248.5],\n",
              "       [1240.9],\n",
              "       [1244.2],\n",
              "       [1249.5],\n",
              "       [1270.1],\n",
              "       [1295.5],\n",
              "       [1295.5]], dtype=float32)"
            ]
          },
          "metadata": {
            "tags": []
          },
          "execution_count": 133
        }
      ]
    },
    {
      "cell_type": "code",
      "metadata": {
        "id": "hCU2l8kzkNEf",
        "colab_type": "code",
        "outputId": "f7be48df-8085-43b7-be28-1c3411b1e3ce",
        "colab": {
          "base_uri": "https://localhost:8080/",
          "height": 546
        }
      },
      "source": [
        "# The space between the predicted (red) and actual (blue) line is self explanatory for the model tuning and performance.\n",
        "\n",
        "plt.rcParams[\"figure.figsize\"] = (25, 10)\n",
        "plt.plot(testY , 'r', label = 'Actual Price')\n",
        "plt.plot(pred , 'g', label = 'Predicted Price')\n",
        "plt.xlabel('Time')\n",
        "plt.ylabel('Price')\n",
        "plt.title('Check the accuracy of the model with time')\n",
        "plt.legend()\n",
        "plt.grid(True)\n",
        "plt.show()"
      ],
      "execution_count": 134,
      "outputs": [
        {
          "output_type": "display_data",
          "data": {
            "image/png": "[encoded data removed]",
            "text/plain": [
              "<Figure size 1800x720 with 1 Axes>"
            ]
          },
          "metadata": {
            "tags": [],
            "needs_background": "light"
          }
        }
      ]
    },
    {
      "cell_type": "code",
      "metadata": {
        "id": "jfyAg2fvkO3K",
        "colab_type": "code",
        "outputId": "0a8f4400-31b9-4907-efe6-96ab24534e83",
        "colab": {
          "base_uri": "https://localhost:8080/",
          "height": 184
        }
      },
      "source": [
        "testY[-10 : ]"
      ],
      "execution_count": 135,
      "outputs": [
        {
          "output_type": "execute_result",
          "data": {
            "text/plain": [
              "array([[1711.3   ],\n",
              "       [1712.6   ],\n",
              "       [1716.6   ],\n",
              "       [1726.9999],\n",
              "       [1746.5   ],\n",
              "       [1761.1998],\n",
              "       [1768.2999],\n",
              "       [1775.8   ],\n",
              "       [1751.6   ],\n",
              "       [1757.6   ]], dtype=float32)"
            ]
          },
          "metadata": {
            "tags": []
          },
          "execution_count": 135
        }
      ]
    },
    {
      "cell_type": "code",
      "metadata": {
        "id": "X6GffRvakO_R",
        "colab_type": "code",
        "outputId": "47cebdc7-41b6-49ed-b1ae-fc313882e0a7",
        "colab": {
          "base_uri": "https://localhost:8080/",
          "height": 184
        }
      },
      "source": [
        "pred[-10 : ]"
      ],
      "execution_count": 136,
      "outputs": [
        {
          "output_type": "execute_result",
          "data": {
            "text/plain": [
              "array([[1728.8955],\n",
              "       [1717.7405],\n",
              "       [1706.5919],\n",
              "       [1709.2557],\n",
              "       [1716.4836],\n",
              "       [1731.4506],\n",
              "       [1748.4226],\n",
              "       [1759.1958],\n",
              "       [1766.4646],\n",
              "       [1757.8467]], dtype=float32)"
            ]
          },
          "metadata": {
            "tags": []
          },
          "execution_count": 136
        }
      ]
    }
  ]
}
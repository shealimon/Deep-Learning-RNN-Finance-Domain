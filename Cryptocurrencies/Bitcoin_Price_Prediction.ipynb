{
  "nbformat": 4,
  "nbformat_minor": 0,
  "metadata": {
    "colab": {
      "name": "Bitcoin Price Prediction.ipynb",
      "provenance": []
    },
    "kernelspec": {
      "name": "python3",
      "display_name": "Python 3"
    },
    "accelerator": "GPU"
  },
  "cells": [
    {
      "cell_type": "code",
      "metadata": {
        "id": "_ifF3ExwY_zr",
        "colab_type": "code",
        "colab": {}
      },
      "source": [
        "import numpy as np\n",
        "import pandas as pd\n",
        "import matplotlib.pyplot as plt\n",
        "import io"
      ],
      "execution_count": 0,
      "outputs": []
    },
    {
      "cell_type": "code",
      "metadata": {
        "id": "EvcdVdS0ZV1m",
        "colab_type": "code",
        "colab": {
          "resources": {
            "http://localhost:8080/nbextensions/google.colab/files.js": {
              "data": "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",
              "ok": true,
              "headers": [
                [
                  "content-type",
                  "application/javascript"
                ]
              ],
              "status": 200,
              "status_text": ""
            }
          },
          "base_uri": "https://localhost:8080/",
          "height": 91
        },
        "outputId": "cbea5d84-c696-45b1-c87f-83e3394c2c5e"
      },
      "source": [
        "from google.colab import files\n",
        "\n",
        "uploaded = files.upload()\n",
        "\n",
        "for fn in uploaded.keys():\n",
        "  print('User uploaded file \"{name}\" with length {length} bytes'.format(\n",
        "      name = fn, length = len(uploaded[fn])))"
      ],
      "execution_count": 8,
      "outputs": [
        {
          "output_type": "display_data",
          "data": {
            "text/html": [
              "\n",
              "     <input type=\"file\" id=\"files-92fbbaf9-1d07-43d2-86aa-9194ba9d2abe\" name=\"files[]\" multiple disabled />\n",
              "     <output id=\"result-92fbbaf9-1d07-43d2-86aa-9194ba9d2abe\">\n",
              "      Upload widget is only available when the cell has been executed in the\n",
              "      current browser session. Please rerun this cell to enable.\n",
              "      </output>\n",
              "      <script src=\"/nbextensions/google.colab/files.js\"></script> "
            ],
            "text/plain": [
              "<IPython.core.display.HTML object>"
            ]
          },
          "metadata": {
            "tags": []
          }
        },
        {
          "output_type": "stream",
          "text": [
            "Saving BTC-USD.csv to BTC-USD.csv\n",
            "User uploaded file \"BTC-USD.csv\" with length 165035 bytes\n"
          ],
          "name": "stdout"
        }
      ]
    },
    {
      "cell_type": "code",
      "metadata": {
        "id": "0134u0-_Z_5Z",
        "colab_type": "code",
        "colab": {}
      },
      "source": [
        "df = pd.read_csv('BTC-USD.csv')"
      ],
      "execution_count": 0,
      "outputs": []
    },
    {
      "cell_type": "code",
      "metadata": {
        "id": "7SGTnGL1aqoa",
        "colab_type": "code",
        "colab": {
          "base_uri": "https://localhost:8080/",
          "height": 195
        },
        "outputId": "90bf508b-b287-448c-b78e-037cf1bac052"
      },
      "source": [
        "df.head()"
      ],
      "execution_count": 10,
      "outputs": [
        {
          "output_type": "execute_result",
          "data": {
            "text/html": [
              "<div>\n",
              "<style scoped>\n",
              "    .dataframe tbody tr th:only-of-type {\n",
              "        vertical-align: middle;\n",
              "    }\n",
              "\n",
              "    .dataframe tbody tr th {\n",
              "        vertical-align: top;\n",
              "    }\n",
              "\n",
              "    .dataframe thead th {\n",
              "        text-align: right;\n",
              "    }\n",
              "</style>\n",
              "<table border=\"1\" class=\"dataframe\">\n",
              "  <thead>\n",
              "    <tr style=\"text-align: right;\">\n",
              "      <th></th>\n",
              "      <th>Date</th>\n",
              "      <th>Open</th>\n",
              "      <th>High</th>\n",
              "      <th>Low</th>\n",
              "      <th>Close</th>\n",
              "      <th>Adj Close</th>\n",
              "      <th>Volume</th>\n",
              "    </tr>\n",
              "  </thead>\n",
              "  <tbody>\n",
              "    <tr>\n",
              "      <th>0</th>\n",
              "      <td>2014-09-17</td>\n",
              "      <td>465.864014</td>\n",
              "      <td>468.174011</td>\n",
              "      <td>452.421997</td>\n",
              "      <td>457.334015</td>\n",
              "      <td>457.334015</td>\n",
              "      <td>21056800</td>\n",
              "    </tr>\n",
              "    <tr>\n",
              "      <th>1</th>\n",
              "      <td>2014-09-18</td>\n",
              "      <td>456.859985</td>\n",
              "      <td>456.859985</td>\n",
              "      <td>413.104004</td>\n",
              "      <td>424.440002</td>\n",
              "      <td>424.440002</td>\n",
              "      <td>34483200</td>\n",
              "    </tr>\n",
              "    <tr>\n",
              "      <th>2</th>\n",
              "      <td>2014-09-19</td>\n",
              "      <td>424.102997</td>\n",
              "      <td>427.834991</td>\n",
              "      <td>384.532013</td>\n",
              "      <td>394.795990</td>\n",
              "      <td>394.795990</td>\n",
              "      <td>37919700</td>\n",
              "    </tr>\n",
              "    <tr>\n",
              "      <th>3</th>\n",
              "      <td>2014-09-20</td>\n",
              "      <td>394.673004</td>\n",
              "      <td>423.295990</td>\n",
              "      <td>389.882996</td>\n",
              "      <td>408.903992</td>\n",
              "      <td>408.903992</td>\n",
              "      <td>36863600</td>\n",
              "    </tr>\n",
              "    <tr>\n",
              "      <th>4</th>\n",
              "      <td>2014-09-21</td>\n",
              "      <td>408.084991</td>\n",
              "      <td>412.425995</td>\n",
              "      <td>393.181000</td>\n",
              "      <td>398.821014</td>\n",
              "      <td>398.821014</td>\n",
              "      <td>26580100</td>\n",
              "    </tr>\n",
              "  </tbody>\n",
              "</table>\n",
              "</div>"
            ],
            "text/plain": [
              "         Date        Open        High  ...       Close   Adj Close    Volume\n",
              "0  2014-09-17  465.864014  468.174011  ...  457.334015  457.334015  21056800\n",
              "1  2014-09-18  456.859985  456.859985  ...  424.440002  424.440002  34483200\n",
              "2  2014-09-19  424.102997  427.834991  ...  394.795990  394.795990  37919700\n",
              "3  2014-09-20  394.673004  423.295990  ...  408.903992  408.903992  36863600\n",
              "4  2014-09-21  408.084991  412.425995  ...  398.821014  398.821014  26580100\n",
              "\n",
              "[5 rows x 7 columns]"
            ]
          },
          "metadata": {
            "tags": []
          },
          "execution_count": 10
        }
      ]
    },
    {
      "cell_type": "code",
      "metadata": {
        "id": "0fieejQrcGjB",
        "colab_type": "code",
        "colab": {
          "base_uri": "https://localhost:8080/",
          "height": 252
        },
        "outputId": "e9796545-d1ca-4b2b-8b55-8873e0edb723"
      },
      "source": [
        "df.info()"
      ],
      "execution_count": 11,
      "outputs": [
        {
          "output_type": "stream",
          "text": [
            "<class 'pandas.core.frame.DataFrame'>\n",
            "RangeIndex: 2071 entries, 0 to 2070\n",
            "Data columns (total 7 columns):\n",
            " #   Column     Non-Null Count  Dtype  \n",
            "---  ------     --------------  -----  \n",
            " 0   Date       2071 non-null   object \n",
            " 1   Open       2071 non-null   float64\n",
            " 2   High       2071 non-null   float64\n",
            " 3   Low        2071 non-null   float64\n",
            " 4   Close      2071 non-null   float64\n",
            " 5   Adj Close  2071 non-null   float64\n",
            " 6   Volume     2071 non-null   int64  \n",
            "dtypes: float64(5), int64(1), object(1)\n",
            "memory usage: 113.4+ KB\n"
          ],
          "name": "stdout"
        }
      ]
    },
    {
      "cell_type": "code",
      "metadata": {
        "id": "fOEUc4-9dEQE",
        "colab_type": "code",
        "colab": {}
      },
      "source": [
        "group=  df.groupby(\"Date\")\n",
        "data = group[\"Close\"].mean()"
      ],
      "execution_count": 0,
      "outputs": []
    },
    {
      "cell_type": "code",
      "metadata": {
        "id": "I2FzHyzKkLUe",
        "colab_type": "code",
        "colab": {
          "base_uri": "https://localhost:8080/",
          "height": 134
        },
        "outputId": "9639db81-c2ff-42ab-b3ca-923038830d68"
      },
      "source": [
        "data.head()"
      ],
      "execution_count": 13,
      "outputs": [
        {
          "output_type": "execute_result",
          "data": {
            "text/plain": [
              "Date\n",
              "2014-09-17    457.334015\n",
              "2014-09-18    424.440002\n",
              "2014-09-19    394.795990\n",
              "2014-09-20    408.903992\n",
              "2014-09-21    398.821014\n",
              "Name: Close, dtype: float64"
            ]
          },
          "metadata": {
            "tags": []
          },
          "execution_count": 13
        }
      ]
    },
    {
      "cell_type": "code",
      "metadata": {
        "id": "NE4NUZCMibhn",
        "colab_type": "code",
        "colab": {}
      },
      "source": [
        "close_train = data.iloc[:len(data)-50]\n",
        "close_test = data.iloc[len(close_train):]"
      ],
      "execution_count": 0,
      "outputs": []
    },
    {
      "cell_type": "code",
      "metadata": {
        "id": "kf9TMTUBnHKT",
        "colab_type": "code",
        "colab": {}
      },
      "source": [
        "#feature scalling (set values between 0-1)"
      ],
      "execution_count": 0,
      "outputs": []
    },
    {
      "cell_type": "code",
      "metadata": {
        "id": "qRu-iWcdmtVb",
        "colab_type": "code",
        "colab": {}
      },
      "source": [
        "close_train = np.array(close_train)"
      ],
      "execution_count": 0,
      "outputs": []
    },
    {
      "cell_type": "code",
      "metadata": {
        "id": "DURyEbOKm7b-",
        "colab_type": "code",
        "colab": {}
      },
      "source": [
        "close_train = close_train.reshape(close_train.shape[0], 1)"
      ],
      "execution_count": 0,
      "outputs": []
    },
    {
      "cell_type": "code",
      "metadata": {
        "id": "L3M6CovGnB7b",
        "colab_type": "code",
        "colab": {
          "base_uri": "https://localhost:8080/",
          "height": 134
        },
        "outputId": "44a97c95-4452-4d81-e131-2b22b9531176"
      },
      "source": [
        "close_train"
      ],
      "execution_count": 17,
      "outputs": [
        {
          "output_type": "execute_result",
          "data": {
            "text/plain": [
              "array([[ 457.334015],\n",
              "       [ 424.440002],\n",
              "       [ 394.79599 ],\n",
              "       ...,\n",
              "       [6469.79834 ],\n",
              "       [6242.193848],\n",
              "       [5922.042969]])"
            ]
          },
          "metadata": {
            "tags": []
          },
          "execution_count": 17
        }
      ]
    },
    {
      "cell_type": "code",
      "metadata": {
        "id": "5fZi2OK1marS",
        "colab_type": "code",
        "colab": {}
      },
      "source": [
        "from sklearn.preprocessing import MinMaxScaler\n",
        "\n",
        "scaler = MinMaxScaler(feature_range = (0, 1))\n",
        "close_scaled = scaler.fit_transform(close_train)"
      ],
      "execution_count": 0,
      "outputs": []
    },
    {
      "cell_type": "code",
      "metadata": {
        "id": "3INbUqfGnNVO",
        "colab_type": "code",
        "colab": {
          "base_uri": "https://localhost:8080/",
          "height": 50
        },
        "outputId": "298e18fe-48ea-4e23-9dae-f45c6b61f110"
      },
      "source": [
        "timestep = 50\n",
        "x_train = []\n",
        "y_train = []\n",
        "\n",
        "for i in range(timestep, close_scaled.shape[0]):\n",
        "    x_train.append(close_scaled[i-timestep:i,0])\n",
        "    y_train.append(close_scaled[i,0])\n",
        "\n",
        "x_train, y_train = np.array(x_train), np.array(y_train)\n",
        "x_train = x_train.reshape(x_train.shape[0], x_train.shape[1], 1) #reshaped for RNN\n",
        "print(\"x_train shape = \", x_train.shape)\n",
        "print(\"y_train shape = \", y_train.shape)"
      ],
      "execution_count": 19,
      "outputs": [
        {
          "output_type": "stream",
          "text": [
            "x_train shape =  (1971, 50, 1)\n",
            "y_train shape =  (1971,)\n"
          ],
          "name": "stdout"
        }
      ]
    },
    {
      "cell_type": "code",
      "metadata": {
        "id": "cCRBsu4unuNR",
        "colab_type": "code",
        "colab": {}
      },
      "source": [
        "from keras.models import Sequential\n",
        "from keras.layers import Dense, SimpleRNN, Dropout, Flatten"
      ],
      "execution_count": 0,
      "outputs": []
    },
    {
      "cell_type": "code",
      "metadata": {
        "id": "tSC5s4Vfn7GX",
        "colab_type": "code",
        "colab": {}
      },
      "source": [
        "# Build Model\n",
        "\n",
        "model = Sequential()\n",
        "\n",
        "# 1st RNN layer\n",
        "model.add(SimpleRNN(128, activation = 'relu', return_sequences= True, input_shape = (x_train.shape[1], 1)))\n",
        "model.add(Dropout(0.25))\n",
        "\n",
        "# 2nd  RNN layer\n",
        "model.add(SimpleRNN(256, activation = 'relu', return_sequences= True))\n",
        "model.add(Dropout(0.25))\n",
        "\n",
        "# 3rd  RNN layer\n",
        "model.add(SimpleRNN(512, activation = 'relu', return_sequences= True))\n",
        "model.add(Dropout(0.35))\n",
        "\n",
        "# 4th  RNN layer\n",
        "model.add(SimpleRNN(256, activation = 'relu', return_sequences= True))\n",
        "model.add(Dropout(0.25))\n",
        "\n",
        "# 5th  RNN layer\n",
        "model.add(SimpleRNN(128, activation = 'relu', return_sequences= True))\n",
        "model.add(Dropout(0.25))\n",
        "\n",
        "# Convert matrix to 1 = line\n",
        "model.add(Flatten())\n",
        "\n",
        "#output layer\n",
        "model.add(Dense(1))\n"
      ],
      "execution_count": 0,
      "outputs": []
    },
    {
      "cell_type": "code",
      "metadata": {
        "id": "pzg_lwkvprNK",
        "colab_type": "code",
        "colab": {}
      },
      "source": [
        "# Compile model\n",
        "\n",
        "model.compile(optimizer = \"adam\", loss = \"mean_squared_error\", metrics = ['accuracy'])\n"
      ],
      "execution_count": 0,
      "outputs": []
    },
    {
      "cell_type": "code",
      "metadata": {
        "id": "66nawyS2prnT",
        "colab_type": "code",
        "colab": {
          "base_uri": "https://localhost:8080/",
          "height": 1000
        },
        "outputId": "241fc418-a39c-43f6-8095-df3bd0083df4"
      },
      "source": [
        "# Run Model\n",
        "\n",
        "model.fit(x_train, y_train, epochs = 100, batch_size = 64)"
      ],
      "execution_count": 23,
      "outputs": [
        {
          "output_type": "stream",
          "text": [
            "Epoch 1/100\n",
            "1971/1971 [==============================] - 11s 5ms/step - loss: 0.0595\n",
            "Epoch 2/100\n",
            "1971/1971 [==============================] - 8s 4ms/step - loss: 0.0046\n",
            "Epoch 3/100\n",
            "1971/1971 [==============================] - 8s 4ms/step - loss: 0.0032\n",
            "Epoch 4/100\n",
            "1971/1971 [==============================] - 8s 4ms/step - loss: 0.0024\n",
            "Epoch 5/100\n",
            "1971/1971 [==============================] - 8s 4ms/step - loss: 0.0020\n",
            "Epoch 6/100\n",
            "1971/1971 [==============================] - 9s 4ms/step - loss: 0.0019\n",
            "Epoch 7/100\n",
            "1971/1971 [==============================] - 8s 4ms/step - loss: 0.0017\n",
            "Epoch 8/100\n",
            "1971/1971 [==============================] - 8s 4ms/step - loss: 0.0015\n",
            "Epoch 9/100\n",
            "1971/1971 [==============================] - 8s 4ms/step - loss: 0.0015\n",
            "Epoch 10/100\n",
            "1971/1971 [==============================] - 8s 4ms/step - loss: 0.0013\n",
            "Epoch 11/100\n",
            "1971/1971 [==============================] - 8s 4ms/step - loss: 0.0012\n",
            "Epoch 12/100\n",
            "1971/1971 [==============================] - 8s 4ms/step - loss: 0.0012\n",
            "Epoch 13/100\n",
            "1971/1971 [==============================] - 8s 4ms/step - loss: 0.0012\n",
            "Epoch 14/100\n",
            "1971/1971 [==============================] - 8s 4ms/step - loss: 0.0013\n",
            "Epoch 15/100\n",
            "1971/1971 [==============================] - 8s 4ms/step - loss: 0.0012\n",
            "Epoch 16/100\n",
            "1971/1971 [==============================] - 8s 4ms/step - loss: 0.0012\n",
            "Epoch 17/100\n",
            "1971/1971 [==============================] - 8s 4ms/step - loss: 0.0010\n",
            "Epoch 18/100\n",
            "1971/1971 [==============================] - 8s 4ms/step - loss: 9.6278e-04\n",
            "Epoch 19/100\n",
            "1971/1971 [==============================] - 8s 4ms/step - loss: 0.0011\n",
            "Epoch 20/100\n",
            "1971/1971 [==============================] - 8s 4ms/step - loss: 0.0011\n",
            "Epoch 21/100\n",
            "1971/1971 [==============================] - 8s 4ms/step - loss: 0.0012\n",
            "Epoch 22/100\n",
            "1971/1971 [==============================] - 8s 4ms/step - loss: 7.5009e-04\n",
            "Epoch 23/100\n",
            "1971/1971 [==============================] - 8s 4ms/step - loss: 9.6214e-04\n",
            "Epoch 24/100\n",
            "1971/1971 [==============================] - 8s 4ms/step - loss: 9.4202e-04\n",
            "Epoch 25/100\n",
            "1971/1971 [==============================] - 8s 4ms/step - loss: 9.2537e-04\n",
            "Epoch 26/100\n",
            "1971/1971 [==============================] - 8s 4ms/step - loss: 8.8761e-04\n",
            "Epoch 27/100\n",
            "1971/1971 [==============================] - 8s 4ms/step - loss: 9.3145e-04\n",
            "Epoch 28/100\n",
            "1971/1971 [==============================] - 8s 4ms/step - loss: 8.7565e-04\n",
            "Epoch 29/100\n",
            "1971/1971 [==============================] - 8s 4ms/step - loss: 8.3531e-04\n",
            "Epoch 30/100\n",
            "1971/1971 [==============================] - 9s 4ms/step - loss: 9.2394e-04\n",
            "Epoch 31/100\n",
            "1971/1971 [==============================] - 9s 4ms/step - loss: 7.6538e-04\n",
            "Epoch 32/100\n",
            "1971/1971 [==============================] - 8s 4ms/step - loss: 8.4591e-04\n",
            "Epoch 33/100\n",
            "1971/1971 [==============================] - 8s 4ms/step - loss: 7.4205e-04\n",
            "Epoch 34/100\n",
            "1971/1971 [==============================] - 8s 4ms/step - loss: 7.7212e-04\n",
            "Epoch 35/100\n",
            "1971/1971 [==============================] - 9s 4ms/step - loss: 6.9406e-04\n",
            "Epoch 36/100\n",
            "1971/1971 [==============================] - 8s 4ms/step - loss: 6.6284e-04\n",
            "Epoch 37/100\n",
            "1971/1971 [==============================] - 8s 4ms/step - loss: 6.6555e-04\n",
            "Epoch 38/100\n",
            "1971/1971 [==============================] - 8s 4ms/step - loss: 7.0356e-04\n",
            "Epoch 39/100\n",
            "1971/1971 [==============================] - 8s 4ms/step - loss: 7.2963e-04\n",
            "Epoch 40/100\n",
            "1971/1971 [==============================] - 8s 4ms/step - loss: 8.7999e-04\n",
            "Epoch 41/100\n",
            "1971/1971 [==============================] - 8s 4ms/step - loss: 0.0010\n",
            "Epoch 42/100\n",
            "1971/1971 [==============================] - 8s 4ms/step - loss: 0.0010\n",
            "Epoch 43/100\n",
            "1971/1971 [==============================] - 8s 4ms/step - loss: 9.0215e-04\n",
            "Epoch 44/100\n",
            "1971/1971 [==============================] - 8s 4ms/step - loss: 7.0715e-04\n",
            "Epoch 45/100\n",
            "1971/1971 [==============================] - 8s 4ms/step - loss: 6.4380e-04\n",
            "Epoch 46/100\n",
            "1971/1971 [==============================] - 8s 4ms/step - loss: 6.9664e-04\n",
            "Epoch 47/100\n",
            "1971/1971 [==============================] - 8s 4ms/step - loss: 6.1553e-04\n",
            "Epoch 48/100\n",
            "1971/1971 [==============================] - 8s 4ms/step - loss: 6.2755e-04\n",
            "Epoch 49/100\n",
            "1971/1971 [==============================] - 8s 4ms/step - loss: 6.1917e-04\n",
            "Epoch 50/100\n",
            "1971/1971 [==============================] - 8s 4ms/step - loss: 6.6392e-04\n",
            "Epoch 51/100\n",
            "1971/1971 [==============================] - 8s 4ms/step - loss: 5.6221e-04\n",
            "Epoch 52/100\n",
            "1971/1971 [==============================] - 8s 4ms/step - loss: 6.0553e-04\n",
            "Epoch 53/100\n",
            "1971/1971 [==============================] - 8s 4ms/step - loss: 6.8922e-04\n",
            "Epoch 54/100\n",
            "1971/1971 [==============================] - 8s 4ms/step - loss: 7.2354e-04\n",
            "Epoch 55/100\n",
            "1971/1971 [==============================] - 8s 4ms/step - loss: 6.6334e-04\n",
            "Epoch 56/100\n",
            "1971/1971 [==============================] - 8s 4ms/step - loss: 6.6318e-04\n",
            "Epoch 57/100\n",
            "1971/1971 [==============================] - 8s 4ms/step - loss: 5.8353e-04\n",
            "Epoch 58/100\n",
            "1971/1971 [==============================] - 8s 4ms/step - loss: 5.7784e-04\n",
            "Epoch 59/100\n",
            "1971/1971 [==============================] - 8s 4ms/step - loss: 5.9741e-04\n",
            "Epoch 60/100\n",
            "1971/1971 [==============================] - 8s 4ms/step - loss: 5.2789e-04\n",
            "Epoch 61/100\n",
            "1971/1971 [==============================] - 8s 4ms/step - loss: 5.6427e-04\n",
            "Epoch 62/100\n",
            "1971/1971 [==============================] - 8s 4ms/step - loss: 6.5509e-04\n",
            "Epoch 63/100\n",
            "1971/1971 [==============================] - 8s 4ms/step - loss: 6.8346e-04\n",
            "Epoch 64/100\n",
            "1971/1971 [==============================] - 8s 4ms/step - loss: 6.5326e-04\n",
            "Epoch 65/100\n",
            "1971/1971 [==============================] - 8s 4ms/step - loss: 6.5044e-04\n",
            "Epoch 66/100\n",
            "1971/1971 [==============================] - 8s 4ms/step - loss: 5.7902e-04\n",
            "Epoch 67/100\n",
            "1971/1971 [==============================] - 8s 4ms/step - loss: 5.5830e-04\n",
            "Epoch 68/100\n",
            "1971/1971 [==============================] - 8s 4ms/step - loss: 6.0517e-04\n",
            "Epoch 69/100\n",
            "1971/1971 [==============================] - 8s 4ms/step - loss: 5.7522e-04\n",
            "Epoch 70/100\n",
            "1971/1971 [==============================] - 8s 4ms/step - loss: 5.4192e-04\n",
            "Epoch 71/100\n",
            "1971/1971 [==============================] - 8s 4ms/step - loss: 5.7205e-04\n",
            "Epoch 72/100\n",
            "1971/1971 [==============================] - 8s 4ms/step - loss: 5.7761e-04\n",
            "Epoch 73/100\n",
            "1971/1971 [==============================] - 8s 4ms/step - loss: 5.4773e-04\n",
            "Epoch 74/100\n",
            "1971/1971 [==============================] - 8s 4ms/step - loss: 6.7290e-04\n",
            "Epoch 75/100\n",
            "1971/1971 [==============================] - 8s 4ms/step - loss: 5.2921e-04\n",
            "Epoch 76/100\n",
            "1971/1971 [==============================] - 8s 4ms/step - loss: 5.6665e-04\n",
            "Epoch 77/100\n",
            "1971/1971 [==============================] - 8s 4ms/step - loss: 5.4661e-04\n",
            "Epoch 78/100\n",
            "1971/1971 [==============================] - 8s 4ms/step - loss: 6.2285e-04\n",
            "Epoch 79/100\n",
            "1971/1971 [==============================] - 8s 4ms/step - loss: 5.9492e-04\n",
            "Epoch 80/100\n",
            "1971/1971 [==============================] - 8s 4ms/step - loss: 6.5873e-04\n",
            "Epoch 81/100\n",
            "1971/1971 [==============================] - 8s 4ms/step - loss: 7.4841e-04\n",
            "Epoch 82/100\n",
            "1971/1971 [==============================] - 8s 4ms/step - loss: 7.8197e-04\n",
            "Epoch 83/100\n",
            "1971/1971 [==============================] - 8s 4ms/step - loss: 5.8767e-04\n",
            "Epoch 84/100\n",
            "1971/1971 [==============================] - 8s 4ms/step - loss: 6.2169e-04\n",
            "Epoch 85/100\n",
            "1971/1971 [==============================] - 8s 4ms/step - loss: 5.0406e-04\n",
            "Epoch 86/100\n",
            "1971/1971 [==============================] - 8s 4ms/step - loss: 5.3586e-04\n",
            "Epoch 87/100\n",
            "1971/1971 [==============================] - 8s 4ms/step - loss: 6.0486e-04\n",
            "Epoch 88/100\n",
            "1971/1971 [==============================] - 8s 4ms/step - loss: 7.4437e-04\n",
            "Epoch 89/100\n",
            "1971/1971 [==============================] - 8s 4ms/step - loss: 6.5768e-04\n",
            "Epoch 90/100\n",
            "1971/1971 [==============================] - 8s 4ms/step - loss: 5.8733e-04\n",
            "Epoch 91/100\n",
            "1971/1971 [==============================] - 8s 4ms/step - loss: 8.1125e-04\n",
            "Epoch 92/100\n",
            "1971/1971 [==============================] - 8s 4ms/step - loss: 7.8362e-04\n",
            "Epoch 93/100\n",
            "1971/1971 [==============================] - 8s 4ms/step - loss: 5.1183e-04\n",
            "Epoch 94/100\n",
            "1971/1971 [==============================] - 8s 4ms/step - loss: 5.8378e-04\n",
            "Epoch 95/100\n",
            "1971/1971 [==============================] - 8s 4ms/step - loss: 5.6902e-04\n",
            "Epoch 96/100\n",
            "1971/1971 [==============================] - 8s 4ms/step - loss: 5.4790e-04\n",
            "Epoch 97/100\n",
            "1971/1971 [==============================] - 8s 4ms/step - loss: 5.9285e-04\n",
            "Epoch 98/100\n",
            "1971/1971 [==============================] - 8s 4ms/step - loss: 5.8210e-04\n",
            "Epoch 99/100\n",
            "1971/1971 [==============================] - 8s 4ms/step - loss: 4.9688e-04\n",
            "Epoch 100/100\n",
            "1971/1971 [==============================] - 8s 4ms/step - loss: 4.8622e-04\n"
          ],
          "name": "stdout"
        },
        {
          "output_type": "execute_result",
          "data": {
            "text/plain": [
              "<keras.callbacks.callbacks.History at 0x7f34c0e8f7b8>"
            ]
          },
          "metadata": {
            "tags": []
          },
          "execution_count": 23
        }
      ]
    },
    {
      "cell_type": "code",
      "metadata": {
        "id": "lnXarIDbrr1F",
        "colab_type": "code",
        "colab": {}
      },
      "source": [
        "inputs = data[len(data) - len(close_test) - timestep:]\n",
        "inputs = inputs.values.reshape(-1, 1)\n",
        "inputs = scaler.transform(inputs)"
      ],
      "execution_count": 0,
      "outputs": []
    },
    {
      "cell_type": "code",
      "metadata": {
        "id": "jGMFOSnZrsBS",
        "colab_type": "code",
        "colab": {}
      },
      "source": [
        "x_test = []\n",
        "for i in range(timestep, inputs.shape[0]):\n",
        "    x_test.append(inputs[i-timestep:i,0])\n",
        "x_test = np.array(x_test)\n",
        "x_test = x_test.reshape(x_test.shape[0], x_test.shape[1], 1)"
      ],
      "execution_count": 0,
      "outputs": []
    },
    {
      "cell_type": "code",
      "metadata": {
        "id": "Q-U5AEbkrwsn",
        "colab_type": "code",
        "colab": {}
      },
      "source": [
        "predicted_data = model.predict(x_test)\n",
        "predicted_data = scaler.inverse_transform(predicted_data)"
      ],
      "execution_count": 0,
      "outputs": []
    },
    {
      "cell_type": "code",
      "metadata": {
        "id": "izJcu3Xdr3X8",
        "colab_type": "code",
        "colab": {}
      },
      "source": [
        "data_test = np.array(close_test)\n",
        "data_test = data_test.reshape(len(data_test), 1)"
      ],
      "execution_count": 0,
      "outputs": []
    },
    {
      "cell_type": "code",
      "metadata": {
        "id": "JPoW8Ksbr3ii",
        "colab_type": "code",
        "colab": {
          "base_uri": "https://localhost:8080/",
          "height": 306
        },
        "outputId": "3cc80f2e-aef1-4ae6-800b-3eb40a006686"
      },
      "source": [
        "plt.figure(figsize = (8, 4), dpi = 80, facecolor = 'w', edgecolor = 'k')\n",
        "plt.plot(data_test, color = \"r\", label = \"original price\")\n",
        "plt.plot(predicted_data, color = \"b\", label = \"predicted price\")\n",
        "plt.legend()\n",
        "plt.xlabel(\"Time(50 days)\")\n",
        "plt.ylabel(\"Close price\")\n",
        "plt.grid(True)\n",
        "plt.show()"
      ],
      "execution_count": 28,
      "outputs": [
        {
          "output_type": "display_data",
          "data": {
            "image/png": "[encoded data removed]",
            "text/plain": [
              "<Figure size 640x320 with 1 Axes>"
            ]
          },
          "metadata": {
            "tags": []
          }
        }
      ]
    },
    {
      "cell_type": "markdown",
      "metadata": {
        "id": "IW-OfBe1B8AJ",
        "colab_type": "text"
      },
      "source": [
        "# LSTM"
      ]
    },
    {
      "cell_type": "code",
      "metadata": {
        "id": "OAyIvQIpCxXF",
        "colab_type": "code",
        "colab": {}
      },
      "source": [
        "from sklearn.metrics import mean_absolute_error\n",
        "from keras.models import Sequential\n",
        "from keras.layers import Dense, LSTM, Dropout, Flatten"
      ],
      "execution_count": 0,
      "outputs": []
    },
    {
      "cell_type": "code",
      "metadata": {
        "id": "VDsCEcOCB4Cp",
        "colab_type": "code",
        "colab": {}
      },
      "source": [
        "# Build LSTM Model \n",
        "\n",
        "model = Sequential()\n",
        "\n",
        "model.add(LSTM(10, input_shape = (None, 1), activation = \"relu\"))\n",
        "\n",
        "model.add(Dense(1))"
      ],
      "execution_count": 0,
      "outputs": []
    },
    {
      "cell_type": "code",
      "metadata": {
        "id": "HNz6k9heCE7Y",
        "colab_type": "code",
        "colab": {}
      },
      "source": [
        "# Compile Model\n",
        "\n",
        "model.compile(loss = \"mean_squared_error\", optimizer = \"adam\", metrics = ['accuracy'])"
      ],
      "execution_count": 0,
      "outputs": []
    },
    {
      "cell_type": "code",
      "metadata": {
        "id": "VuLj8tK7Cs8S",
        "colab_type": "code",
        "colab": {
          "base_uri": "https://localhost:8080/",
          "height": 1000
        },
        "outputId": "9cc9e66a-fe6a-434c-e56c-f09f408bf0ce"
      },
      "source": [
        "# Run Model\n",
        "\n",
        "model.fit(x_train, y_train, epochs=100, batch_size = 32)"
      ],
      "execution_count": 32,
      "outputs": [
        {
          "output_type": "stream",
          "text": [
            "Epoch 1/100\n",
            "1971/1971 [==============================] - 10s 5ms/step - loss: 0.0761 - accuracy: 5.0736e-04\n",
            "Epoch 2/100\n",
            "1971/1971 [==============================] - 10s 5ms/step - loss: 0.0320 - accuracy: 5.0736e-04\n",
            "Epoch 3/100\n",
            "1971/1971 [==============================] - 10s 5ms/step - loss: 0.0140 - accuracy: 5.0736e-04\n",
            "Epoch 4/100\n",
            "1971/1971 [==============================] - 9s 5ms/step - loss: 0.0093 - accuracy: 0.0010\n",
            "Epoch 5/100\n",
            "1971/1971 [==============================] - 9s 5ms/step - loss: 0.0050 - accuracy: 0.0010\n",
            "Epoch 6/100\n",
            "1971/1971 [==============================] - 9s 5ms/step - loss: 0.0025 - accuracy: 0.0010\n",
            "Epoch 7/100\n",
            "1971/1971 [==============================] - 9s 5ms/step - loss: 0.0015 - accuracy: 0.0010\n",
            "Epoch 8/100\n",
            "1971/1971 [==============================] - 9s 5ms/step - loss: 0.0012 - accuracy: 0.0010\n",
            "Epoch 9/100\n",
            "1971/1971 [==============================] - 9s 5ms/step - loss: 9.5661e-04 - accuracy: 0.0010\n",
            "Epoch 10/100\n",
            "1971/1971 [==============================] - 10s 5ms/step - loss: 8.9305e-04 - accuracy: 0.0010\n",
            "Epoch 11/100\n",
            "1971/1971 [==============================] - 9s 5ms/step - loss: 8.6207e-04 - accuracy: 0.0010\n",
            "Epoch 12/100\n",
            "1971/1971 [==============================] - 9s 5ms/step - loss: 7.8095e-04 - accuracy: 0.0010\n",
            "Epoch 13/100\n",
            "1971/1971 [==============================] - 9s 5ms/step - loss: 7.4506e-04 - accuracy: 0.0010\n",
            "Epoch 14/100\n",
            "1971/1971 [==============================] - 9s 5ms/step - loss: 6.9713e-04 - accuracy: 0.0010\n",
            "Epoch 15/100\n",
            "1971/1971 [==============================] - 9s 5ms/step - loss: 7.0799e-04 - accuracy: 0.0010\n",
            "Epoch 16/100\n",
            "1971/1971 [==============================] - 9s 5ms/step - loss: 6.6907e-04 - accuracy: 0.0010\n",
            "Epoch 17/100\n",
            "1971/1971 [==============================] - 10s 5ms/step - loss: 6.2844e-04 - accuracy: 0.0010\n",
            "Epoch 18/100\n",
            "1971/1971 [==============================] - 9s 5ms/step - loss: 6.2632e-04 - accuracy: 0.0010\n",
            "Epoch 19/100\n",
            "1971/1971 [==============================] - 9s 5ms/step - loss: 6.3123e-04 - accuracy: 0.0010\n",
            "Epoch 20/100\n",
            "1971/1971 [==============================] - 9s 5ms/step - loss: 5.8311e-04 - accuracy: 0.0010\n",
            "Epoch 21/100\n",
            "1971/1971 [==============================] - 9s 5ms/step - loss: 5.6029e-04 - accuracy: 0.0010\n",
            "Epoch 22/100\n",
            "1971/1971 [==============================] - 9s 5ms/step - loss: 5.6354e-04 - accuracy: 0.0010\n",
            "Epoch 23/100\n",
            "1971/1971 [==============================] - 9s 5ms/step - loss: 5.3493e-04 - accuracy: 0.0010\n",
            "Epoch 24/100\n",
            "1971/1971 [==============================] - 9s 5ms/step - loss: 5.2169e-04 - accuracy: 0.0010\n",
            "Epoch 25/100\n",
            "1971/1971 [==============================] - 9s 5ms/step - loss: 5.0480e-04 - accuracy: 0.0010\n",
            "Epoch 26/100\n",
            "1971/1971 [==============================] - 10s 5ms/step - loss: 4.9250e-04 - accuracy: 0.0010\n",
            "Epoch 27/100\n",
            "1971/1971 [==============================] - 9s 5ms/step - loss: 4.8321e-04 - accuracy: 0.0010\n",
            "Epoch 28/100\n",
            "1971/1971 [==============================] - 9s 5ms/step - loss: 4.7164e-04 - accuracy: 0.0010\n",
            "Epoch 29/100\n",
            "1971/1971 [==============================] - 10s 5ms/step - loss: 4.6827e-04 - accuracy: 0.0010\n",
            "Epoch 30/100\n",
            "1971/1971 [==============================] - 10s 5ms/step - loss: 4.5810e-04 - accuracy: 0.0010\n",
            "Epoch 31/100\n",
            "1971/1971 [==============================] - 10s 5ms/step - loss: 4.4215e-04 - accuracy: 0.0010\n",
            "Epoch 32/100\n",
            "1971/1971 [==============================] - 9s 5ms/step - loss: 4.4285e-04 - accuracy: 0.0010\n",
            "Epoch 33/100\n",
            "1971/1971 [==============================] - 9s 5ms/step - loss: 4.3599e-04 - accuracy: 0.0010\n",
            "Epoch 34/100\n",
            "1971/1971 [==============================] - 9s 5ms/step - loss: 4.0881e-04 - accuracy: 0.0010\n",
            "Epoch 35/100\n",
            "1971/1971 [==============================] - 9s 5ms/step - loss: 4.0262e-04 - accuracy: 0.0010\n",
            "Epoch 36/100\n",
            "1971/1971 [==============================] - 9s 5ms/step - loss: 4.0904e-04 - accuracy: 0.0010\n",
            "Epoch 37/100\n",
            "1971/1971 [==============================] - 9s 5ms/step - loss: 3.9650e-04 - accuracy: 0.0010\n",
            "Epoch 38/100\n",
            "1971/1971 [==============================] - 9s 5ms/step - loss: 3.9676e-04 - accuracy: 0.0010\n",
            "Epoch 39/100\n",
            "1971/1971 [==============================] - 9s 5ms/step - loss: 3.8881e-04 - accuracy: 0.0010\n",
            "Epoch 40/100\n",
            "1971/1971 [==============================] - 9s 5ms/step - loss: 4.0617e-04 - accuracy: 0.0010\n",
            "Epoch 41/100\n",
            "1971/1971 [==============================] - 9s 5ms/step - loss: 3.8025e-04 - accuracy: 0.0010\n",
            "Epoch 42/100\n",
            "1971/1971 [==============================] - 10s 5ms/step - loss: 3.7643e-04 - accuracy: 0.0010\n",
            "Epoch 43/100\n",
            "1971/1971 [==============================] - 9s 5ms/step - loss: 3.7102e-04 - accuracy: 0.0010\n",
            "Epoch 44/100\n",
            "1971/1971 [==============================] - 9s 5ms/step - loss: 3.7851e-04 - accuracy: 0.0010\n",
            "Epoch 45/100\n",
            "1971/1971 [==============================] - 9s 5ms/step - loss: 3.5309e-04 - accuracy: 0.0010\n",
            "Epoch 46/100\n",
            "1971/1971 [==============================] - 9s 5ms/step - loss: 3.5209e-04 - accuracy: 0.0010\n",
            "Epoch 47/100\n",
            "1971/1971 [==============================] - 10s 5ms/step - loss: 3.5934e-04 - accuracy: 0.0010\n",
            "Epoch 48/100\n",
            "1971/1971 [==============================] - 9s 5ms/step - loss: 3.6457e-04 - accuracy: 0.0010\n",
            "Epoch 49/100\n",
            "1971/1971 [==============================] - 10s 5ms/step - loss: 3.5522e-04 - accuracy: 0.0010\n",
            "Epoch 50/100\n",
            "1971/1971 [==============================] - 10s 5ms/step - loss: 3.4086e-04 - accuracy: 0.0010\n",
            "Epoch 51/100\n",
            "1971/1971 [==============================] - 9s 5ms/step - loss: 3.3308e-04 - accuracy: 0.0010\n",
            "Epoch 52/100\n",
            "1971/1971 [==============================] - 9s 5ms/step - loss: 3.5118e-04 - accuracy: 0.0010\n",
            "Epoch 53/100\n",
            "1971/1971 [==============================] - 9s 5ms/step - loss: 3.2126e-04 - accuracy: 0.0010\n",
            "Epoch 54/100\n",
            "1971/1971 [==============================] - 9s 5ms/step - loss: 3.1553e-04 - accuracy: 0.0010\n",
            "Epoch 55/100\n",
            "1971/1971 [==============================] - 10s 5ms/step - loss: 3.2632e-04 - accuracy: 0.0010\n",
            "Epoch 56/100\n",
            "1971/1971 [==============================] - 10s 5ms/step - loss: 3.1450e-04 - accuracy: 0.0010\n",
            "Epoch 57/100\n",
            "1971/1971 [==============================] - 9s 5ms/step - loss: 3.1733e-04 - accuracy: 0.0010\n",
            "Epoch 58/100\n",
            "1971/1971 [==============================] - 10s 5ms/step - loss: 3.0562e-04 - accuracy: 0.0010\n",
            "Epoch 59/100\n",
            "1971/1971 [==============================] - 10s 5ms/step - loss: 3.1700e-04 - accuracy: 0.0010\n",
            "Epoch 60/100\n",
            "1971/1971 [==============================] - 9s 5ms/step - loss: 3.0535e-04 - accuracy: 0.0010\n",
            "Epoch 61/100\n",
            "1971/1971 [==============================] - 9s 5ms/step - loss: 3.1071e-04 - accuracy: 0.0010\n",
            "Epoch 62/100\n",
            "1971/1971 [==============================] - 10s 5ms/step - loss: 2.9613e-04 - accuracy: 0.0010\n",
            "Epoch 63/100\n",
            "1971/1971 [==============================] - 10s 5ms/step - loss: 2.9720e-04 - accuracy: 0.0010\n",
            "Epoch 64/100\n",
            "1971/1971 [==============================] - 10s 5ms/step - loss: 2.8925e-04 - accuracy: 0.0010\n",
            "Epoch 65/100\n",
            "1971/1971 [==============================] - 9s 5ms/step - loss: 2.9168e-04 - accuracy: 0.0010\n",
            "Epoch 66/100\n",
            "1971/1971 [==============================] - 9s 5ms/step - loss: 3.0517e-04 - accuracy: 0.0010\n",
            "Epoch 67/100\n",
            "1971/1971 [==============================] - 9s 5ms/step - loss: 2.9284e-04 - accuracy: 0.0010\n",
            "Epoch 68/100\n",
            "1971/1971 [==============================] - 9s 5ms/step - loss: 2.7880e-04 - accuracy: 0.0010\n",
            "Epoch 69/100\n",
            "1971/1971 [==============================] - 9s 5ms/step - loss: 2.7524e-04 - accuracy: 0.0010\n",
            "Epoch 70/100\n",
            "1971/1971 [==============================] - 9s 5ms/step - loss: 2.8103e-04 - accuracy: 0.0010\n",
            "Epoch 71/100\n",
            "1971/1971 [==============================] - 9s 5ms/step - loss: 2.8087e-04 - accuracy: 0.0010\n",
            "Epoch 72/100\n",
            "1971/1971 [==============================] - 9s 5ms/step - loss: 2.7144e-04 - accuracy: 0.0010\n",
            "Epoch 73/100\n",
            "1971/1971 [==============================] - 9s 5ms/step - loss: 2.9239e-04 - accuracy: 0.0010\n",
            "Epoch 74/100\n",
            "1971/1971 [==============================] - 9s 5ms/step - loss: 2.8829e-04 - accuracy: 0.0010\n",
            "Epoch 75/100\n",
            "1971/1971 [==============================] - 9s 5ms/step - loss: 2.6978e-04 - accuracy: 0.0010\n",
            "Epoch 76/100\n",
            "1971/1971 [==============================] - 9s 5ms/step - loss: 2.8960e-04 - accuracy: 0.0010\n",
            "Epoch 77/100\n",
            "1971/1971 [==============================] - 9s 5ms/step - loss: 2.9725e-04 - accuracy: 0.0010\n",
            "Epoch 78/100\n",
            "1971/1971 [==============================] - 9s 5ms/step - loss: 2.7236e-04 - accuracy: 0.0010\n",
            "Epoch 79/100\n",
            "1971/1971 [==============================] - 9s 5ms/step - loss: 2.8132e-04 - accuracy: 0.0010\n",
            "Epoch 80/100\n",
            "1971/1971 [==============================] - 9s 5ms/step - loss: 2.7170e-04 - accuracy: 0.0010\n",
            "Epoch 81/100\n",
            "1971/1971 [==============================] - 9s 5ms/step - loss: 2.7813e-04 - accuracy: 0.0010\n",
            "Epoch 82/100\n",
            "1971/1971 [==============================] - 9s 5ms/step - loss: 2.7531e-04 - accuracy: 0.0010\n",
            "Epoch 83/100\n",
            "1971/1971 [==============================] - 9s 5ms/step - loss: 2.7692e-04 - accuracy: 0.0010\n",
            "Epoch 84/100\n",
            "1971/1971 [==============================] - 9s 5ms/step - loss: 2.7413e-04 - accuracy: 0.0010\n",
            "Epoch 85/100\n",
            "1971/1971 [==============================] - 9s 5ms/step - loss: 2.6039e-04 - accuracy: 0.0010\n",
            "Epoch 86/100\n",
            "1971/1971 [==============================] - 9s 5ms/step - loss: 2.6545e-04 - accuracy: 0.0010\n",
            "Epoch 87/100\n",
            "1971/1971 [==============================] - 9s 5ms/step - loss: 2.6414e-04 - accuracy: 0.0010\n",
            "Epoch 88/100\n",
            "1971/1971 [==============================] - 9s 5ms/step - loss: 2.6164e-04 - accuracy: 0.0010\n",
            "Epoch 89/100\n",
            "1971/1971 [==============================] - 9s 5ms/step - loss: 2.5763e-04 - accuracy: 0.0010\n",
            "Epoch 90/100\n",
            "1971/1971 [==============================] - 9s 5ms/step - loss: 2.7087e-04 - accuracy: 0.0010\n",
            "Epoch 91/100\n",
            "1971/1971 [==============================] - 10s 5ms/step - loss: 2.6380e-04 - accuracy: 0.0010\n",
            "Epoch 92/100\n",
            "1971/1971 [==============================] - 9s 5ms/step - loss: 2.6049e-04 - accuracy: 0.0010\n",
            "Epoch 93/100\n",
            "1971/1971 [==============================] - 9s 5ms/step - loss: 2.5963e-04 - accuracy: 0.0010\n",
            "Epoch 94/100\n",
            "1971/1971 [==============================] - 9s 5ms/step - loss: 2.6865e-04 - accuracy: 0.0010\n",
            "Epoch 95/100\n",
            "1971/1971 [==============================] - 10s 5ms/step - loss: 2.5718e-04 - accuracy: 0.0010\n",
            "Epoch 96/100\n",
            "1971/1971 [==============================] - 9s 5ms/step - loss: 2.6984e-04 - accuracy: 0.0010\n",
            "Epoch 97/100\n",
            "1971/1971 [==============================] - 9s 5ms/step - loss: 2.7033e-04 - accuracy: 0.0010\n",
            "Epoch 98/100\n",
            "1971/1971 [==============================] - 9s 5ms/step - loss: 3.0171e-04 - accuracy: 0.0010\n",
            "Epoch 99/100\n",
            "1971/1971 [==============================] - 9s 5ms/step - loss: 2.5697e-04 - accuracy: 0.0010\n",
            "Epoch 100/100\n",
            "1971/1971 [==============================] - 9s 5ms/step - loss: 2.6188e-04 - accuracy: 0.0010\n"
          ],
          "name": "stdout"
        },
        {
          "output_type": "execute_result",
          "data": {
            "text/plain": [
              "<keras.callbacks.callbacks.History at 0x7f34c03ba320>"
            ]
          },
          "metadata": {
            "tags": []
          },
          "execution_count": 32
        }
      ]
    },
    {
      "cell_type": "code",
      "metadata": {
        "id": "zezbUjIlK4Kt",
        "colab_type": "code",
        "colab": {}
      },
      "source": [
        "inputs=data[len(data)-len(close_test)-timestep:]\n",
        "inputs=inputs.values.reshape(-1,1)\n",
        "inputs=scaler.transform(inputs)"
      ],
      "execution_count": 0,
      "outputs": []
    },
    {
      "cell_type": "code",
      "metadata": {
        "id": "R0fovKlIK-kV",
        "colab_type": "code",
        "colab": {}
      },
      "source": [
        "x_test=[]\n",
        "for i in range(timestep,inputs.shape[0]):\n",
        "    x_test.append(inputs[i-timestep:i,0])\n",
        "x_test=np.array(x_test)\n",
        "x_test=x_test.reshape(x_test.shape[0],x_test.shape[1],1)"
      ],
      "execution_count": 0,
      "outputs": []
    },
    {
      "cell_type": "code",
      "metadata": {
        "id": "tmowp0PKK-yP",
        "colab_type": "code",
        "colab": {}
      },
      "source": [
        "predicted_data = model.predict(x_test)\n",
        "predicted_data=scaler.inverse_transform(predicted_data)"
      ],
      "execution_count": 0,
      "outputs": []
    },
    {
      "cell_type": "code",
      "metadata": {
        "id": "x-3jMKDDLEZv",
        "colab_type": "code",
        "colab": {}
      },
      "source": [
        "data_test=np.array(close_test)\n",
        "data_test=data_test.reshape(len(data_test),1)"
      ],
      "execution_count": 0,
      "outputs": []
    },
    {
      "cell_type": "code",
      "metadata": {
        "id": "rbqeuc7ILEfb",
        "colab_type": "code",
        "colab": {
          "base_uri": "https://localhost:8080/",
          "height": 306
        },
        "outputId": "d6944e2b-1951-47db-8773-d3b7683921df"
      },
      "source": [
        "plt.figure(figsize = (8, 4), dpi = 80, facecolor = 'w', edgecolor = 'k')\n",
        "plt.plot(data_test, color = \"r\", label = \"Original Price\")\n",
        "plt.plot(predicted_data, color = \"b\", label = \"Predicted Price\")\n",
        "plt.legend()\n",
        "plt.xlabel(\"Time(50 days)\")\n",
        "plt.ylabel(\"Close Price\")\n",
        "plt.grid(True)\n",
        "plt.show()"
      ],
      "execution_count": 38,
      "outputs": [
        {
          "output_type": "display_data",
          "data": {
            "image/png": "[encoded data removed]",
            "text/plain": [
              "<Figure size 640x320 with 1 Axes>"
            ]
          },
          "metadata": {
            "tags": []
          }
        }
      ]
    }
  ]
}